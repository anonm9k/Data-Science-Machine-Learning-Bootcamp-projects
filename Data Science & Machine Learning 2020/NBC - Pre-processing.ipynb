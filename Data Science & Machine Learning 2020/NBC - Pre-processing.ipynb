{
 "cells": [
  {
   "cell_type": "markdown",
   "metadata": {},
   "source": [
    "# Notebook Imports"
   ]
  },
  {
   "cell_type": "code",
   "execution_count": 121,
   "metadata": {},
   "outputs": [],
   "source": [
    "from os import walk\n",
    "from os.path import join\n",
    "\n",
    "import pandas as pd\n",
    "import matplotlib.pyplot as plt\n",
    "import numpy as np\n",
    "\n",
    "import nltk\n",
    "from nltk.stem import PorterStemmer\n",
    "from nltk.stem import SnowballStemmer\n",
    "from nltk.corpus import stopwords\n",
    "from nltk.tokenize import word_tokenize\n",
    "\n",
    "from bs4 import BeautifulSoup\n",
    "\n",
    "from sklearn.model_selection import train_test_split\n",
    "\n",
    "from wordcloud import WordCloud"
   ]
  },
  {
   "cell_type": "markdown",
   "metadata": {},
   "source": [
    "# Constants"
   ]
  },
  {
   "cell_type": "code",
   "execution_count": 122,
   "metadata": {},
   "outputs": [],
   "source": [
    "EXAMPLE_FILE = 'SpamData/01_Processing/practice_email.txt'\n",
    "\n",
    "SPAM_1_PATH = 'SpamData/01_Processing/spam_assassin_corpus/spam_1'\n",
    "SPAM_2_PATH = 'SpamData/01_Processing/spam_assassin_corpus/spam_2'\n",
    "EASY_NONSPAM_1_PATH = 'SpamData/01_Processing/spam_assassin_corpus/easy_ham_1'\n",
    "EASY_NONSPAM_2_PATH = 'SpamData/01_Processing/spam_assassin_corpus/easy_ham_2'\n",
    "\n",
    "SPAM_CAT = 1\n",
    "HAM_CAT = 0\n",
    "VOCAB_SIZE = 2500\n",
    "\n",
    "DATA_JSON_FILE = 'SpamData/01_Processing/email-text-data.json'\n",
    "WORD_ID_FILE = 'SpamData/01_Processing/word-by-id.csv'\n",
    "\n",
    "TRAINING_DATA_FILE = 'SpamData/02_Training/train-data.txt'\n",
    "TEST_DATA_FILE = 'SpamData/02_Training/test-data.txt'\n",
    "\n",
    "WHALE_FILE = 'SpamData/01_Processing/wordcloud_resources/whale-icon.png'\n",
    "SKULL_FILE = 'SpamData/01_Processing/wordcloud_resources/skull-icon.png'\n",
    "THUMBS_UP_FILE = 'SpamData/01_Processing/wordcloud_resources/thumbs-up.png'\n",
    "THUMBS_DOWN_FILE = 'SpamData/01_Processing/wordcloud_resources/thumbs-down.png'\n",
    "CUSTOM_FONT_FILE = 'SpamData/01_Processing/wordcloud_resources/OpenSansCondensed-Bold.ttf'"
   ]
  },
  {
   "cell_type": "markdown",
   "metadata": {},
   "source": [
    "# Generator function"
   ]
  },
  {
   "cell_type": "code",
   "execution_count": 123,
   "metadata": {},
   "outputs": [],
   "source": [
    "def email_body_generator(path):\n",
    "    \n",
    "    for root, dirnames, filenames in walk(path):  # walh() walks through all the files \n",
    "                                                # and returs root location, file name, directory name\n",
    "        for file_name in filenames:\n",
    "            \n",
    "            # extracting messege body\n",
    "            filepath = join(root, file_name)  # creating file path\n",
    "            \n",
    "            stream = open(filepath, encoding='latin-1')  # opening file\n",
    "\n",
    "            is_body = False  # false, until reaches blank line \\n\n",
    "            lines = []  # stores lines after \\n\n",
    "\n",
    "            for line in stream:  # loops through all the lines\n",
    "                if is_body:\n",
    "                    lines.append(line)  # if is False until \\n\n",
    "                elif line == '\\n':\n",
    "                    is_body = True\n",
    "\n",
    "            stream.close()  # closes file\n",
    "\n",
    "            email_body = '\\n'.join(lines)  # joins all the lines creates whole messege\n",
    "            \n",
    "            yield file_name, email_body  # doesnt return, only generates these two outputs\n"
   ]
  },
  {
   "cell_type": "code",
   "execution_count": 124,
   "metadata": {},
   "outputs": [],
   "source": [
    "# to use the generator files outputs\n",
    "\n",
    "def df_from_directory(path, classification):\n",
    "    rows = []  # contains messege and category(spam or not)\n",
    "    row_names = [] # contains names\n",
    "    \n",
    "    for file_name, email_body in email_body_generator(path):\n",
    "        rows.append({'MESSAGE': email_body, 'CATEGORY': classification})\n",
    "        row_names.append(file_name)\n",
    "        \n",
    "    return pd.DataFrame(rows, index=row_names)  # puts them all into a dataframe"
   ]
  },
  {
   "cell_type": "code",
   "execution_count": 125,
   "metadata": {},
   "outputs": [
    {
     "data": {
      "text/html": [
       "<div>\n",
       "<style scoped>\n",
       "    .dataframe tbody tr th:only-of-type {\n",
       "        vertical-align: middle;\n",
       "    }\n",
       "\n",
       "    .dataframe tbody tr th {\n",
       "        vertical-align: top;\n",
       "    }\n",
       "\n",
       "    .dataframe thead th {\n",
       "        text-align: right;\n",
       "    }\n",
       "</style>\n",
       "<table border=\"1\" class=\"dataframe\">\n",
       "  <thead>\n",
       "    <tr style=\"text-align: right;\">\n",
       "      <th></th>\n",
       "      <th>MESSAGE</th>\n",
       "      <th>CATEGORY</th>\n",
       "    </tr>\n",
       "  </thead>\n",
       "  <tbody>\n",
       "    <tr>\n",
       "      <td>00001.7848dde101aa985090474a91ec93fcf0</td>\n",
       "      <td>&lt;!DOCTYPE HTML PUBLIC \"-//W3C//DTD HTML 4.0 Tr...</td>\n",
       "      <td>1</td>\n",
       "    </tr>\n",
       "    <tr>\n",
       "      <td>00002.d94f1b97e48ed3b553b3508d116e6a09</td>\n",
       "      <td>1) Fight The Risk of Cancer!\\n\\nhttp://www.adc...</td>\n",
       "      <td>1</td>\n",
       "    </tr>\n",
       "    <tr>\n",
       "      <td>00003.2ee33bc6eacdb11f38d052c44819ba6c</td>\n",
       "      <td>1) Fight The Risk of Cancer!\\n\\nhttp://www.adc...</td>\n",
       "      <td>1</td>\n",
       "    </tr>\n",
       "    <tr>\n",
       "      <td>00004.eac8de8d759b7e74154f142194282724</td>\n",
       "      <td>##############################################...</td>\n",
       "      <td>1</td>\n",
       "    </tr>\n",
       "    <tr>\n",
       "      <td>00005.57696a39d7d84318ce497886896bf90d</td>\n",
       "      <td>I thought you might like these:\\n\\n1) Slim Dow...</td>\n",
       "      <td>1</td>\n",
       "    </tr>\n",
       "  </tbody>\n",
       "</table>\n",
       "</div>"
      ],
      "text/plain": [
       "                                                                                  MESSAGE  \\\n",
       "00001.7848dde101aa985090474a91ec93fcf0  <!DOCTYPE HTML PUBLIC \"-//W3C//DTD HTML 4.0 Tr...   \n",
       "00002.d94f1b97e48ed3b553b3508d116e6a09  1) Fight The Risk of Cancer!\\n\\nhttp://www.adc...   \n",
       "00003.2ee33bc6eacdb11f38d052c44819ba6c  1) Fight The Risk of Cancer!\\n\\nhttp://www.adc...   \n",
       "00004.eac8de8d759b7e74154f142194282724  ##############################################...   \n",
       "00005.57696a39d7d84318ce497886896bf90d  I thought you might like these:\\n\\n1) Slim Dow...   \n",
       "\n",
       "                                        CATEGORY  \n",
       "00001.7848dde101aa985090474a91ec93fcf0         1  \n",
       "00002.d94f1b97e48ed3b553b3508d116e6a09         1  \n",
       "00003.2ee33bc6eacdb11f38d052c44819ba6c         1  \n",
       "00004.eac8de8d759b7e74154f142194282724         1  \n",
       "00005.57696a39d7d84318ce497886896bf90d         1  "
      ]
     },
     "execution_count": 125,
     "metadata": {},
     "output_type": "execute_result"
    }
   ],
   "source": [
    "# using the function\n",
    "\n",
    "spam_emails = df_from_directory(SPAM_1_PATH, 1)\n",
    "spam_emails.append(df_from_directory(SPAM_2_PATH, 1)) # adds spam_2 as well\n",
    "spam_emails.head()"
   ]
  },
  {
   "cell_type": "code",
   "execution_count": 126,
   "metadata": {},
   "outputs": [
    {
     "data": {
      "text/plain": [
       "(501, 2)"
      ]
     },
     "execution_count": 126,
     "metadata": {},
     "output_type": "execute_result"
    }
   ],
   "source": [
    "spam_emails.shape # both spam_1 and spam_2"
   ]
  },
  {
   "cell_type": "code",
   "execution_count": 127,
   "metadata": {},
   "outputs": [
    {
     "data": {
      "text/html": [
       "<div>\n",
       "<style scoped>\n",
       "    .dataframe tbody tr th:only-of-type {\n",
       "        vertical-align: middle;\n",
       "    }\n",
       "\n",
       "    .dataframe tbody tr th {\n",
       "        vertical-align: top;\n",
       "    }\n",
       "\n",
       "    .dataframe thead th {\n",
       "        text-align: right;\n",
       "    }\n",
       "</style>\n",
       "<table border=\"1\" class=\"dataframe\">\n",
       "  <thead>\n",
       "    <tr style=\"text-align: right;\">\n",
       "      <th></th>\n",
       "      <th>MESSAGE</th>\n",
       "      <th>CATEGORY</th>\n",
       "    </tr>\n",
       "  </thead>\n",
       "  <tbody>\n",
       "    <tr>\n",
       "      <td>00001.7c53336b37003a9286aba55d2945844c</td>\n",
       "      <td>Date:        Wed, 21 Aug 2002 10:54:46 -05...</td>\n",
       "      <td>0</td>\n",
       "    </tr>\n",
       "    <tr>\n",
       "      <td>00002.9c4069e25e1ef370c078db7ee85ff9ac</td>\n",
       "      <td>Martin A posted:\\n\\nTassos Papadopoulos, the G...</td>\n",
       "      <td>0</td>\n",
       "    </tr>\n",
       "    <tr>\n",
       "      <td>00003.860e3c3cee1b42ead714c5c874fe25f7</td>\n",
       "      <td>Man Threatens Explosion In Moscow \\n\\n\\n\\nThur...</td>\n",
       "      <td>0</td>\n",
       "    </tr>\n",
       "    <tr>\n",
       "      <td>00004.864220c5b6930b209cc287c361c99af1</td>\n",
       "      <td>Klez: The Virus That Won't Die\\n\\n \\n\\nAlready...</td>\n",
       "      <td>0</td>\n",
       "    </tr>\n",
       "    <tr>\n",
       "      <td>00005.bf27cdeaf0b8c4647ecd61b1d09da613</td>\n",
       "      <td>&gt;  in adding cream to spaghetti carbonara, whi...</td>\n",
       "      <td>0</td>\n",
       "    </tr>\n",
       "  </tbody>\n",
       "</table>\n",
       "</div>"
      ],
      "text/plain": [
       "                                                                                  MESSAGE  \\\n",
       "00001.7c53336b37003a9286aba55d2945844c      Date:        Wed, 21 Aug 2002 10:54:46 -05...   \n",
       "00002.9c4069e25e1ef370c078db7ee85ff9ac  Martin A posted:\\n\\nTassos Papadopoulos, the G...   \n",
       "00003.860e3c3cee1b42ead714c5c874fe25f7  Man Threatens Explosion In Moscow \\n\\n\\n\\nThur...   \n",
       "00004.864220c5b6930b209cc287c361c99af1  Klez: The Virus That Won't Die\\n\\n \\n\\nAlready...   \n",
       "00005.bf27cdeaf0b8c4647ecd61b1d09da613  >  in adding cream to spaghetti carbonara, whi...   \n",
       "\n",
       "                                        CATEGORY  \n",
       "00001.7c53336b37003a9286aba55d2945844c         0  \n",
       "00002.9c4069e25e1ef370c078db7ee85ff9ac         0  \n",
       "00003.860e3c3cee1b42ead714c5c874fe25f7         0  \n",
       "00004.864220c5b6930b209cc287c361c99af1         0  \n",
       "00005.bf27cdeaf0b8c4647ecd61b1d09da613         0  "
      ]
     },
     "execution_count": 127,
     "metadata": {},
     "output_type": "execute_result"
    }
   ],
   "source": [
    "ham_emails = df_from_directory(EASY_NONSPAM_1_PATH, HAM_CAT)\n",
    "ham_emails = ham_emails.append(df_from_directory(EASY_NONSPAM_2_PATH, HAM_CAT))\n",
    "ham_emails.head()"
   ]
  },
  {
   "cell_type": "code",
   "execution_count": 128,
   "metadata": {},
   "outputs": [
    {
     "data": {
      "text/plain": [
       "(3901, 2)"
      ]
     },
     "execution_count": 128,
     "metadata": {},
     "output_type": "execute_result"
    }
   ],
   "source": [
    "ham_emails.shape # both ham_1 and ham_2"
   ]
  },
  {
   "cell_type": "markdown",
   "metadata": {},
   "source": [
    "#### Created Data\n",
    "Concatnating ham and spam"
   ]
  },
  {
   "cell_type": "code",
   "execution_count": 129,
   "metadata": {},
   "outputs": [
    {
     "name": "stdout",
     "output_type": "stream",
     "text": [
      "Shape of entire dataframe is  (4402, 2)\n"
     ]
    }
   ],
   "source": [
    "# data = all emails ham & spam\n",
    "\n",
    "data = pd.concat([spam_emails, ham_emails])\n",
    "print('Shape of entire dataframe is ', data.shape)"
   ]
  },
  {
   "cell_type": "code",
   "execution_count": 130,
   "metadata": {},
   "outputs": [
    {
     "data": {
      "text/html": [
       "<div>\n",
       "<style scoped>\n",
       "    .dataframe tbody tr th:only-of-type {\n",
       "        vertical-align: middle;\n",
       "    }\n",
       "\n",
       "    .dataframe tbody tr th {\n",
       "        vertical-align: top;\n",
       "    }\n",
       "\n",
       "    .dataframe thead th {\n",
       "        text-align: right;\n",
       "    }\n",
       "</style>\n",
       "<table border=\"1\" class=\"dataframe\">\n",
       "  <thead>\n",
       "    <tr style=\"text-align: right;\">\n",
       "      <th></th>\n",
       "      <th>MESSAGE</th>\n",
       "      <th>CATEGORY</th>\n",
       "    </tr>\n",
       "  </thead>\n",
       "  <tbody>\n",
       "    <tr>\n",
       "      <td>00001.7848dde101aa985090474a91ec93fcf0</td>\n",
       "      <td>&lt;!DOCTYPE HTML PUBLIC \"-//W3C//DTD HTML 4.0 Tr...</td>\n",
       "      <td>1</td>\n",
       "    </tr>\n",
       "    <tr>\n",
       "      <td>00002.d94f1b97e48ed3b553b3508d116e6a09</td>\n",
       "      <td>1) Fight The Risk of Cancer!\\n\\nhttp://www.adc...</td>\n",
       "      <td>1</td>\n",
       "    </tr>\n",
       "    <tr>\n",
       "      <td>00003.2ee33bc6eacdb11f38d052c44819ba6c</td>\n",
       "      <td>1) Fight The Risk of Cancer!\\n\\nhttp://www.adc...</td>\n",
       "      <td>1</td>\n",
       "    </tr>\n",
       "    <tr>\n",
       "      <td>00004.eac8de8d759b7e74154f142194282724</td>\n",
       "      <td>##############################################...</td>\n",
       "      <td>1</td>\n",
       "    </tr>\n",
       "    <tr>\n",
       "      <td>00005.57696a39d7d84318ce497886896bf90d</td>\n",
       "      <td>I thought you might like these:\\n\\n1) Slim Dow...</td>\n",
       "      <td>1</td>\n",
       "    </tr>\n",
       "  </tbody>\n",
       "</table>\n",
       "</div>"
      ],
      "text/plain": [
       "                                                                                  MESSAGE  \\\n",
       "00001.7848dde101aa985090474a91ec93fcf0  <!DOCTYPE HTML PUBLIC \"-//W3C//DTD HTML 4.0 Tr...   \n",
       "00002.d94f1b97e48ed3b553b3508d116e6a09  1) Fight The Risk of Cancer!\\n\\nhttp://www.adc...   \n",
       "00003.2ee33bc6eacdb11f38d052c44819ba6c  1) Fight The Risk of Cancer!\\n\\nhttp://www.adc...   \n",
       "00004.eac8de8d759b7e74154f142194282724  ##############################################...   \n",
       "00005.57696a39d7d84318ce497886896bf90d  I thought you might like these:\\n\\n1) Slim Dow...   \n",
       "\n",
       "                                        CATEGORY  \n",
       "00001.7848dde101aa985090474a91ec93fcf0         1  \n",
       "00002.d94f1b97e48ed3b553b3508d116e6a09         1  \n",
       "00003.2ee33bc6eacdb11f38d052c44819ba6c         1  \n",
       "00004.eac8de8d759b7e74154f142194282724         1  \n",
       "00005.57696a39d7d84318ce497886896bf90d         1  "
      ]
     },
     "execution_count": 130,
     "metadata": {},
     "output_type": "execute_result"
    }
   ],
   "source": [
    "data.head()"
   ]
  },
  {
   "cell_type": "code",
   "execution_count": 131,
   "metadata": {},
   "outputs": [
    {
     "data": {
      "text/html": [
       "<div>\n",
       "<style scoped>\n",
       "    .dataframe tbody tr th:only-of-type {\n",
       "        vertical-align: middle;\n",
       "    }\n",
       "\n",
       "    .dataframe tbody tr th {\n",
       "        vertical-align: top;\n",
       "    }\n",
       "\n",
       "    .dataframe thead th {\n",
       "        text-align: right;\n",
       "    }\n",
       "</style>\n",
       "<table border=\"1\" class=\"dataframe\">\n",
       "  <thead>\n",
       "    <tr style=\"text-align: right;\">\n",
       "      <th></th>\n",
       "      <th>MESSAGE</th>\n",
       "      <th>CATEGORY</th>\n",
       "    </tr>\n",
       "  </thead>\n",
       "  <tbody>\n",
       "    <tr>\n",
       "      <td>01396.61983fbe6ec43f55fd44e30fce24ffa6</td>\n",
       "      <td>http://news.bbc.co.uk/1/hi/england/2515127.stm...</td>\n",
       "      <td>0</td>\n",
       "    </tr>\n",
       "    <tr>\n",
       "      <td>01397.9f9ef4c2a8dc012d80f2ce2d3473d3b7</td>\n",
       "      <td>&gt; &gt;-- be careful when using this one.) Also, t...</td>\n",
       "      <td>0</td>\n",
       "    </tr>\n",
       "    <tr>\n",
       "      <td>01398.169b51731fe569f42169ae8f948ec676</td>\n",
       "      <td>&gt;&gt;&gt;&gt;&gt; \"SM\" == Skip Montanaro &lt;skip@pobox.com&gt; ...</td>\n",
       "      <td>0</td>\n",
       "    </tr>\n",
       "    <tr>\n",
       "      <td>01399.ca6b00b7b341bbde9a9ea3dd6a7bf896</td>\n",
       "      <td>So then, \"Mark Hammond\" &lt;mhammond@skippinet.co...</td>\n",
       "      <td>0</td>\n",
       "    </tr>\n",
       "    <tr>\n",
       "      <td>01400.f897f0931e461e7b2e964d28e927c35e</td>\n",
       "      <td>Hi there,\\n\\n\\n\\nNow this is probably of no us...</td>\n",
       "      <td>0</td>\n",
       "    </tr>\n",
       "  </tbody>\n",
       "</table>\n",
       "</div>"
      ],
      "text/plain": [
       "                                                                                  MESSAGE  \\\n",
       "01396.61983fbe6ec43f55fd44e30fce24ffa6  http://news.bbc.co.uk/1/hi/england/2515127.stm...   \n",
       "01397.9f9ef4c2a8dc012d80f2ce2d3473d3b7  > >-- be careful when using this one.) Also, t...   \n",
       "01398.169b51731fe569f42169ae8f948ec676  >>>>> \"SM\" == Skip Montanaro <skip@pobox.com> ...   \n",
       "01399.ca6b00b7b341bbde9a9ea3dd6a7bf896  So then, \"Mark Hammond\" <mhammond@skippinet.co...   \n",
       "01400.f897f0931e461e7b2e964d28e927c35e  Hi there,\\n\\n\\n\\nNow this is probably of no us...   \n",
       "\n",
       "                                        CATEGORY  \n",
       "01396.61983fbe6ec43f55fd44e30fce24ffa6         0  \n",
       "01397.9f9ef4c2a8dc012d80f2ce2d3473d3b7         0  \n",
       "01398.169b51731fe569f42169ae8f948ec676         0  \n",
       "01399.ca6b00b7b341bbde9a9ea3dd6a7bf896         0  \n",
       "01400.f897f0931e461e7b2e964d28e927c35e         0  "
      ]
     },
     "execution_count": 131,
     "metadata": {},
     "output_type": "execute_result"
    }
   ],
   "source": [
    "data.tail()"
   ]
  },
  {
   "cell_type": "markdown",
   "metadata": {},
   "source": [
    "# Data cleaning: checking for missing values"
   ]
  },
  {
   "cell_type": "code",
   "execution_count": 132,
   "metadata": {},
   "outputs": [
    {
     "data": {
      "text/plain": [
       "False"
      ]
     },
     "execution_count": 132,
     "metadata": {},
     "output_type": "execute_result"
    }
   ],
   "source": [
    "# check if any message bodies are null\n",
    "data['MESSAGE'].isnull()  # checks which messege are null(False if not null)\n",
    "data['MESSAGE'].isnull().values  # takes the values into array (True or False)\n",
    "data['MESSAGE'].isnull().values.any()  # checks if any of the value is null(True), returns False if all of them are not null"
   ]
  },
  {
   "cell_type": "code",
   "execution_count": 133,
   "metadata": {},
   "outputs": [
    {
     "data": {
      "text/plain": [
       "2"
      ]
     },
     "execution_count": 133,
     "metadata": {},
     "output_type": "execute_result"
    }
   ],
   "source": [
    "# check if there are empty emails (string length zero)\n",
    "(data.MESSAGE.str.len() == 0).any() # True if there are\n",
    "(data.MESSAGE.str.len() == 0).sum() # Checks how many are True(1) and returns sum"
   ]
  },
  {
   "cell_type": "code",
   "execution_count": 134,
   "metadata": {},
   "outputs": [
    {
     "data": {
      "text/plain": [
       "0"
      ]
     },
     "execution_count": 134,
     "metadata": {},
     "output_type": "execute_result"
    }
   ],
   "source": [
    "#how would you check the number of entries with null/None values?\n",
    "data.MESSAGE.isnull().sum()"
   ]
  },
  {
   "cell_type": "markdown",
   "metadata": {},
   "source": [
    "# Locate empty e-mails"
   ]
  },
  {
   "cell_type": "code",
   "execution_count": 135,
   "metadata": {},
   "outputs": [
    {
     "data": {
      "text/plain": [
       "pandas.core.series.Series"
      ]
     },
     "execution_count": 135,
     "metadata": {},
     "output_type": "execute_result"
    }
   ],
   "source": [
    "type(data.MESSAGE.str.len() == 0) #type is a pandas series"
   ]
  },
  {
   "cell_type": "code",
   "execution_count": 136,
   "metadata": {},
   "outputs": [
    {
     "data": {
      "text/plain": [
       "Index(['cmds', 'cmds'], dtype='object')"
      ]
     },
     "execution_count": 136,
     "metadata": {},
     "output_type": "execute_result"
    }
   ],
   "source": [
    "data[data.MESSAGE.str.len() == 0].index # index's for data with no string ('cmds', 'cmds', 'cmds')"
   ]
  },
  {
   "cell_type": "code",
   "execution_count": 137,
   "metadata": {},
   "outputs": [
    {
     "data": {
      "text/plain": [
       "3"
      ]
     },
     "execution_count": 137,
     "metadata": {},
     "output_type": "execute_result"
    }
   ],
   "source": [
    "# How to locate by using index\n",
    "data.index.get_loc('00004.eac8de8d759b7e74154f142194282724') "
   ]
  },
  {
   "cell_type": "markdown",
   "metadata": {},
   "source": [
    "# Remove system files entries from dataframe"
   ]
  },
  {
   "cell_type": "code",
   "execution_count": 138,
   "metadata": {},
   "outputs": [
    {
     "data": {
      "text/plain": [
       "(4400, 2)"
      ]
     },
     "execution_count": 138,
     "metadata": {},
     "output_type": "execute_result"
    }
   ],
   "source": [
    "data.drop(['cmds'], inplace=True) # inplace: replace current data\n",
    "data.shape # shape is reduced as 3 'cmds' are dropped"
   ]
  },
  {
   "cell_type": "markdown",
   "metadata": {},
   "source": [
    "# Add Document IDs to Track Emails in Dataset"
   ]
  },
  {
   "cell_type": "code",
   "execution_count": 139,
   "metadata": {},
   "outputs": [],
   "source": [
    "document_ids = range(0, len(data.index)) # 1,2,3,4,5,6,7...\n",
    "\n",
    "data['DOC_ID'] = document_ids # adds new column 'DOC_ID'"
   ]
  },
  {
   "cell_type": "code",
   "execution_count": 140,
   "metadata": {},
   "outputs": [
    {
     "data": {
      "text/html": [
       "<div>\n",
       "<style scoped>\n",
       "    .dataframe tbody tr th:only-of-type {\n",
       "        vertical-align: middle;\n",
       "    }\n",
       "\n",
       "    .dataframe tbody tr th {\n",
       "        vertical-align: top;\n",
       "    }\n",
       "\n",
       "    .dataframe thead th {\n",
       "        text-align: right;\n",
       "    }\n",
       "</style>\n",
       "<table border=\"1\" class=\"dataframe\">\n",
       "  <thead>\n",
       "    <tr style=\"text-align: right;\">\n",
       "      <th></th>\n",
       "      <th>MESSAGE</th>\n",
       "      <th>CATEGORY</th>\n",
       "      <th>FILE_NAME</th>\n",
       "    </tr>\n",
       "    <tr>\n",
       "      <th>DOC_ID</th>\n",
       "      <th></th>\n",
       "      <th></th>\n",
       "      <th></th>\n",
       "    </tr>\n",
       "  </thead>\n",
       "  <tbody>\n",
       "    <tr>\n",
       "      <td>0</td>\n",
       "      <td>&lt;!DOCTYPE HTML PUBLIC \"-//W3C//DTD HTML 4.0 Tr...</td>\n",
       "      <td>1</td>\n",
       "      <td>00001.7848dde101aa985090474a91ec93fcf0</td>\n",
       "    </tr>\n",
       "    <tr>\n",
       "      <td>1</td>\n",
       "      <td>1) Fight The Risk of Cancer!\\n\\nhttp://www.adc...</td>\n",
       "      <td>1</td>\n",
       "      <td>00002.d94f1b97e48ed3b553b3508d116e6a09</td>\n",
       "    </tr>\n",
       "    <tr>\n",
       "      <td>2</td>\n",
       "      <td>1) Fight The Risk of Cancer!\\n\\nhttp://www.adc...</td>\n",
       "      <td>1</td>\n",
       "      <td>00003.2ee33bc6eacdb11f38d052c44819ba6c</td>\n",
       "    </tr>\n",
       "    <tr>\n",
       "      <td>3</td>\n",
       "      <td>##############################################...</td>\n",
       "      <td>1</td>\n",
       "      <td>00004.eac8de8d759b7e74154f142194282724</td>\n",
       "    </tr>\n",
       "    <tr>\n",
       "      <td>4</td>\n",
       "      <td>I thought you might like these:\\n\\n1) Slim Dow...</td>\n",
       "      <td>1</td>\n",
       "      <td>00005.57696a39d7d84318ce497886896bf90d</td>\n",
       "    </tr>\n",
       "  </tbody>\n",
       "</table>\n",
       "</div>"
      ],
      "text/plain": [
       "                                                  MESSAGE  CATEGORY  \\\n",
       "DOC_ID                                                                \n",
       "0       <!DOCTYPE HTML PUBLIC \"-//W3C//DTD HTML 4.0 Tr...         1   \n",
       "1       1) Fight The Risk of Cancer!\\n\\nhttp://www.adc...         1   \n",
       "2       1) Fight The Risk of Cancer!\\n\\nhttp://www.adc...         1   \n",
       "3       ##############################################...         1   \n",
       "4       I thought you might like these:\\n\\n1) Slim Dow...         1   \n",
       "\n",
       "                                     FILE_NAME  \n",
       "DOC_ID                                          \n",
       "0       00001.7848dde101aa985090474a91ec93fcf0  \n",
       "1       00002.d94f1b97e48ed3b553b3508d116e6a09  \n",
       "2       00003.2ee33bc6eacdb11f38d052c44819ba6c  \n",
       "3       00004.eac8de8d759b7e74154f142194282724  \n",
       "4       00005.57696a39d7d84318ce497886896bf90d  "
      ]
     },
     "execution_count": 140,
     "metadata": {},
     "output_type": "execute_result"
    }
   ],
   "source": [
    "data['FILE_NAME'] = data.index # adds column 'FILE_NAME' to store all indexs\n",
    "data.set_index('DOC_ID', inplace=True) # sets 'DOC_ID' as index 1,2,3,4,5,6,7...\n",
    "data.head()"
   ]
  },
  {
   "cell_type": "code",
   "execution_count": 141,
   "metadata": {},
   "outputs": [
    {
     "data": {
      "text/html": [
       "<div>\n",
       "<style scoped>\n",
       "    .dataframe tbody tr th:only-of-type {\n",
       "        vertical-align: middle;\n",
       "    }\n",
       "\n",
       "    .dataframe tbody tr th {\n",
       "        vertical-align: top;\n",
       "    }\n",
       "\n",
       "    .dataframe thead th {\n",
       "        text-align: right;\n",
       "    }\n",
       "</style>\n",
       "<table border=\"1\" class=\"dataframe\">\n",
       "  <thead>\n",
       "    <tr style=\"text-align: right;\">\n",
       "      <th></th>\n",
       "      <th>MESSAGE</th>\n",
       "      <th>CATEGORY</th>\n",
       "      <th>FILE_NAME</th>\n",
       "    </tr>\n",
       "    <tr>\n",
       "      <th>DOC_ID</th>\n",
       "      <th></th>\n",
       "      <th></th>\n",
       "      <th></th>\n",
       "    </tr>\n",
       "  </thead>\n",
       "  <tbody>\n",
       "    <tr>\n",
       "      <td>4395</td>\n",
       "      <td>http://news.bbc.co.uk/1/hi/england/2515127.stm...</td>\n",
       "      <td>0</td>\n",
       "      <td>01396.61983fbe6ec43f55fd44e30fce24ffa6</td>\n",
       "    </tr>\n",
       "    <tr>\n",
       "      <td>4396</td>\n",
       "      <td>&gt; &gt;-- be careful when using this one.) Also, t...</td>\n",
       "      <td>0</td>\n",
       "      <td>01397.9f9ef4c2a8dc012d80f2ce2d3473d3b7</td>\n",
       "    </tr>\n",
       "    <tr>\n",
       "      <td>4397</td>\n",
       "      <td>&gt;&gt;&gt;&gt;&gt; \"SM\" == Skip Montanaro &lt;skip@pobox.com&gt; ...</td>\n",
       "      <td>0</td>\n",
       "      <td>01398.169b51731fe569f42169ae8f948ec676</td>\n",
       "    </tr>\n",
       "    <tr>\n",
       "      <td>4398</td>\n",
       "      <td>So then, \"Mark Hammond\" &lt;mhammond@skippinet.co...</td>\n",
       "      <td>0</td>\n",
       "      <td>01399.ca6b00b7b341bbde9a9ea3dd6a7bf896</td>\n",
       "    </tr>\n",
       "    <tr>\n",
       "      <td>4399</td>\n",
       "      <td>Hi there,\\n\\n\\n\\nNow this is probably of no us...</td>\n",
       "      <td>0</td>\n",
       "      <td>01400.f897f0931e461e7b2e964d28e927c35e</td>\n",
       "    </tr>\n",
       "  </tbody>\n",
       "</table>\n",
       "</div>"
      ],
      "text/plain": [
       "                                                  MESSAGE  CATEGORY  \\\n",
       "DOC_ID                                                                \n",
       "4395    http://news.bbc.co.uk/1/hi/england/2515127.stm...         0   \n",
       "4396    > >-- be careful when using this one.) Also, t...         0   \n",
       "4397    >>>>> \"SM\" == Skip Montanaro <skip@pobox.com> ...         0   \n",
       "4398    So then, \"Mark Hammond\" <mhammond@skippinet.co...         0   \n",
       "4399    Hi there,\\n\\n\\n\\nNow this is probably of no us...         0   \n",
       "\n",
       "                                     FILE_NAME  \n",
       "DOC_ID                                          \n",
       "4395    01396.61983fbe6ec43f55fd44e30fce24ffa6  \n",
       "4396    01397.9f9ef4c2a8dc012d80f2ce2d3473d3b7  \n",
       "4397    01398.169b51731fe569f42169ae8f948ec676  \n",
       "4398    01399.ca6b00b7b341bbde9a9ea3dd6a7bf896  \n",
       "4399    01400.f897f0931e461e7b2e964d28e927c35e  "
      ]
     },
     "execution_count": 141,
     "metadata": {},
     "output_type": "execute_result"
    }
   ],
   "source": [
    "data.tail()"
   ]
  },
  {
   "cell_type": "markdown",
   "metadata": {},
   "source": [
    "# Save the file to disk using pandas"
   ]
  },
  {
   "cell_type": "code",
   "execution_count": 142,
   "metadata": {},
   "outputs": [],
   "source": [
    "data.to_json(DATA_JSON_FILE)"
   ]
  },
  {
   "cell_type": "markdown",
   "metadata": {},
   "source": [
    "# Number of spam messages visualized (pie charts)\n"
   ]
  },
  {
   "cell_type": "code",
   "execution_count": 143,
   "metadata": {},
   "outputs": [
    {
     "data": {
      "text/plain": [
       "0    3900\n",
       "1     500\n",
       "Name: CATEGORY, dtype: int64"
      ]
     },
     "execution_count": 143,
     "metadata": {},
     "output_type": "execute_result"
    }
   ],
   "source": [
    "data.CATEGORY.value_counts() # counts how much values in each category"
   ]
  },
  {
   "cell_type": "code",
   "execution_count": 144,
   "metadata": {},
   "outputs": [],
   "source": [
    "# put them into variables\n",
    "amount_of_spam = data.CATEGORY.value_counts()[1]\n",
    "amount_of_ham = data.CATEGORY.value_counts()[0]"
   ]
  },
  {
   "cell_type": "code",
   "execution_count": 145,
   "metadata": {},
   "outputs": [
    {
     "data": {
      "image/png": "[encoded data removed]",
      "text/plain": [
       "<Figure size 454x454 with 1 Axes>"
      ]
     },
     "metadata": {},
     "output_type": "display_data"
    }
   ],
   "source": [
    "# creating pie chart\n",
    "\n",
    "category_names = ['Spam', 'Legit Mail']\n",
    "sizes = [amount_of_spam, amount_of_ham]\n",
    "\n",
    "plt.figure(figsize=(2, 2), dpi=227)\n",
    "plt.pie(sizes, labels=category_names, textprops={'fontsize': 6}, startangle=90, \n",
    "       autopct='%1.0f%%')\n",
    "plt.show()"
   ]
  },
  {
   "cell_type": "code",
   "execution_count": 146,
   "metadata": {},
   "outputs": [
    {
     "data": {
      "image/png": "[encoded data removed]",
      "text/plain": [
       "<Figure size 454x454 with 1 Axes>"
      ]
     },
     "metadata": {},
     "output_type": "display_data"
    }
   ],
   "source": [
    "#creating donut chart \n",
    "\n",
    "category_names = ['Spam', 'Legit Mail', 'Updates', 'Promotions']\n",
    "sizes = [25, 43, 19, 22]\n",
    "custom_colours = ['#ff7675', '#74b9ff', '#55efc4', '#ffeaa7']\n",
    "offset = [0.05, 0.05, 0.05, 0.05]\n",
    "\n",
    "plt.figure(figsize=(2, 2), dpi=227)\n",
    "plt.pie(sizes, labels=category_names, textprops={'fontsize': 6}, startangle=90, \n",
    "       autopct='%1.0f%%', colors=custom_colours, pctdistance=0.8, explode=offset)\n",
    "\n",
    "# draw circle in the middle of pie to make donut\n",
    "centre_circle = plt.Circle((0, 0), radius=0.6, fc='white')\n",
    "plt.gca().add_artist(centre_circle)\n",
    "\n",
    "plt.show()"
   ]
  },
  {
   "cell_type": "markdown",
   "metadata": {},
   "source": [
    "# Natural Language Processing (NLP)"
   ]
  },
  {
   "cell_type": "markdown",
   "metadata": {},
   "source": [
    "## Pre-processing the emails so the algorithm can understand\n",
    "\n",
    "1. Converting to lowercase\n",
    "2. Tokenising ( split up individual words in a sentence )\n",
    "3. Removing the stop words ( removing common words like 'the', that are there for the grammer and doesn't convey any meaning )\n",
    "4. Stripping out HTML\n",
    "5. Word stemming ( Coverting individual words into their stem words e.g. 'goes', 'go', 'going' has the same word stem 'go' )\n",
    "6. Remove punctuation ( As naive algorithm ignores grammer )"
   ]
  },
  {
   "cell_type": "markdown",
   "metadata": {},
   "source": [
    "### Download the NLTK Resources (Tokenizer & Stopwords)\n",
    " "
   ]
  },
  {
   "cell_type": "code",
   "execution_count": 147,
   "metadata": {},
   "outputs": [
    {
     "name": "stderr",
     "output_type": "stream",
     "text": [
      "[nltk_data] Downloading package punkt to\n",
      "[nltk_data]     C:\\Users\\user\\AppData\\Roaming\\nltk_data...\n",
      "[nltk_data]   Package punkt is already up-to-date!\n"
     ]
    },
    {
     "data": {
      "text/plain": [
       "True"
      ]
     },
     "execution_count": 147,
     "metadata": {},
     "output_type": "execute_result"
    }
   ],
   "source": [
    "nltk.download('punkt')"
   ]
  },
  {
   "cell_type": "code",
   "execution_count": 148,
   "metadata": {},
   "outputs": [
    {
     "name": "stderr",
     "output_type": "stream",
     "text": [
      "[nltk_data] Downloading package stopwords to\n",
      "[nltk_data]     C:\\Users\\user\\AppData\\Roaming\\nltk_data...\n",
      "[nltk_data]   Package stopwords is already up-to-date!\n"
     ]
    },
    {
     "data": {
      "text/plain": [
       "True"
      ]
     },
     "execution_count": 148,
     "metadata": {},
     "output_type": "execute_result"
    }
   ],
   "source": [
    "nltk.download('stopwords')"
   ]
  },
  {
   "cell_type": "markdown",
   "metadata": {},
   "source": [
    "### Tokenising"
   ]
  },
  {
   "cell_type": "code",
   "execution_count": 149,
   "metadata": {},
   "outputs": [
    {
     "data": {
      "text/plain": [
       "['this', 'is', 'a', 'test', 'message']"
      ]
     },
     "execution_count": 149,
     "metadata": {},
     "output_type": "execute_result"
    }
   ],
   "source": [
    "msg = 'This is a test message'\n",
    "word_tokenize(msg.lower())  # lower() to transform to lowercase"
   ]
  },
  {
   "cell_type": "code",
   "execution_count": 150,
   "metadata": {},
   "outputs": [
    {
     "data": {
      "text/plain": [
       "set"
      ]
     },
     "execution_count": 150,
     "metadata": {},
     "output_type": "execute_result"
    }
   ],
   "source": [
    "stop_words = set(stopwords.words('english')) # transforming list to set\n",
    "type(stop_words)"
   ]
  },
  {
   "cell_type": "code",
   "execution_count": 151,
   "metadata": {},
   "outputs": [
    {
     "name": "stdout",
     "output_type": "stream",
     "text": [
      "['work', 'play', 'makes', 'jack', 'dull', 'boy', '.', '.']\n"
     ]
    }
   ],
   "source": [
    "msg = 'All work and no play makes Jack a dull boy. To be or not to be.'\n",
    "words = word_tokenize(msg.lower())\n",
    "\n",
    "filtered_words = []\n",
    "# append non-stop words to filtered_words\n",
    "for word in words:\n",
    "    if word not in stop_words:\n",
    "        filtered_words.append(word)\n",
    "\n",
    "print(filtered_words)"
   ]
  },
  {
   "cell_type": "markdown",
   "metadata": {},
   "source": [
    "### Word stems and stemming"
   ]
  },
  {
   "cell_type": "code",
   "execution_count": 152,
   "metadata": {},
   "outputs": [
    {
     "name": "stdout",
     "output_type": "stream",
     "text": [
      "['work', 'play', 'make', 'jack', 'dull', 'boy', '.', '.', 'nobodi', 'expect', 'spanish', 'inquisit', '!']\n"
     ]
    }
   ],
   "source": [
    "msg = 'All work and no play makes Jack a dull boy. To be or not to be. \\\n",
    "      Nobody expects the Spanish Inquisition!'\n",
    "words = word_tokenize(msg.lower())\n",
    "\n",
    "# stemmer = PorterStemmer()\n",
    "stemmer = SnowballStemmer('english')\n",
    "\n",
    "\n",
    "filtered_words = []\n",
    "\n",
    "for word in words:\n",
    "    if word not in stop_words:\n",
    "        stemmed_word = stemmer.stem(word)\n",
    "        filtered_words.append(stemmed_word)\n",
    "\n",
    "print(filtered_words)"
   ]
  },
  {
   "cell_type": "markdown",
   "metadata": {},
   "source": [
    "### Removing punctuation"
   ]
  },
  {
   "cell_type": "code",
   "execution_count": 153,
   "metadata": {},
   "outputs": [
    {
     "data": {
      "text/plain": [
       "False"
      ]
     },
     "execution_count": 153,
     "metadata": {},
     "output_type": "execute_result"
    }
   ],
   "source": [
    "'?'.isalpha() # returns False if not a character"
   ]
  },
  {
   "cell_type": "code",
   "execution_count": 154,
   "metadata": {},
   "outputs": [
    {
     "name": "stdout",
     "output_type": "stream",
     "text": [
      "['work', 'play', 'make', 'jack', 'dull', 'boy', 'nobodi', 'expect', 'spanish', 'inquisit']\n"
     ]
    }
   ],
   "source": [
    "msg = 'All work and no play makes Jack a dull boy. To be or not to be. ??? \\\n",
    "      Nobody expects the Spanish Inquisition!'\n",
    "\n",
    "words = word_tokenize(msg.lower())\n",
    "stemmer = SnowballStemmer('english')\n",
    "filtered_words = []\n",
    "\n",
    "for word in words:\n",
    "    if word not in stop_words and word.isalpha():\n",
    "        stemmed_word = stemmer.stem(word)\n",
    "        filtered_words.append(stemmed_word)\n",
    "\n",
    "print(filtered_words)"
   ]
  },
  {
   "cell_type": "markdown",
   "metadata": {},
   "source": [
    "### Removing HTML tags from email"
   ]
  },
  {
   "cell_type": "code",
   "execution_count": 155,
   "metadata": {},
   "outputs": [
    {
     "name": "stdout",
     "output_type": "stream",
     "text": [
      "1) Fight The Risk of Cancer!\n",
      "\n",
      "http://www.adclick.ws/p.cfm?o=315&amp;s=pk007\n",
      "\n",
      "\n",
      "\n",
      "2) Slim Down - Guaranteed to lose 10-12 lbs in 30 days\n",
      "\n",
      "http://www.adclick.ws/p.cfm?o=249&amp;s=pk007\n",
      "\n",
      "\n",
      "\n",
      "3) Get the Child Support You Deserve - Free Legal Advice\n",
      "\n",
      "http://www.adclick.ws/p.cfm?o=245&amp;s=pk002\n",
      "\n",
      "\n",
      "\n",
      "4) Join the Web's Fastest Growing Singles Community\n",
      "\n",
      "http://www.adclick.ws/p.cfm?o=259&amp;s=pk007\n",
      "\n",
      "\n",
      "\n",
      "5) Start Your Private Photo Album Online!\n",
      "\n",
      "http://www.adclick.ws/p.cfm?o=283&amp;s=pk007\n",
      "\n",
      "\n",
      "\n",
      "Have a Wonderful Day,\n",
      "\n",
      "Offer Manager\n",
      "\n",
      "PrizeMama\n",
      "\n",
      "\n",
      "\n",
      "\n",
      "\n",
      "\n",
      "\n",
      "\n",
      "\n",
      "\n",
      "\n",
      "\n",
      "\n",
      "\n",
      "\n",
      "\n",
      "\n",
      "\n",
      "\n",
      "\n",
      "\n",
      "\n",
      "\n",
      "\n",
      "\n",
      "\n",
      "\n",
      "If you wish to leave this list please use the link below.\n",
      "\n",
      "http://www.qves.com/trim/?zzzz@spamassassin.taint.org%7C17%7C308417\n",
      "\n"
     ]
    }
   ],
   "source": [
    "soup = BeautifulSoup(data.at[2, 'MESSAGE'], 'html.parser')\n",
    "print(soup.prettify()) # to beautify the text"
   ]
  },
  {
   "cell_type": "code",
   "execution_count": 156,
   "metadata": {},
   "outputs": [
    {
     "data": {
      "text/plain": [
       "\"1) Fight The Risk of Cancer!\\n\\nhttp://www.adclick.ws/p.cfm?o=315&s=pk007\\n\\n\\n\\n2) Slim Down - Guaranteed to lose 10-12 lbs in 30 days\\n\\nhttp://www.adclick.ws/p.cfm?o=249&s=pk007\\n\\n\\n\\n3) Get the Child Support You Deserve - Free Legal Advice\\n\\nhttp://www.adclick.ws/p.cfm?o=245&s=pk002\\n\\n\\n\\n4) Join the Web's Fastest Growing Singles Community\\n\\nhttp://www.adclick.ws/p.cfm?o=259&s=pk007\\n\\n\\n\\n5) Start Your Private Photo Album Online!\\n\\nhttp://www.adclick.ws/p.cfm?o=283&s=pk007\\n\\n\\n\\nHave a Wonderful Day,\\n\\nOffer Manager\\n\\nPrizeMama\\n\\n\\n\\n\\n\\n\\n\\n\\n\\n\\n\\n\\n\\n\\n\\n\\n\\n\\n\\n\\n\\n\\n\\n\\n\\n\\n\\nIf you wish to leave this list please use the link below.\\n\\nhttp://www.qves.com/trim/?zzzz@spamassassin.taint.org%7C17%7C308417\\n\\n\\n\""
      ]
     },
     "execution_count": 156,
     "metadata": {},
     "output_type": "execute_result"
    }
   ],
   "source": [
    "soup.get_text()  # get text"
   ]
  },
  {
   "cell_type": "markdown",
   "metadata": {},
   "source": [
    "### Function for E-mail Processing"
   ]
  },
  {
   "cell_type": "code",
   "execution_count": 157,
   "metadata": {},
   "outputs": [],
   "source": [
    "def clean_message(message, stemmer=PorterStemmer(), \n",
    "                 stop_words=set(stopwords.words('english'))):\n",
    "    \n",
    "    # Converts to Lower Case and splits up the words\n",
    "    words = word_tokenize(message.lower())\n",
    "    \n",
    "    filtered_words = []\n",
    "    \n",
    "    for word in words:\n",
    "        # Removes the stop words and punctuation\n",
    "        if word not in stop_words and word.isalpha():\n",
    "            filtered_words.append(stemmer.stem(word))  # words to word stem\n",
    "    \n",
    "    return filtered_words"
   ]
  },
  {
   "cell_type": "code",
   "execution_count": 158,
   "metadata": {},
   "outputs": [
    {
     "name": "stdout",
     "output_type": "stream",
     "text": [
      "['fight', 'risk', 'cancer', 'http', 'slim', 'guarante', 'lose', 'lb', 'day', 'http', 'get', 'child', 'support', 'deserv', 'free', 'legal', 'advic', 'http', 'join', 'web', 'fastest', 'grow', 'singl', 'commun', 'http', 'start', 'privat', 'photo', 'album', 'onlin', 'http', 'wonder', 'day', 'offer', 'manag', 'prizemama', 'wish', 'leav', 'list', 'pleas', 'use', 'link', 'http', 'zzzz']\n"
     ]
    }
   ],
   "source": [
    "print(clean_message(data.at[2, 'MESSAGE']))"
   ]
  },
  {
   "cell_type": "code",
   "execution_count": 159,
   "metadata": {},
   "outputs": [],
   "source": [
    "#Modify function to remove HTML tags. Then test on Email with DOC_ID 2. \n",
    "\n",
    "def clean_msg_no_html(message, stemmer=PorterStemmer(), \n",
    "                 stop_words=set(stopwords.words('english'))):\n",
    "    \n",
    "    # Remove HTML tags\n",
    "    soup = BeautifulSoup(message, 'html.parser')\n",
    "    cleaned_text = soup.get_text()\n",
    "    \n",
    "    # Converts to Lower Case and splits up the words\n",
    "    words = word_tokenize(cleaned_text.lower())\n",
    "    \n",
    "    filtered_words = []\n",
    "    \n",
    "    for word in words:\n",
    "        # Removes the stop words and punctuation\n",
    "        if word not in stop_words and word.isalpha():\n",
    "            filtered_words.append(stemmer.stem(word))\n",
    "           # filtered_words.append(word) \n",
    "    \n",
    "    return filtered_words"
   ]
  },
  {
   "cell_type": "code",
   "execution_count": 160,
   "metadata": {},
   "outputs": [
    {
     "name": "stdout",
     "output_type": "stream",
     "text": [
      "['fight', 'risk', 'cancer', 'http', 'slim', 'guarante', 'lose', 'lb', 'day', 'http', 'get', 'child', 'support', 'deserv', 'free', 'legal', 'advic', 'http', 'join', 'web', 'fastest', 'grow', 'singl', 'commun', 'http', 'start', 'privat', 'photo', 'album', 'onlin', 'http', 'wonder', 'day', 'offer', 'manag', 'prizemama', 'wish', 'leav', 'list', 'pleas', 'use', 'link', 'http', 'zzzz']\n"
     ]
    }
   ],
   "source": [
    "print(clean_msg_no_html(data.at[2, 'MESSAGE']))"
   ]
  },
  {
   "cell_type": "markdown",
   "metadata": {},
   "source": [
    "### Apply cleaning and tokenisation to all messages"
   ]
  },
  {
   "cell_type": "markdown",
   "metadata": {},
   "source": [
    "#### Slicing Dataframes and Series & Creating Subsets"
   ]
  },
  {
   "cell_type": "code",
   "execution_count": 161,
   "metadata": {},
   "outputs": [
    {
     "data": {
      "text/plain": [
       "\"1) Fight The Risk of Cancer!\\n\\nhttp://www.adclick.ws/p.cfm?o=315&s=pk007\\n\\n\\n\\n2) Slim Down - Guaranteed to lose 10-12 lbs in 30 days\\n\\nhttp://www.adclick.ws/p.cfm?o=249&s=pk007\\n\\n\\n\\n3) Get the Child Support You Deserve - Free Legal Advice\\n\\nhttp://www.adclick.ws/p.cfm?o=245&s=pk002\\n\\n\\n\\n4) Join the Web's Fastest Growing Singles Community\\n\\nhttp://www.adclick.ws/p.cfm?o=259&s=pk007\\n\\n\\n\\n5) Start Your Private Photo Album Online!\\n\\nhttp://www.adclick.ws/p.cfm?o=283&s=pk007\\n\\n\\n\\nHave a Wonderful Day,\\n\\nOffer Manager\\n\\nPrizeMama\\n\\n\\n\\n\\n\\n\\n\\n\\n\\n\\n\\n\\n\\n\\n\\n\\n\\n\\n\\n\\n\\n\\n\\n\\n\\n\\n\\nIf you wish to leave this list please use the link below.\\n\\nhttp://www.qves.com/trim/?zzzz@spamassassin.taint.org%7C17%7C308417\\n\\n\\n\""
      ]
     },
     "execution_count": 161,
     "metadata": {},
     "output_type": "execute_result"
    }
   ],
   "source": [
    "data.iat[2, 0]  # 2 is row, 0 is column(message)"
   ]
  },
  {
   "cell_type": "code",
   "execution_count": 162,
   "metadata": {},
   "outputs": [
    {
     "data": {
      "text/html": [
       "<div>\n",
       "<style scoped>\n",
       "    .dataframe tbody tr th:only-of-type {\n",
       "        vertical-align: middle;\n",
       "    }\n",
       "\n",
       "    .dataframe tbody tr th {\n",
       "        vertical-align: top;\n",
       "    }\n",
       "\n",
       "    .dataframe thead th {\n",
       "        text-align: right;\n",
       "    }\n",
       "</style>\n",
       "<table border=\"1\" class=\"dataframe\">\n",
       "  <thead>\n",
       "    <tr style=\"text-align: right;\">\n",
       "      <th></th>\n",
       "      <th>MESSAGE</th>\n",
       "      <th>CATEGORY</th>\n",
       "      <th>FILE_NAME</th>\n",
       "    </tr>\n",
       "    <tr>\n",
       "      <th>DOC_ID</th>\n",
       "      <th></th>\n",
       "      <th></th>\n",
       "      <th></th>\n",
       "    </tr>\n",
       "  </thead>\n",
       "  <tbody>\n",
       "    <tr>\n",
       "      <td>5</td>\n",
       "      <td>A POWERHOUSE GIFTING PROGRAM You Don't Want To...</td>\n",
       "      <td>1</td>\n",
       "      <td>00006.5ab5620d3d7c6c0db76234556a16f6c1</td>\n",
       "    </tr>\n",
       "    <tr>\n",
       "      <td>6</td>\n",
       "      <td>Help wanted.  We are a 14 year old fortune 500...</td>\n",
       "      <td>1</td>\n",
       "      <td>00007.d8521faf753ff9ee989122f6816f87d7</td>\n",
       "    </tr>\n",
       "    <tr>\n",
       "      <td>7</td>\n",
       "      <td>&lt;html&gt;\\n\\n&lt;head&gt;\\n\\n&lt;title&gt;ReliaQuote - Save U...</td>\n",
       "      <td>1</td>\n",
       "      <td>00008.dfd941deb10f5eed78b1594b131c9266</td>\n",
       "    </tr>\n",
       "    <tr>\n",
       "      <td>8</td>\n",
       "      <td>TIRED OF THE BULL OUT THERE?\\n\\nWant To Stop L...</td>\n",
       "      <td>1</td>\n",
       "      <td>00009.027bf6e0b0c4ab34db3ce0ea4bf2edab</td>\n",
       "    </tr>\n",
       "    <tr>\n",
       "      <td>9</td>\n",
       "      <td>Dear ricardo1 ,\\n\\n\\n\\n&lt;html&gt;\\n\\n&lt;body&gt;\\n\\n&lt;ce...</td>\n",
       "      <td>1</td>\n",
       "      <td>00010.445affef4c70feec58f9198cfbc22997</td>\n",
       "    </tr>\n",
       "    <tr>\n",
       "      <td>10</td>\n",
       "      <td>Cellular Phone Accessories All At Below Wholes...</td>\n",
       "      <td>1</td>\n",
       "      <td>00011.61816b9ad167657773a427d890d0468e</td>\n",
       "    </tr>\n",
       "  </tbody>\n",
       "</table>\n",
       "</div>"
      ],
      "text/plain": [
       "                                                  MESSAGE  CATEGORY  \\\n",
       "DOC_ID                                                                \n",
       "5       A POWERHOUSE GIFTING PROGRAM You Don't Want To...         1   \n",
       "6       Help wanted.  We are a 14 year old fortune 500...         1   \n",
       "7       <html>\\n\\n<head>\\n\\n<title>ReliaQuote - Save U...         1   \n",
       "8       TIRED OF THE BULL OUT THERE?\\n\\nWant To Stop L...         1   \n",
       "9       Dear ricardo1 ,\\n\\n\\n\\n<html>\\n\\n<body>\\n\\n<ce...         1   \n",
       "10      Cellular Phone Accessories All At Below Wholes...         1   \n",
       "\n",
       "                                     FILE_NAME  \n",
       "DOC_ID                                          \n",
       "5       00006.5ab5620d3d7c6c0db76234556a16f6c1  \n",
       "6       00007.d8521faf753ff9ee989122f6816f87d7  \n",
       "7       00008.dfd941deb10f5eed78b1594b131c9266  \n",
       "8       00009.027bf6e0b0c4ab34db3ce0ea4bf2edab  \n",
       "9       00010.445affef4c70feec58f9198cfbc22997  \n",
       "10      00011.61816b9ad167657773a427d890d0468e  "
      ]
     },
     "execution_count": 162,
     "metadata": {},
     "output_type": "execute_result"
    }
   ],
   "source": [
    "data.iloc[5:11]  # gets all entries from 5 to 10"
   ]
  },
  {
   "cell_type": "code",
   "execution_count": 163,
   "metadata": {},
   "outputs": [],
   "source": [
    "first_emails = data.MESSAGE.iloc[0:3]\n",
    "\n",
    "nested_list = first_emails.apply(clean_message) # apply(), to apply a function on data"
   ]
  },
  {
   "cell_type": "code",
   "execution_count": 164,
   "metadata": {},
   "outputs": [
    {
     "data": {
      "text/plain": [
       "321"
      ]
     },
     "execution_count": 164,
     "metadata": {},
     "output_type": "execute_result"
    }
   ],
   "source": [
    "# puts all items in one array\n",
    "\n",
    "# flat_list = []\n",
    "# for sublist in nested_list:\n",
    "#     for item in sublist:\n",
    "#         flat_list.append(item)\n",
    "\n",
    "flat_list = [item for sublist in nested_list for item in sublist]\n",
    "        \n",
    "len(flat_list)"
   ]
  },
  {
   "cell_type": "code",
   "execution_count": 165,
   "metadata": {},
   "outputs": [
    {
     "name": "stdout",
     "output_type": "stream",
     "text": [
      "['doctyp', 'html', 'public', 'html', 'html', 'head', 'meta', 'ype', 'meta', 'mshtml', 'bodi', 'insert', 'calypso', 'tabl', 'color', 'black', 'display', 'none', 'tbodi', 'tr', 'td', 'hr', 'noshad', 'tr', 'td', 'hr', 'noshad', 'end', 'calypso', 'insert', 'font', 'arial', 'helvetica', 'br', 'end', 'calypso', 'font', 'copperpl', 'gothic', 'bold', 'center', 'save', 'life', 'font', 'copperpl', 'gothic', 'bold', 'center', 'spend', 'center', 'font', 'copperpl', 'gothic', 'bold', 'center', 'life', 'quot', 'save', 'center', 'p', 'p', 'br', 'p', 'center', 'tabl', 'tbodi', 'tabl', 'tbodi', 'tr', 'td', 'b', 'font', 'g', 'famili', 'financi', 'secur', 'import', 'life', 'quot', 'save', 'ke', 'buy', 'life', 'insur', 'simpl', 'afford', 'provid', 'free', 'access', 'best', 'compani', 'lowest', 'tr', 'td', 'tabl', 'tbodi', 'tr', 'td', 'font', 'b', 'life', 'quot', 'save', 'fast', 'save', 'money', 'let', 'us', 'help', 'get', 'start', 'best', 'ue', 'countri', 'new', 'coverag', 'save', 'hundr', 'even', 'usand', 'dollar', 'request', 'free', 'quot', 'lifequot', 'save', 'servic', 'take', 'less', 'minut', 'complet', 'shop', 'compar', 'save', 'type', 'life', 'insur', 'tr', 'br', 'br', 'td', 'p', 'b', 'font', 'http', 'click', 'free', 'quot', 'p', 'font', 'strong', 'center', 'protect', 'famili', 'best', 'invest', 'r', 'make', 'br', 'tr', 'br', 'br', 'tr', 'p', 'font', 'arial', 'helvetica', 'p', 'center', 'br', 'br', 'br', 'p', 'p', 'br', 'br', 'br', 'br', 'br', 'p', 'br', 'p', 'br', 'br', 'br', 'receipt', 'email', 'error', 'wish', 'remov', 'list', 'mailto', 'coin', 'pleas', 'click', 'type', 'remov', 'resid', 'state', 'prohibit', 'solicit', 'ce', 'pleas', 'disregard', 'br', 'br', 'br', 'br', 'br', 'br', 'br', 'br', 'br', 'br', 'br', 'br', 'br', 'br', 'br', 'br', 'center', 'fight', 'risk', 'cancer', 'http', 'slim', 'guarante', 'lose', 'lb', 'day', 'http', 'get', 'child', 'support', 'deserv', 'free', 'legal', 'advic', 'http', 'join', 'web', 'fastest', 'grow', 'singl', 'commun', 'http', 'start', 'privat', 'photo', 'album', 'onlin', 'http', 'wonder', 'day', 'offer', 'manag', 'prizemama', 'wish', 'leav', 'list', 'pleas', 'use', 'link', 'http', 'ilug', 'irish', 'linux', 'user', 'group', 'ilug', 'http', 'un', 'subscript', 'inform', 'list', 'maintain', 'listmast', 'fight', 'risk', 'cancer', 'http', 'slim', 'guarante', 'lose', 'lb', 'day', 'http', 'get', 'child', 'support', 'deserv', 'free', 'legal', 'advic', 'http', 'join', 'web', 'fastest', 'grow', 'singl', 'commun', 'http', 'start', 'privat', 'photo', 'album', 'onlin', 'http', 'wonder', 'day', 'offer', 'manag', 'prizemama', 'wish', 'leav', 'list', 'pleas', 'use', 'link', 'http', 'zzzz']\n"
     ]
    }
   ],
   "source": [
    "print(flat_list)"
   ]
  },
  {
   "cell_type": "code",
   "execution_count": 166,
   "metadata": {},
   "outputs": [
    {
     "name": "stderr",
     "output_type": "stream",
     "text": [
      "C:\\Users\\user\\Anaconda3\\lib\\site-packages\\bs4\\__init__.py:357: UserWarning: \"http://www.post-gazette.com/columnists/20020905brian5\n",
      "\" looks like a URL. Beautiful Soup is not an HTTP client. You should probably use an HTTP client like requests to get the document behind the URL, and feed that document to Beautiful Soup.\n",
      "  ' that document to Beautiful Soup.' % decoded_markup\n"
     ]
    },
    {
     "name": "stdout",
     "output_type": "stream",
     "text": [
      "Wall time: 20.2 s\n"
     ]
    }
   ],
   "source": [
    "%%time\n",
    "\n",
    "# use apply() on all the messages in the dataframe\n",
    "nested_list = data.MESSAGE.apply(clean_msg_no_html)"
   ]
  },
  {
   "cell_type": "code",
   "execution_count": 167,
   "metadata": {},
   "outputs": [
    {
     "data": {
      "text/plain": [
       "DOC_ID\n",
       "0       [save, life, insur, spend, life, quot, save, g...\n",
       "1       [fight, risk, cancer, http, slim, guarante, lo...\n",
       "2       [fight, risk, cancer, http, slim, guarante, lo...\n",
       "3       [adult, club, offer, free, membership, instant...\n",
       "4       [thought, might, like, slim, guarante, lose, l...\n",
       "                              ...                        \n",
       "4395    [http, bizarr, collect, stuf, anim, could, fet...\n",
       "4396    [care, use, one, also, realli, cute, thing, ja...\n",
       "4397    [sm, skip, montanaro, write, jeremi, put, anot...\n",
       "4398    [mark, hammond, like, given, zodb, sound, attr...\n",
       "4399    [hi, probabl, use, whatsoev, also, problem, re...\n",
       "Name: MESSAGE, Length: 4400, dtype: object"
      ]
     },
     "execution_count": 167,
     "metadata": {},
     "output_type": "execute_result"
    }
   ],
   "source": [
    "nested_list"
   ]
  },
  {
   "cell_type": "markdown",
   "metadata": {},
   "source": [
    "### Using logic to slice Dataframe"
   ]
  },
  {
   "cell_type": "code",
   "execution_count": 168,
   "metadata": {},
   "outputs": [],
   "source": [
    "doc_ids_spam = data[data.CATEGORY == 1].index\n",
    "doc_ids_ham = data[data.CATEGORY == 0].index"
   ]
  },
  {
   "cell_type": "code",
   "execution_count": 169,
   "metadata": {},
   "outputs": [
    {
     "data": {
      "text/plain": [
       "Int64Index([ 500,  501,  502,  503,  504,  505,  506,  507,  508,  509,\n",
       "            ...\n",
       "            4390, 4391, 4392, 4393, 4394, 4395, 4396, 4397, 4398, 4399],\n",
       "           dtype='int64', name='DOC_ID', length=3900)"
      ]
     },
     "execution_count": 169,
     "metadata": {},
     "output_type": "execute_result"
    }
   ],
   "source": [
    "doc_ids_ham"
   ]
  },
  {
   "cell_type": "markdown",
   "metadata": {},
   "source": [
    "### Subsetting a series with an index"
   ]
  },
  {
   "cell_type": "code",
   "execution_count": 170,
   "metadata": {},
   "outputs": [
    {
     "data": {
      "text/plain": [
       "pandas.core.indexes.numeric.Int64Index"
      ]
     },
     "execution_count": 170,
     "metadata": {},
     "output_type": "execute_result"
    }
   ],
   "source": [
    "type(doc_ids_ham)  # Index"
   ]
  },
  {
   "cell_type": "code",
   "execution_count": 171,
   "metadata": {},
   "outputs": [
    {
     "data": {
      "text/plain": [
       "pandas.core.series.Series"
      ]
     },
     "execution_count": 171,
     "metadata": {},
     "output_type": "execute_result"
    }
   ],
   "source": [
    "type(nested_list)  # Series"
   ]
  },
  {
   "cell_type": "code",
   "execution_count": 172,
   "metadata": {},
   "outputs": [
    {
     "data": {
      "text/plain": [
       "DOC_ID\n",
       "0      [save, life, insur, spend, life, quot, save, g...\n",
       "1      [fight, risk, cancer, http, slim, guarante, lo...\n",
       "2      [fight, risk, cancer, http, slim, guarante, lo...\n",
       "3      [adult, club, offer, free, membership, instant...\n",
       "4      [thought, might, like, slim, guarante, lose, l...\n",
       "                             ...                        \n",
       "495    [toy, abc, good, morn, america, rank, christma...\n",
       "496    [untitl, document, let, mortgag, lender, compe...\n",
       "497    [html, email, messag, see, mail, client, suppo...\n",
       "498    [famou, ebay, market, learn, sell, complet, au...\n",
       "499    [p, color, navi, hello, chines, tradit, äúïëò,...\n",
       "Name: MESSAGE, Length: 500, dtype: object"
      ]
     },
     "execution_count": 172,
     "metadata": {},
     "output_type": "execute_result"
    }
   ],
   "source": [
    "nested_list_spam = nested_list.loc[doc_ids_spam]  # creates a nested list with all spams\n",
    "nested_list_spam"
   ]
  },
  {
   "cell_type": "code",
   "execution_count": 173,
   "metadata": {},
   "outputs": [
    {
     "data": {
      "text/plain": [
       "DOC_ID\n",
       "500     [date, wed, aug, chri, garrigu, ca, reproduc, ...\n",
       "501     [martin, post, tasso, papadopoulo, greek, scul...\n",
       "502     [man, threaten, explos, moscow, thursday, augu...\n",
       "503     [klez, viru, wo, die, alreadi, prolif, viru, e...\n",
       "504     [ad, cream, spaghetti, carbonara, effect, past...\n",
       "                              ...                        \n",
       "4395    [http, bizarr, collect, stuf, anim, could, fet...\n",
       "4396    [care, use, one, also, realli, cute, thing, ja...\n",
       "4397    [sm, skip, montanaro, write, jeremi, put, anot...\n",
       "4398    [mark, hammond, like, given, zodb, sound, attr...\n",
       "4399    [hi, probabl, use, whatsoev, also, problem, re...\n",
       "Name: MESSAGE, Length: 3900, dtype: object"
      ]
     },
     "execution_count": 173,
     "metadata": {},
     "output_type": "execute_result"
    }
   ],
   "source": [
    "nested_list_ham = nested_list.loc[doc_ids_ham]  # creates a nested list with all hams\n",
    "nested_list_ham"
   ]
  },
  {
   "cell_type": "code",
   "execution_count": 174,
   "metadata": {},
   "outputs": [
    {
     "data": {
      "text/plain": [
       "20755"
      ]
     },
     "execution_count": 174,
     "metadata": {},
     "output_type": "execute_result"
    }
   ],
   "source": [
    "flat_list_ham = [item for sublist in nested_list_ham for item in sublist]  # all words in ham messages\n",
    "normal_words = pd.Series(flat_list_ham).value_counts()  # value_count to get unique words put into series\n",
    "\n",
    "normal_words.shape[0] # total number of unique words in the non-spam messages"
   ]
  },
  {
   "cell_type": "code",
   "execution_count": 175,
   "metadata": {},
   "outputs": [
    {
     "data": {
      "text/plain": [
       "http      7561\n",
       "use       3630\n",
       "list      2878\n",
       "one       2371\n",
       "get       2284\n",
       "mail      2255\n",
       "would     2003\n",
       "like      1928\n",
       "messag    1847\n",
       "work      1798\n",
       "dtype: int64"
      ]
     },
     "execution_count": 175,
     "metadata": {},
     "output_type": "execute_result"
    }
   ],
   "source": [
    "normal_words[:10] # first 10 unique words"
   ]
  },
  {
   "cell_type": "code",
   "execution_count": 176,
   "metadata": {},
   "outputs": [
    {
     "data": {
      "text/plain": [
       "7160"
      ]
     },
     "execution_count": 176,
     "metadata": {},
     "output_type": "execute_result"
    }
   ],
   "source": [
    "flat_list_spam = [item for sublist in nested_list_spam for item in sublist]\n",
    "spammy_words = pd.Series(flat_list_spam).value_counts()\n",
    "\n",
    "spammy_words.shape[0] # total number of unique words in the spam messages"
   ]
  },
  {
   "cell_type": "code",
   "execution_count": 177,
   "metadata": {},
   "outputs": [
    {
     "data": {
      "text/plain": [
       "free      650\n",
       "email     632\n",
       "http      617\n",
       "receiv    546\n",
       "money     505\n",
       "list      481\n",
       "pleas     475\n",
       "get       466\n",
       "order     414\n",
       "name      411\n",
       "dtype: int64"
      ]
     },
     "execution_count": 177,
     "metadata": {},
     "output_type": "execute_result"
    }
   ],
   "source": [
    "spammy_words[:10]"
   ]
  },
  {
   "cell_type": "code",
   "execution_count": 178,
   "metadata": {},
   "outputs": [
    {
     "data": {
      "image/png": "[encoded data removed]",
      "text/plain": [
       "<Figure size 432x288 with 1 Axes>"
      ]
     },
     "metadata": {
      "needs_background": "light"
     },
     "output_type": "display_data"
    }
   ],
   "source": [
    "word_cloud = WordCloud().generate(data.iat[4, 0])\n",
    "plt.imshow(word_cloud)\n",
    "\n",
    "plt.show()"
   ]
  },
  {
   "cell_type": "markdown",
   "metadata": {},
   "source": [
    "### Generate Vocabulary & Dictionary"
   ]
  },
  {
   "cell_type": "code",
   "execution_count": 179,
   "metadata": {},
   "outputs": [],
   "source": [
    "stemmed_nested_list = data.MESSAGE.apply(clean_msg_no_html) # generates messages with only words\n",
    "flat_stemmed_list = [item for sublist in stemmed_nested_list for item in sublist] # contains all words in each message"
   ]
  },
  {
   "cell_type": "code",
   "execution_count": 180,
   "metadata": {},
   "outputs": [
    {
     "name": "stdout",
     "output_type": "stream",
     "text": [
      "Nr of unique words 23279\n"
     ]
    },
    {
     "data": {
      "text/plain": [
       "http    8178\n",
       "use     3918\n",
       "list    3359\n",
       "get     2750\n",
       "one     2746\n",
       "dtype: int64"
      ]
     },
     "execution_count": 180,
     "metadata": {},
     "output_type": "execute_result"
    }
   ],
   "source": [
    "unique_words = pd.Series(flat_stemmed_list).value_counts() # counts unique words and puts in series\n",
    "print('Nr of unique words', unique_words.shape[0]) \n",
    "unique_words.head() # shows top ones"
   ]
  },
  {
   "cell_type": "code",
   "execution_count": 181,
   "metadata": {},
   "outputs": [
    {
     "name": "stdout",
     "output_type": "stream",
     "text": [
      "Most common words: \n",
      " http      8178\n",
      "use       3918\n",
      "list      3359\n",
      "get       2750\n",
      "one       2746\n",
      "mail      2647\n",
      "would     2200\n",
      "like      2114\n",
      "messag    2104\n",
      "time      2094\n",
      "dtype: int64\n"
     ]
    }
   ],
   "source": [
    "frequent_words = unique_words[0:VOCAB_SIZE]\n",
    "print('Most common words: \\n', frequent_words[:10]) # prints top 10"
   ]
  },
  {
   "cell_type": "code",
   "execution_count": 182,
   "metadata": {},
   "outputs": [
    {
     "name": "stdout",
     "output_type": "stream",
     "text": [
      "Type of frequesnt word is:  <class 'pandas.core.series.Series'>\n"
     ]
    }
   ],
   "source": [
    "print('Type of frequesnt word is: ', type(frequent_words))"
   ]
  },
  {
   "cell_type": "markdown",
   "metadata": {},
   "source": [
    "### Create Vocabulary Dataframe with WORD_ID"
   ]
  },
  {
   "cell_type": "code",
   "execution_count": 183,
   "metadata": {},
   "outputs": [
    {
     "data": {
      "text/html": [
       "<div>\n",
       "<style scoped>\n",
       "    .dataframe tbody tr th:only-of-type {\n",
       "        vertical-align: middle;\n",
       "    }\n",
       "\n",
       "    .dataframe tbody tr th {\n",
       "        vertical-align: top;\n",
       "    }\n",
       "\n",
       "    .dataframe thead th {\n",
       "        text-align: right;\n",
       "    }\n",
       "</style>\n",
       "<table border=\"1\" class=\"dataframe\">\n",
       "  <thead>\n",
       "    <tr style=\"text-align: right;\">\n",
       "      <th></th>\n",
       "      <th>VOCAB_WORD</th>\n",
       "    </tr>\n",
       "    <tr>\n",
       "      <th>WORD_ID</th>\n",
       "      <th></th>\n",
       "    </tr>\n",
       "  </thead>\n",
       "  <tbody>\n",
       "    <tr>\n",
       "      <td>0</td>\n",
       "      <td>http</td>\n",
       "    </tr>\n",
       "    <tr>\n",
       "      <td>1</td>\n",
       "      <td>use</td>\n",
       "    </tr>\n",
       "    <tr>\n",
       "      <td>2</td>\n",
       "      <td>list</td>\n",
       "    </tr>\n",
       "    <tr>\n",
       "      <td>3</td>\n",
       "      <td>get</td>\n",
       "    </tr>\n",
       "    <tr>\n",
       "      <td>4</td>\n",
       "      <td>one</td>\n",
       "    </tr>\n",
       "  </tbody>\n",
       "</table>\n",
       "</div>"
      ],
      "text/plain": [
       "        VOCAB_WORD\n",
       "WORD_ID           \n",
       "0             http\n",
       "1              use\n",
       "2             list\n",
       "3              get\n",
       "4              one"
      ]
     },
     "execution_count": 183,
     "metadata": {},
     "output_type": "execute_result"
    }
   ],
   "source": [
    "word_ids = list(range(0, VOCAB_SIZE))\n",
    "vocab = pd.DataFrame({'VOCAB_WORD': frequent_words.index.values}, index=word_ids)\n",
    "vocab.index.name = 'WORD_ID'\n",
    "vocab.head()"
   ]
  },
  {
   "cell_type": "code",
   "execution_count": 184,
   "metadata": {},
   "outputs": [
    {
     "data": {
      "text/plain": [
       "WORD_ID\n",
       "0          http\n",
       "1           use\n",
       "2          list\n",
       "3           get\n",
       "4           one\n",
       "         ...   \n",
       "2495    richard\n",
       "2496    idefens\n",
       "2497     desert\n",
       "2498    presenc\n",
       "2499     zealot\n",
       "Name: VOCAB_WORD, Length: 2500, dtype: object"
      ]
     },
     "execution_count": 184,
     "metadata": {},
     "output_type": "execute_result"
    }
   ],
   "source": [
    "vocab.VOCAB_WORD # prints the whole VOCAB_WORD column\n"
   ]
  },
  {
   "cell_type": "markdown",
   "metadata": {},
   "source": [
    "### Save the Vocabulary as csv file"
   ]
  },
  {
   "cell_type": "code",
   "execution_count": 185,
   "metadata": {},
   "outputs": [],
   "source": [
    "vocab.to_csv(WORD_ID_FILE, index_label=vocab.index.name, header=vocab.VOCAB_WORD.name)"
   ]
  },
  {
   "cell_type": "markdown",
   "metadata": {},
   "source": [
    "### Checking if a Word is Part of the Vocabulary"
   ]
  },
  {
   "cell_type": "code",
   "execution_count": 186,
   "metadata": {},
   "outputs": [],
   "source": [
    "# 2,100 words that comprise the vocabulary, and False otherwise. Check these words:\n",
    "# 'machine'"
   ]
  },
  {
   "cell_type": "code",
   "execution_count": 187,
   "metadata": {},
   "outputs": [
    {
     "data": {
      "text/plain": [
       "False"
      ]
     },
     "execution_count": 187,
     "metadata": {},
     "output_type": "execute_result"
    }
   ],
   "source": [
    "any(vocab.VOCAB_WORD == 'machine') # inefficient"
   ]
  },
  {
   "cell_type": "code",
   "execution_count": 188,
   "metadata": {},
   "outputs": [
    {
     "data": {
      "text/plain": [
       "False"
      ]
     },
     "execution_count": 188,
     "metadata": {},
     "output_type": "execute_result"
    }
   ],
   "source": [
    "'machine' in set(vocab.VOCAB_WORD) # better way"
   ]
  },
  {
   "cell_type": "markdown",
   "metadata": {},
   "source": [
    "### Find the Email with the Most Number of Words"
   ]
  },
  {
   "cell_type": "code",
   "execution_count": 189,
   "metadata": {},
   "outputs": [],
   "source": [
    "# For loop\n",
    "clean_email_lengths = []\n",
    "for sublist in stemmed_nested_list:\n",
    "    clean_email_lengths.append(len(sublist))"
   ]
  },
  {
   "cell_type": "code",
   "execution_count": 190,
   "metadata": {},
   "outputs": [
    {
     "name": "stdout",
     "output_type": "stream",
     "text": [
      "Nr words in the longest email: 7671\n"
     ]
    }
   ],
   "source": [
    "# Python List Comprehension\n",
    "clean_email_lengths = [len(sublist) for sublist in stemmed_nested_list]\n",
    "print('Nr words in the longest email:', max(clean_email_lengths))"
   ]
  },
  {
   "cell_type": "code",
   "execution_count": 191,
   "metadata": {},
   "outputs": [
    {
     "name": "stdout",
     "output_type": "stream",
     "text": [
      "Email position in the list (and the data dataframe) 4379\n"
     ]
    }
   ],
   "source": [
    "print('Email position in the list (and the data dataframe)', np.argmax(clean_email_lengths))"
   ]
  },
  {
   "cell_type": "code",
   "execution_count": 192,
   "metadata": {},
   "outputs": [
    {
     "data": {
      "text/plain": [
       "['yahoo',\n",
       " 'group',\n",
       " 'sponsor',\n",
       " 'dvd',\n",
       " 'free',\n",
       " 'p',\n",
       " 'join',\n",
       " 'http',\n",
       " 'new',\n",
       " 'version',\n",
       " 'unison',\n",
       " 'avail',\n",
       " 'test',\n",
       " 'incorpor',\n",
       " 'sever',\n",
       " 'small',\n",
       " 'improv',\n",
       " 'main',\n",
       " 'chang',\n",
       " 'fix',\n",
       " 'bug',\n",
       " 'potenti',\n",
       " 'seriou',\n",
       " 'safeti',\n",
       " 'consequ',\n",
       " 'small',\n",
       " 'number',\n",
       " 'user',\n",
       " 'habit',\n",
       " 'run',\n",
       " 'one',\n",
       " 'instanc',\n",
       " 'unison',\n",
       " 'time',\n",
       " 'parallel',\n",
       " 'user',\n",
       " 'strongli',\n",
       " 'encourag',\n",
       " 'upgrad',\n",
       " 'other',\n",
       " 'wait',\n",
       " 'wish',\n",
       " 'releas',\n",
       " 'includ',\n",
       " 'execut',\n",
       " 'linux',\n",
       " 'solari',\n",
       " 'window',\n",
       " 'look',\n",
       " 'maintain',\n",
       " 'moment',\n",
       " 'none',\n",
       " 'activ',\n",
       " 'develop',\n",
       " 'regularli',\n",
       " 'use',\n",
       " 'unison',\n",
       " 'window',\n",
       " 'machin',\n",
       " 'configur',\n",
       " 'properli',\n",
       " 'build',\n",
       " 'execut',\n",
       " 'export',\n",
       " 'grab',\n",
       " 'http',\n",
       " 'enjoy',\n",
       " 'benjamin',\n",
       " 'chang',\n",
       " 'sinc',\n",
       " 'ad',\n",
       " 'prefer',\n",
       " 'maxthread',\n",
       " 'use',\n",
       " 'limit',\n",
       " 'number',\n",
       " 'simultan',\n",
       " 'file',\n",
       " 'transfer',\n",
       " 'ad',\n",
       " 'backupdir',\n",
       " 'prefer',\n",
       " 'control',\n",
       " 'backup',\n",
       " 'file',\n",
       " 'store',\n",
       " 'basic',\n",
       " 'support',\n",
       " 'ad',\n",
       " 'osx',\n",
       " 'particular',\n",
       " 'unison',\n",
       " 'recogn',\n",
       " 'one',\n",
       " 'host',\n",
       " 'synchron',\n",
       " 'run',\n",
       " 'osx',\n",
       " 'switch',\n",
       " 'treatment',\n",
       " 'filenam',\n",
       " 'consid',\n",
       " 'file',\n",
       " 'osx',\n",
       " 'yet',\n",
       " 'fulli',\n",
       " 'work',\n",
       " 'howev',\n",
       " 'particular',\n",
       " 'file',\n",
       " 'resourc',\n",
       " 'fork',\n",
       " 'synchron',\n",
       " 'correctli',\n",
       " 'hash',\n",
       " 'use',\n",
       " 'form',\n",
       " 'archiv',\n",
       " 'name',\n",
       " 'also',\n",
       " 'ad',\n",
       " 'name',\n",
       " 'temp',\n",
       " 'file',\n",
       " 'creat',\n",
       " 'file',\n",
       " 'transfer',\n",
       " 'reason',\n",
       " 'updat',\n",
       " 'detect',\n",
       " 'go',\n",
       " 'silent',\n",
       " 'delet',\n",
       " 'old',\n",
       " 'temp',\n",
       " 'file',\n",
       " 'find',\n",
       " 'along',\n",
       " 'way',\n",
       " 'want',\n",
       " 'prevent',\n",
       " 'delet',\n",
       " 'temp',\n",
       " 'file',\n",
       " 'belong',\n",
       " 'instanc',\n",
       " 'unison',\n",
       " 'may',\n",
       " 'run',\n",
       " 'parallel',\n",
       " 'synchron',\n",
       " 'differ',\n",
       " 'host',\n",
       " 'thank',\n",
       " 'ruslan',\n",
       " 'ermilov',\n",
       " 'suggest',\n",
       " 'sever',\n",
       " 'small',\n",
       " 'user',\n",
       " 'interfac',\n",
       " 'improv',\n",
       " 'document',\n",
       " 'faq',\n",
       " 'bug',\n",
       " 'report',\n",
       " 'instruct',\n",
       " 'split',\n",
       " 'separ',\n",
       " 'html',\n",
       " 'page',\n",
       " 'access',\n",
       " 'directli',\n",
       " 'unison',\n",
       " 'web',\n",
       " 'page',\n",
       " 'addit',\n",
       " 'faq',\n",
       " 'particular',\n",
       " 'suggest',\n",
       " 'perform',\n",
       " 'tune',\n",
       " 'makefil',\n",
       " 'set',\n",
       " 'automat',\n",
       " 'depend',\n",
       " 'whether',\n",
       " 'find',\n",
       " 'lablgtk',\n",
       " 'instal',\n",
       " 'unison',\n",
       " 'compil',\n",
       " 'box',\n",
       " 'osx',\n",
       " 'chang',\n",
       " 'sinc',\n",
       " 'chang',\n",
       " 'profil',\n",
       " 'work',\n",
       " 'window',\n",
       " 'file',\n",
       " 'movement',\n",
       " 'optim',\n",
       " 'unison',\n",
       " 'tri',\n",
       " 'use',\n",
       " 'local',\n",
       " 'copi',\n",
       " 'instead',\n",
       " 'transfer',\n",
       " 'move',\n",
       " 'copi',\n",
       " 'file',\n",
       " 'control',\n",
       " 'boolean',\n",
       " 'option',\n",
       " 'xferbycopi',\n",
       " 'network',\n",
       " 'statist',\n",
       " 'window',\n",
       " 'transfer',\n",
       " 'rate',\n",
       " 'amount',\n",
       " 'data',\n",
       " 'transfer',\n",
       " 'nb',\n",
       " 'avail',\n",
       " 'version',\n",
       " 'symlink',\n",
       " 'work',\n",
       " 'cygwin',\n",
       " 'version',\n",
       " 'dynam',\n",
       " 'link',\n",
       " 'fix',\n",
       " 'potenti',\n",
       " 'deadlock',\n",
       " 'synchron',\n",
       " 'window',\n",
       " 'unix',\n",
       " 'small',\n",
       " 'improv',\n",
       " 'neither',\n",
       " 'tt',\n",
       " 'userprofil',\n",
       " 'tt',\n",
       " 'home',\n",
       " 'environ',\n",
       " 'variabl',\n",
       " 'set',\n",
       " 'unison',\n",
       " 'put',\n",
       " 'temporari',\n",
       " 'commit',\n",
       " 'log',\n",
       " 'call',\n",
       " 'tt',\n",
       " 'directori',\n",
       " 'name',\n",
       " 'tt',\n",
       " 'unison',\n",
       " 'environ',\n",
       " 'variabl',\n",
       " 'otherwis',\n",
       " 'use',\n",
       " 'tt',\n",
       " 'c',\n",
       " 'altern',\n",
       " 'set',\n",
       " 'valu',\n",
       " 'fastcheck',\n",
       " 'ye',\n",
       " 'true',\n",
       " 'fals',\n",
       " 'default',\n",
       " 'auto',\n",
       " 'impli',\n",
       " 'sourc',\n",
       " 'code',\n",
       " 'code',\n",
       " 'reorgan',\n",
       " 'tidi',\n",
       " 'start',\n",
       " 'break',\n",
       " 'basic',\n",
       " 'util',\n",
       " 'modul',\n",
       " 'stuff',\n",
       " 'made',\n",
       " 'avail',\n",
       " 'project',\n",
       " 'sever',\n",
       " 'makefil',\n",
       " 'doc',\n",
       " 'chang',\n",
       " 'releas',\n",
       " 'comment',\n",
       " 'connect',\n",
       " 'inform',\n",
       " 'store',\n",
       " 'global',\n",
       " 'variabl',\n",
       " 'anymor',\n",
       " 'chang',\n",
       " 'sinc',\n",
       " 'small',\n",
       " 'bugfix',\n",
       " 'textual',\n",
       " 'user',\n",
       " 'interfac',\n",
       " 'unix',\n",
       " 'avoid',\n",
       " 'leav',\n",
       " 'termin',\n",
       " 'bad',\n",
       " 'state',\n",
       " 'would',\n",
       " 'echo',\n",
       " 'input',\n",
       " 'unison',\n",
       " 'exit',\n",
       " 'chang',\n",
       " 'sinc',\n",
       " 'improv',\n",
       " 'main',\n",
       " 'web',\n",
       " 'page',\n",
       " 'stabl',\n",
       " 'beta',\n",
       " 'version',\n",
       " 'doc',\n",
       " 'access',\n",
       " 'user',\n",
       " 'manual',\n",
       " 'revis',\n",
       " 'ad',\n",
       " 'new',\n",
       " 'prefer',\n",
       " 'sshcmd',\n",
       " 'rshcmd',\n",
       " 'specifi',\n",
       " 'path',\n",
       " 'ssh',\n",
       " 'rsh',\n",
       " 'program',\n",
       " 'contactquietli',\n",
       " 'suppress',\n",
       " 'contact',\n",
       " 'server',\n",
       " 'messag',\n",
       " 'unison',\n",
       " 'startup',\n",
       " 'graphic',\n",
       " 'ui',\n",
       " 'bug',\n",
       " 'fix',\n",
       " 'fix',\n",
       " 'small',\n",
       " 'bug',\n",
       " 'ui',\n",
       " 'neglect',\n",
       " 'chang',\n",
       " 'display',\n",
       " 'column',\n",
       " 'header',\n",
       " 'load',\n",
       " 'new',\n",
       " 'profil',\n",
       " 'caus',\n",
       " 'root',\n",
       " 'chang',\n",
       " 'fix',\n",
       " 'bug',\n",
       " 'would',\n",
       " 'put',\n",
       " 'text',\n",
       " 'ui',\n",
       " 'infinit',\n",
       " 'loop',\n",
       " 'encount',\n",
       " 'conflict',\n",
       " 'run',\n",
       " 'batch',\n",
       " 'mode',\n",
       " 'ad',\n",
       " 'code',\n",
       " 'tri',\n",
       " 'fix',\n",
       " 'display',\n",
       " 'charact',\n",
       " 'filenam',\n",
       " 'window',\n",
       " 'system',\n",
       " 'gtk',\n",
       " 'ui',\n",
       " 'code',\n",
       " 'current',\n",
       " 'untest',\n",
       " 'one',\n",
       " 'peopl',\n",
       " 'report',\n",
       " 'problem',\n",
       " 'display',\n",
       " 'filenam',\n",
       " 'appreci',\n",
       " 'know',\n",
       " 'actual',\n",
       " 'fix',\n",
       " 'thing',\n",
       " 'newer',\n",
       " 'work',\n",
       " 'properli',\n",
       " 'bug',\n",
       " 'report',\n",
       " 'sebastian',\n",
       " 'urbaniak',\n",
       " 'sean',\n",
       " 'fulton',\n",
       " 'user',\n",
       " 'interfac',\n",
       " 'unison',\n",
       " 'behavior',\n",
       " 'renam',\n",
       " 'proceed',\n",
       " 'go',\n",
       " 'graphic',\n",
       " 'ui',\n",
       " 'ad',\n",
       " 'exit',\n",
       " 'statu',\n",
       " 'textual',\n",
       " 'user',\n",
       " 'interfac',\n",
       " 'path',\n",
       " 'synchron',\n",
       " 'conflict',\n",
       " 'error',\n",
       " 'updat',\n",
       " 'detect',\n",
       " 'note',\n",
       " 'log',\n",
       " 'file',\n",
       " 'end',\n",
       " 'messag',\n",
       " 'log',\n",
       " 'use',\n",
       " 'briefer',\n",
       " 'format',\n",
       " 'chang',\n",
       " 'text',\n",
       " 'ui',\n",
       " 'startup',\n",
       " 'sequenc',\n",
       " 'tt',\n",
       " 'text',\n",
       " 'use',\n",
       " 'default',\n",
       " 'profil',\n",
       " 'instead',\n",
       " 'fail',\n",
       " 'made',\n",
       " 'improv',\n",
       " 'error',\n",
       " 'messag',\n",
       " 'ad',\n",
       " 'debug',\n",
       " 'messag',\n",
       " 'chang',\n",
       " 'sinc',\n",
       " 'incorpor',\n",
       " 'transport',\n",
       " 'transfer',\n",
       " 'sever',\n",
       " 'file',\n",
       " 'time',\n",
       " 'therebi',\n",
       " 'make',\n",
       " 'much',\n",
       " 'effect',\n",
       " 'use',\n",
       " 'avail',\n",
       " 'network',\n",
       " 'bandwidth',\n",
       " 'unlik',\n",
       " 'earlier',\n",
       " 'attempt',\n",
       " 'time',\n",
       " 'reli',\n",
       " 'nativ',\n",
       " 'thread',\n",
       " 'librari',\n",
       " 'ocaml',\n",
       " 'instead',\n",
       " 'implement',\n",
       " 'librari',\n",
       " 'ocaml',\n",
       " 'directli',\n",
       " 'version',\n",
       " 'appear',\n",
       " 'stabl',\n",
       " 'adjust',\n",
       " 'unison',\n",
       " 'made',\n",
       " 'accommod',\n",
       " 'version',\n",
       " 'includ',\n",
       " 'particular',\n",
       " 'chang',\n",
       " 'user',\n",
       " 'interfac',\n",
       " 'log',\n",
       " 'exampl',\n",
       " 'two',\n",
       " 'log',\n",
       " 'entri',\n",
       " 'transfer',\n",
       " 'task',\n",
       " 'one',\n",
       " 'begin',\n",
       " 'one',\n",
       " 'end',\n",
       " 'suppress',\n",
       " 'warn',\n",
       " 'messag',\n",
       " 'remov',\n",
       " 'temp',\n",
       " 'file',\n",
       " 'left',\n",
       " 'previou',\n",
       " 'unison',\n",
       " 'run',\n",
       " 'warn',\n",
       " 'work',\n",
       " 'nice',\n",
       " 'temp',\n",
       " 'file',\n",
       " 'name',\n",
       " 'made',\n",
       " 'less',\n",
       " 'like',\n",
       " 'coincid',\n",
       " 'name',\n",
       " 'file',\n",
       " 'creat',\n",
       " 'user',\n",
       " 'take',\n",
       " 'form',\n",
       " 'ad',\n",
       " 'new',\n",
       " 'command',\n",
       " 'gtk',\n",
       " 'user',\n",
       " 'interfac',\n",
       " 'press',\n",
       " 'f',\n",
       " 'caus',\n",
       " 'unison',\n",
       " 'start',\n",
       " 'new',\n",
       " 'updat',\n",
       " 'detect',\n",
       " 'phase',\n",
       " 'use',\n",
       " 'path',\n",
       " 'path',\n",
       " 'detect',\n",
       " 'chang',\n",
       " 'yet',\n",
       " 'mark',\n",
       " 'success',\n",
       " 'complet',\n",
       " 'use',\n",
       " 'command',\n",
       " 'quickli',\n",
       " 'restart',\n",
       " 'unison',\n",
       " 'set',\n",
       " 'path',\n",
       " 'still',\n",
       " 'need',\n",
       " 'attent',\n",
       " 'previou',\n",
       " 'run',\n",
       " 'made',\n",
       " 'ignorecas',\n",
       " 'prefer',\n",
       " 'chang',\n",
       " 'initi',\n",
       " 'code',\n",
       " 'manual',\n",
       " 'set',\n",
       " 'true',\n",
       " 'even',\n",
       " 'neither',\n",
       " 'host',\n",
       " 'run',\n",
       " 'window',\n",
       " 'may',\n",
       " 'use',\n",
       " 'use',\n",
       " 'unison',\n",
       " 'run',\n",
       " 'unix',\n",
       " 'system',\n",
       " 'fat',\n",
       " 'volum',\n",
       " 'mount',\n",
       " 'small',\n",
       " 'improv',\n",
       " 'bug',\n",
       " 'fix',\n",
       " 'error',\n",
       " 'prefer',\n",
       " 'file',\n",
       " 'gener',\n",
       " 'fatal',\n",
       " 'error',\n",
       " 'rather',\n",
       " 'warn',\n",
       " 'startup',\n",
       " 'time',\n",
       " 'ca',\n",
       " 'go',\n",
       " 'also',\n",
       " 'fix',\n",
       " 'bug',\n",
       " 'prevent',\n",
       " 'warn',\n",
       " 'appear',\n",
       " 'text',\n",
       " 'ui',\n",
       " 'user',\n",
       " 'run',\n",
       " 'unsuspectingli',\n",
       " 'garbag',\n",
       " 'pref',\n",
       " 'file',\n",
       " 'may',\n",
       " 'get',\n",
       " 'error',\n",
       " 'report',\n",
       " 'error',\n",
       " 'report',\n",
       " 'prefer',\n",
       " 'file',\n",
       " 'provid',\n",
       " 'file',\n",
       " 'name',\n",
       " 'line',\n",
       " 'number',\n",
       " 'intellig',\n",
       " 'messag',\n",
       " 'case',\n",
       " 'ident',\n",
       " 'chang',\n",
       " 'file',\n",
       " 'noth',\n",
       " 'replica',\n",
       " 'chang',\n",
       " 'ident',\n",
       " 'way',\n",
       " 'sinc',\n",
       " 'last',\n",
       " 'sync',\n",
       " 'file',\n",
       " 'prefix',\n",
       " 'exclud',\n",
       " 'scan',\n",
       " 'prefer',\n",
       " 'file',\n",
       " 'rsync',\n",
       " 'instruct',\n",
       " 'send',\n",
       " 'directli',\n",
       " 'instead',\n",
       " 'first',\n",
       " 'marshal',\n",
       " 'wo',\n",
       " 'tri',\n",
       " 'forev',\n",
       " 'get',\n",
       " 'fingerprint',\n",
       " 'continu',\n",
       " 'chang',\n",
       " 'file',\n",
       " 'unison',\n",
       " 'give',\n",
       " 'certain',\n",
       " 'number',\n",
       " 'retri',\n",
       " 'bug',\n",
       " 'fix',\n",
       " 'includ',\n",
       " 'one',\n",
       " 'report',\n",
       " 'peter',\n",
       " 'seling',\n",
       " 'prefer',\n",
       " 'work',\n",
       " 'compil',\n",
       " 'upgrad',\n",
       " 'new',\n",
       " 'ocaml',\n",
       " 'compil',\n",
       " 'lablgtk',\n",
       " 'librari',\n",
       " 'patch',\n",
       " 'version',\n",
       " 'use',\n",
       " 'compil',\n",
       " 'window',\n",
       " 'ad',\n",
       " 'option',\n",
       " 'compil',\n",
       " 'unison',\n",
       " 'window',\n",
       " 'platform',\n",
       " 'cygwin',\n",
       " 'gnu',\n",
       " 'c',\n",
       " 'compil',\n",
       " 'option',\n",
       " 'support',\n",
       " 'build',\n",
       " 'dynam',\n",
       " 'link',\n",
       " 'unison',\n",
       " 'execut',\n",
       " 'chang',\n",
       " 'sinc',\n",
       " 'fix',\n",
       " 'silli',\n",
       " 'debilit',\n",
       " 'bug',\n",
       " 'client',\n",
       " 'startup',\n",
       " 'sequenc',\n",
       " 'chang',\n",
       " 'sinc',\n",
       " 'ad',\n",
       " 'addprefsto',\n",
       " 'prefer',\n",
       " 'set',\n",
       " 'control',\n",
       " 'prefer',\n",
       " 'file',\n",
       " 'new',\n",
       " 'prefer',\n",
       " 'new',\n",
       " 'ignor',\n",
       " 'pattern',\n",
       " 'ad',\n",
       " 'bug',\n",
       " 'fix',\n",
       " 'read',\n",
       " 'initi',\n",
       " 'connect',\n",
       " 'header',\n",
       " 'one',\n",
       " 'byte',\n",
       " 'time',\n",
       " 'block',\n",
       " 'header',\n",
       " 'shorter',\n",
       " 'expect',\n",
       " 'bug',\n",
       " 'affect',\n",
       " 'normal',\n",
       " 'oper',\n",
       " 'made',\n",
       " 'hard',\n",
       " 'tell',\n",
       " 'tri',\n",
       " 'use',\n",
       " 'unison',\n",
       " 'incorrectli',\n",
       " 'old',\n",
       " 'version',\n",
       " 'server',\n",
       " 'sinc',\n",
       " 'would',\n",
       " 'hang',\n",
       " 'instead',\n",
       " 'give',\n",
       " 'error',\n",
       " 'messag',\n",
       " 'chang',\n",
       " 'sinc',\n",
       " 'chang',\n",
       " 'fastcheck',\n",
       " 'boolean',\n",
       " 'string',\n",
       " 'prefer',\n",
       " 'legal',\n",
       " 'valu',\n",
       " 'ye',\n",
       " 'fast',\n",
       " 'check',\n",
       " 'safe',\n",
       " 'check',\n",
       " 'default',\n",
       " 'fast',\n",
       " 'check',\n",
       " 'also',\n",
       " 'happen',\n",
       " 'safe',\n",
       " 'run',\n",
       " 'unix',\n",
       " 'safe',\n",
       " 'check',\n",
       " 'window',\n",
       " 'default',\n",
       " 'default',\n",
       " 'sever',\n",
       " 'prefer',\n",
       " 'renam',\n",
       " 'consist',\n",
       " 'prefer',\n",
       " 'name',\n",
       " 'spell',\n",
       " 'lowercas',\n",
       " 'backward',\n",
       " 'compat',\n",
       " 'old',\n",
       " 'name',\n",
       " 'still',\n",
       " 'work',\n",
       " 'mention',\n",
       " 'manual',\n",
       " 'temp',\n",
       " 'file',\n",
       " 'creat',\n",
       " 'command',\n",
       " 'name',\n",
       " 'prepend',\n",
       " 'new',\n",
       " 'prefix',\n",
       " 'file',\n",
       " 'name',\n",
       " 'rather',\n",
       " 'append',\n",
       " 'suffix',\n",
       " 'avoid',\n",
       " 'confus',\n",
       " 'program',\n",
       " 'depend',\n",
       " 'suffix',\n",
       " 'guess',\n",
       " 'type',\n",
       " 'file',\n",
       " 'content',\n",
       " 'set',\n",
       " 'keepal',\n",
       " 'option',\n",
       " 'server',\n",
       " 'socket',\n",
       " 'make',\n",
       " 'sure',\n",
       " 'server',\n",
       " 'time',\n",
       " 'commun',\n",
       " 'link',\n",
       " 'unexpectedli',\n",
       " 'broken',\n",
       " 'bug',\n",
       " 'fix',\n",
       " 'updat',\n",
       " 'small',\n",
       " 'file',\n",
       " 'unison',\n",
       " 'close',\n",
       " 'destin',\n",
       " 'file',\n",
       " 'file',\n",
       " 'permiss',\n",
       " 'properli',\n",
       " 'updat',\n",
       " 'file',\n",
       " 'behind',\n",
       " 'follow',\n",
       " 'link',\n",
       " 'sever',\n",
       " 'small',\n",
       " 'fix',\n",
       " 'chang',\n",
       " 'sinc',\n",
       " 'major',\n",
       " 'window',\n",
       " 'perform',\n",
       " 'improv',\n",
       " 'ad',\n",
       " 'prefer',\n",
       " 'fastcheck',\n",
       " 'make',\n",
       " 'unison',\n",
       " 'look',\n",
       " 'file',\n",
       " 'creation',\n",
       " 'time',\n",
       " 'time',\n",
       " 'check',\n",
       " 'whether',\n",
       " 'chang',\n",
       " 'result',\n",
       " 'huge',\n",
       " 'speedup',\n",
       " 'check',\n",
       " 'updat',\n",
       " 'larg',\n",
       " 'replica',\n",
       " 'switch',\n",
       " 'set',\n",
       " 'unison',\n",
       " 'use',\n",
       " 'file',\n",
       " 'creation',\n",
       " 'time',\n",
       " 'inod',\n",
       " 'number',\n",
       " 'scan',\n",
       " 'window',\n",
       " 'replica',\n",
       " 'updat',\n",
       " 'instead',\n",
       " 'read',\n",
       " 'full',\n",
       " 'content',\n",
       " 'everi',\n",
       " 'file',\n",
       " 'may',\n",
       " 'caus',\n",
       " 'unison',\n",
       " 'miss',\n",
       " 'propag',\n",
       " 'updat',\n",
       " 'creat',\n",
       " 'time',\n",
       " 'modif',\n",
       " 'time',\n",
       " 'length',\n",
       " 'file',\n",
       " 'unchang',\n",
       " 'updat',\n",
       " 'easi',\n",
       " 'achiev',\n",
       " 'done',\n",
       " 'howev',\n",
       " 'unison',\n",
       " 'never',\n",
       " 'overwrit',\n",
       " 'updat',\n",
       " 'chang',\n",
       " 'replica',\n",
       " 'sinc',\n",
       " 'alway',\n",
       " 'safe',\n",
       " 'check',\n",
       " 'updat',\n",
       " 'propag',\n",
       " 'chang',\n",
       " 'thu',\n",
       " 'reason',\n",
       " 'use',\n",
       " 'switch',\n",
       " 'time',\n",
       " 'occasion',\n",
       " 'run',\n",
       " 'unison',\n",
       " 'fastcheck',\n",
       " 'set',\n",
       " 'fals',\n",
       " 'worri',\n",
       " 'unison',\n",
       " 'may',\n",
       " 'overlook',\n",
       " 'updat',\n",
       " 'warn',\n",
       " 'chang',\n",
       " 'yet',\n",
       " 'thoroughli',\n",
       " 'set',\n",
       " 'fastcheck',\n",
       " 'prefer',\n",
       " 'pay',\n",
       " 'care',\n",
       " 'attent',\n",
       " 'unison',\n",
       " 'new',\n",
       " 'function',\n",
       " 'central',\n",
       " 'backup',\n",
       " 'merg',\n",
       " 'version',\n",
       " 'incorpor',\n",
       " 'two',\n",
       " 'piec',\n",
       " 'major',\n",
       " 'new',\n",
       " 'function',\n",
       " 'implement',\n",
       " ...]"
      ]
     },
     "execution_count": 192,
     "metadata": {},
     "output_type": "execute_result"
    }
   ],
   "source": [
    "stemmed_nested_list[np.argmax(clean_email_lengths)]"
   ]
  },
  {
   "cell_type": "code",
   "execution_count": 193,
   "metadata": {},
   "outputs": [
    {
     "data": {
      "text/plain": [
       "'------------------------ Yahoo! Groups Sponsor ---------------------~-->\\n\\n4 DVDs Free +s&p Join Now\\n\\nhttp://us.click.yahoo.com/pt6YBB/NXiEAA/Ey.GAA/26EolB/TM\\n\\n---------------------------------------------------------------------~->\\n\\n\\n\\nA new version of unison is now available for testing.  It incorporates\\n\\nseveral small improvements over 2.9.1, but the main change is a fix to\\n\\na bug that had potentially serious safety consequences, but only for\\n\\nthe very small number of users that are in the habit of running more\\n\\nthan one instance of Unison at a time, in parallel.  These users are\\n\\nstrongly encouraged to upgrade.  Others can wait if they wish.\\n\\n\\n\\nThe release includes pre-built executables for Linux and Solaris, but\\n\\nnot Windows.  (We are looking for a Unison-Windows maintainer -- at\\n\\nthe moment, none of the active developers are regularly using Unison\\n\\non Windows, and we do not have a machine that is configured properly\\n\\nfor building executables for export.)\\n\\n\\n\\nGrab it from here:\\n\\n   http://www.cis.upenn.edu/~bcpierce/unison/download.html\\n\\n\\n\\nEnjoy,\\n\\n\\n\\n        -- Benjamin\\n\\n\\n\\n   Changes since 2.9.1:\\n\\n     * Added a preference maxthreads that can be used to limit the number\\n\\n       of simultaneous file transfers.\\n\\n     * Added a backupdir preference, which controls where backup files\\n\\n       are stored.\\n\\n     * Basic support added for OSX. In particular, Unison now recognizes\\n\\n       when one of the hosts being synchronized is running OSX and\\n\\n       switches to a case-insensitive treatment of filenames (i.e., \\'foo\\'\\n\\n       and \\'FOO\\' are considered to be the same file). (OSX is not yet\\n\\n       fully working, however: in particular, files with resource forks\\n\\n       will not be synchronized correctly.)\\n\\n     * The same hash used to form the archive name is now also added to\\n\\n       the names of the temp files created during file transfer. The\\n\\n       reason for this is that, during update detection, we are going to\\n\\n       silently delete any old temp files that we find along the way, and\\n\\n       we want to prevent ourselves from deleting temp files belonging to\\n\\n       other instances of Unison that may be running in parallel, e.g.\\n\\n       synchronizing with a different host. Thanks to Ruslan Ermilov for\\n\\n       this suggestion.\\n\\n     * Several small user interface improvements\\n\\n     * Documentation\\n\\n          + FAQ and bug reporting instructions have been split out as\\n\\n            separate HTML pages, accessible directly from the unison web\\n\\n            page.\\n\\n          + Additions to FAQ, in particular suggestions about performance\\n\\n            tuning.\\n\\n     * Makefile\\n\\n          + Makefile.OCaml now sets UISTYLE=text or UISTYLE=gtk\\n\\n            automatically, depending on whether it finds lablgtk\\n\\n            installed\\n\\n          + Unison should now compile ``out of the box\\'\\' under OSX\\n\\n       \\n\\n   Changes since 2.8.1:\\n\\n     * Changing profile works again under Windows\\n\\n     * File movement optimization: Unison now tries to use local copy\\n\\n       instead of transfer for moved or copied files. It is controled by\\n\\n       a boolean option ``xferbycopying\\'\\'.\\n\\n     * Network statistics window (transfer rate, amount of data\\n\\n       transferred). [NB: not available in Windows-Cygwin version.]\\n\\n     * symlinks work under the cygwin version (which is dynamically\\n\\n       linked).\\n\\n     * Fixed potential deadlock when synchronizing between Windows and\\n\\n       Unix\\n\\n     * Small improvements:\\n\\n          + If neither the\\n\\n            tt USERPROFILE nor the\\n\\n            tt HOME environment variables are set, then Unison will put\\n\\n            its temporary commit log (called\\n\\n            tt DANGER.README) into the directory named by the\\n\\n            tt UNISON environment variable, if any; otherwise it will use\\n\\n            tt C:.\\n\\n          + alternative set of values for fastcheck: yes = true; no =\\n\\n            false; default = auto.\\n\\n          + -silent implies -contactquietly\\n\\n     * Source code:\\n\\n          + Code reorganization and tidying. (Started breaking up some of\\n\\n            the basic utility modules so that the non-unison-specific\\n\\n            stuff can be made available for other projects.)\\n\\n          + several Makefile and docs changes (for release);\\n\\n          + further comments in ``update.ml\\'\\';\\n\\n          + connection information is not stored in global variables\\n\\n            anymore.\\n\\n       \\n\\n   Changes since 2.7.78:\\n\\n     * Small bugfix to textual user interface under Unix (to avoid\\n\\n       leaving the terminal in a bad state where it would not echo inputs\\n\\n       after Unison exited).\\n\\n       \\n\\n   Changes since 2.7.39:\\n\\n     * Improvements to the main web page (stable and beta version docs\\n\\n       are now both accessible).\\n\\n     * User manual revised.\\n\\n     * Added some new preferences:\\n\\n          + ``sshcmd\\'\\' and ``rshcmd\\'\\' for specifying paths to ssh and rsh\\n\\n            programs.\\n\\n          + ``contactquietly\\'\\' for suppressing the ``contacting server\\'\\'\\n\\n            message during Unison startup (under the graphical UI).\\n\\n     * Bug fixes:\\n\\n          + Fixed small bug in UI that neglected to change the displayed\\n\\n            column headers if loading a new profile caused the roots to\\n\\n            change.\\n\\n          + Fixed a bug that would put the text UI into an infinite loop\\n\\n            if it encountered a conflict when run in batch mode.\\n\\n          + Added some code to try to fix the display of non-Ascii\\n\\n            characters in filenames on Windows systems in the GTK UI.\\n\\n            (This code is currently untested---if you\\'re one of the\\n\\n            people that had reported problems with display of non-ascii\\n\\n            filenames, we\\'d appreciate knowing if this actually fixes\\n\\n            things.)\\n\\n          + `-prefer/-force newer\\' works properly now. (The bug was\\n\\n            reported by Sebastian Urbaniak and Sean Fulton.)\\n\\n     * User interface and Unison behavior:\\n\\n          + Renamed `Proceed\\' to `Go\\' in the graphical UI.\\n\\n          + Added exit status for the textual user interface.\\n\\n          + Paths that are not synchronized because of conflicts or\\n\\n            errors during update detection are now noted in the log file.\\n\\n          + [END] messages in log now use a briefer format\\n\\n          + Changed the text UI startup sequence so that\\n\\n            tt ./unison -ui text will use the default profile instead of\\n\\n            failing.\\n\\n          + Made some improvements to the error messages.\\n\\n          + Added some debugging messages to remote.ml.\\n\\n       \\n\\n   Changes since 2.7.7:\\n\\n     * Incorporated, once again, a multi-threaded transport sub-system.\\n\\n       It transfers several files at the same time, thereby making much\\n\\n       more effective use of available network bandwidth. Unlike the\\n\\n       earlier attempt, this time we do not rely on the native thread\\n\\n       library of OCaml. Instead, we implement a light-weight,\\n\\n       non-preemptive multi-thread library in OCaml directly. This\\n\\n       version appears stable.\\n\\n       Some adjustments to unison are made to accommodate the\\n\\n       multi-threaded version. These include, in particular, changes to\\n\\n       the user interface and logging, for example:\\n\\n          + Two log entries for each transferring task, one for the\\n\\n            beginning, one for the end.\\n\\n          + Suppressed warning messages against removing temp files left\\n\\n            by a previous unison run, because warning does not work\\n\\n            nicely under multi-threading. The temp file names are made\\n\\n            less likely to coincide with the name of a file created by\\n\\n            the user. They take the form\\n\\n            .#<filename>.<serial>.unison.tmp.\\n\\n     * Added a new command to the GTK user interface: pressing \\'f\\' causes\\n\\n       Unison to start a new update detection phase, using as paths just\\n\\n       those paths that have been detected as changed and not yet marked\\n\\n       as successfully completed. Use this command to quickly restart\\n\\n       Unison on just the set of paths still needing attention after a\\n\\n       previous run.\\n\\n     * Made the ignorecase preference user-visible, and changed the\\n\\n       initialization code so that it can be manually set to true, even\\n\\n       if neither host is running Windows. (This may be useful, e.g.,\\n\\n       when using Unison running on a Unix system with a FAT volume\\n\\n       mounted.)\\n\\n     * Small improvements and bug fixes:\\n\\n          + Errors in preference files now generate fatal errors rather\\n\\n            than warnings at startup time. (I.e., you can\\'t go on from\\n\\n            them.) Also, we fixed a bug that was preventing these\\n\\n            warnings from appearing in the text UI, so some users who\\n\\n            have been running (unsuspectingly) with garbage in their\\n\\n            prefs files may now get error reports.\\n\\n          + Error reporting for preference files now provides file name\\n\\n            and line number.\\n\\n          + More intelligible message in the case of identical change to\\n\\n            the same files: ``Nothing to do: replicas have been changed\\n\\n            only in identical ways since last sync.\\'\\'\\n\\n          + Files with prefix \\'.#\\' excluded when scanning for preference\\n\\n            files.\\n\\n          + Rsync instructions are send directly instead of first\\n\\n            marshaled.\\n\\n          + Won\\'t try forever to get the fingerprint of a continuously\\n\\n            changing file: unison will give up after certain number of\\n\\n            retries.\\n\\n          + Other bug fixes, including the one reported by Peter Selinger\\n\\n            (force=older preference not working).\\n\\n     * Compilation:\\n\\n          + Upgraded to the new OCaml 3.04 compiler, with the LablGtk\\n\\n            1.2.3 library (patched version used for compiling under\\n\\n            Windows).\\n\\n          + Added the option to compile unison on the Windows platform\\n\\n            with Cygwin GNU C compiler. This option only supports\\n\\n            building dynamically linked unison executables.\\n\\n       \\n\\n   Changes since 2.7.4:\\n\\n     * Fixed a silly (but debilitating) bug in the client startup\\n\\n       sequence.\\n\\n       \\n\\n   Changes since 2.7.1:\\n\\n     * Added addprefsto preference, which (when set) controls which\\n\\n       preference file new preferences (e.g. new ignore patterns) are\\n\\n       added to.\\n\\n     * Bug fix: read the initial connection header one byte at a time, so\\n\\n       that we don\\'t block if the header is shorter than expected. (This\\n\\n       bug did not affect normal operation --- it just made it hard to\\n\\n       tell when you were trying to use Unison incorrectly with an old\\n\\n       version of the server, since it would hang instead of giving an\\n\\n       error message.)\\n\\n       \\n\\n   Changes since 2.6.59:\\n\\n     * Changed fastcheck from a boolean to a string preference. Its legal\\n\\n       values are yes (for a fast check), no (for a safe check), or\\n\\n       default (for a fast check---which also happens to be safe---when\\n\\n       running on Unix and a safe check when on Windows). The default is\\n\\n       default.\\n\\n     * Several preferences have been renamed for consistency. All\\n\\n       preference names are now spelled out in lowercase. For backward\\n\\n       compatibility, the old names still work, but they are not\\n\\n       mentioned in the manual any more.\\n\\n     * The temp files created by the \\'diff\\' and \\'merge\\' commands are now\\n\\n       named by prepending a new prefix to the file name, rather than\\n\\n       appending a suffix. This should avoid confusing diff/merge\\n\\n       programs that depend on the suffix to guess the type of the file\\n\\n       contents.\\n\\n     * We now set the keepalive option on the server socket, to make sure\\n\\n       that the server times out if the communication link is\\n\\n       unexpectedly broken.\\n\\n     * Bug fixes:\\n\\n          + When updating small files, Unison now closes the destination\\n\\n            file.\\n\\n          + File permissions are properly updated when the file is behind\\n\\n            a followed link.\\n\\n          + Several other small fixes.\\n\\n       \\n\\n   Changes since 2.6.38:\\n\\n     * Major Windows performance improvement!\\n\\n       We\\'ve added a preference fastcheck that makes Unison look only at\\n\\n       a file\\'s creation time and last-modified time to check whether it\\n\\n       has changed. This should result in a huge speedup when checking\\n\\n       for updates in large replicas.\\n\\n       When this switch is set, Unison will use file creation times as\\n\\n       \\'pseudo inode numbers\\' when scanning Windows replicas for updates,\\n\\n       instead of reading the full contents of every file. This may cause\\n\\n       Unison to miss propagating an update if the create time,\\n\\n       modification time, and length of the file are all unchanged by the\\n\\n       update (this is not easy to achieve, but it can be done). However,\\n\\n       Unison will never overwrite such an update with a change from the\\n\\n       other replica, since it always does a safe check for updates just\\n\\n       before propagating a change. Thus, it is reasonable to use this\\n\\n       switch most of the time and occasionally run Unison once with\\n\\n       fastcheck set to false, if you are worried that Unison may have\\n\\n       overlooked an update.\\n\\n       Warning: This change is has not yet been thoroughly field-tested.\\n\\n       If you set the fastcheck preference, pay careful attention to what\\n\\n       Unison is doing.\\n\\n     * New functionality: centralized backups and merging\\n\\n          + This version incorporates two pieces of major new\\n\\n            functionality, implemented by Sylvain Roy during a summer\\n\\n            internship at Penn: a centralized backup facility that keeps\\n\\n            a full backup of (selected files in) each replica, and a\\n\\n            merging feature that allows Unison to invoke an external\\n\\n            file-merging tool to resolve conflicting changes to\\n\\n            individual files.\\n\\n          + Centralized backups:\\n\\n               o Unison now maintains full backups of the\\n\\n                 last-synchronized versions of (some of) the files in\\n\\n                 each replica; these function both as backups in the\\n\\n                 usual sense and as the ``common version\\'\\' when invoking\\n\\n                 external merge programs.\\n\\n               o The backed up files are stored in a directory\\n\\n                 /.unison/backup on each host. (The name of this\\n\\n                 directory can be changed by setting the environment\\n\\n                 variable UNISONBACKUPDIR.)\\n\\n               o The predicate backup controls which files are actually\\n\\n                 backed up: giving the preference \\'backup = Path *\\'\\n\\n                 causes backing up of all files.\\n\\n               o Files are added to the backup directory whenever unison\\n\\n                 updates its archive. This means that\\n\\n                    # When unison reconstructs its archive from scratch\\n\\n                      (e.g., because of an upgrade, or because the\\n\\n                      archive files have been manually deleted), all\\n\\n                      files will be backed up.\\n\\n                    # Otherwise, each file will be backed up the first\\n\\n                      time unison propagates an update for it.\\n\\n               o The preference backupversions controls how many previous\\n\\n                 versions of each file are kept. The default is 2 (i.e.,\\n\\n                 the last synchronized version plus one backup).\\n\\n               o For backward compatibility, the backups preference is\\n\\n                 also still supported, but backup is now preferred.\\n\\n               o It is OK to manually delete files from the backup\\n\\n                 directory (or to throw away the directory itself).\\n\\n                 Before unison uses any of these files for anything\\n\\n                 important, it checks that its fingerprint matches the\\n\\n                 one that it expects.\\n\\n          + Merging:\\n\\n               o Both user interfaces offer a new \\'merge\\' command,\\n\\n                 invoked by pressing \\'m\\' (with a changed file selected).\\n\\n               o The actual merging is performed by an external program.\\n\\n                 The preferences merge and merge2 control how this\\n\\n                 program is invoked. If a backup exists for this file\\n\\n                 (see the backup preference), then the merge preference\\n\\n                 is used for this purpose; otherwise merge2 is used. In\\n\\n                 both cases, the value of the preference should be a\\n\\n                 string representing the command that should be passed to\\n\\n                 a shell to invoke the merge program. Within this string,\\n\\n                 the special substrings CURRENT1, CURRENT2, NEW, and OLD\\n\\n                 may appear at any point. Unison will substitute these as\\n\\n                 follows before invoking the command:\\n\\n                    # CURRENT1 is replaced by the name of the local copy\\n\\n                      of the file;\\n\\n                    # CURRENT2 is replaced by the name of a temporary\\n\\n                      file, into which the contents of the remote copy of\\n\\n                      the file have been transferred by Unison prior to\\n\\n                      performing the merge;\\n\\n                    # NEW is replaced by the name of a temporary file\\n\\n                      that Unison expects to be written by the merge\\n\\n                      program when it finishes, giving the desired new\\n\\n                      contents of the file; and\\n\\n                    # OLD is replaced by the name of the backed up copy\\n\\n                      of the original version of the file (i.e., its\\n\\n                      state at the end of the last successful run of\\n\\n                      Unison), if one exists (applies only to merge, not\\n\\n                      merge2).\\n\\n                 For example, on Unix systems setting the merge\\n\\n                 preference to\\n\\n\\n\\n   merge = diff3 -m CURRENT1 OLD CURRENT2 > NEW\\n\\n                 will tell Unison to use the external diff3 program for\\n\\n                 merging.\\n\\n                 A large number of external merging programs are\\n\\n                 available. For example, emacs users may find the\\n\\n                 following convenient:\\n\\n\\n\\n    merge2 = emacs -q --eval \\'(ediff-merge-files \"CURRENT1\" \"CURRENT2\"\\n\\n               nil \"NEW\")\\'\\n\\n    merge = emacs -q --eval \\'(ediff-merge-files-with-ancestor\\n\\n               \"CURRENT1\" \"CURRENT2\" \"OLD\" nil \"NEW\")\\'\\n\\n                 (These commands are displayed here on two lines to avoid\\n\\n                 running off the edge of the page. In your preference\\n\\n                 file, each should be written on a single line.)\\n\\n               o If the external program exits without leaving any file\\n\\n                 at the path NEW, Unison considers the merge to have\\n\\n                 failed. If the merge program writes a file called NEW\\n\\n                 but exits with a non-zero status code, then Unison\\n\\n                 considers the merge to have succeeded but to have\\n\\n                 generated conflicts. In this case, it attempts to invoke\\n\\n                 an external editor so that the user can resolve the\\n\\n                 conflicts. The value of the editor preference controls\\n\\n                 what editor is invoked by Unison. The default is emacs.\\n\\n               o Please send us suggestions for other useful values of\\n\\n                 the merge2 and merge preferences -- we\\'d like to give\\n\\n                 several examples in the manual.\\n\\n     * Smaller changes:\\n\\n          + When one preference file includes another, unison no longer\\n\\n            adds the suffix \\'.prf\\' to the included file by default. If a\\n\\n            file with precisely the given name exists in the .unison\\n\\n            directory, it will be used; otherwise Unison will add .prf,\\n\\n            as it did before. (This change means that included preference\\n\\n            files can be named blah.include instead of blah.prf, so that\\n\\n            unison will not offer them in its \\'choose a preference file\\'\\n\\n            dialog.)\\n\\n          + For Linux systems, we now offer both a statically linked and\\n\\n            a dynamically linked executable. The static one is larger,\\n\\n            but will probably run on more systems, since it doesn\\'t\\n\\n            depend on the same versions of dynamically linked library\\n\\n            modules being available.\\n\\n          + Fixed the force and prefer preferences, which were getting\\n\\n            the propagation direction exactly backwards.\\n\\n          + Fixed a bug in the startup code that would cause unison to\\n\\n            crash when the default profile (~/.unison/default.prf) does\\n\\n            not exist.\\n\\n          + Fixed a bug where, on the run when a profile is first\\n\\n            created, Unison would confusingly display the roots in\\n\\n            reverse order in the user interface.\\n\\n     * For developers:\\n\\n          + We\\'ve added a module dependency diagram to the source\\n\\n            distribution, in src/DEPENDENCIES.ps, to help new prospective\\n\\n            developers with navigating the code.\\n\\n       \\n\\n   Changes since 2.6.11:\\n\\n     * INCOMPATIBLE CHANGE: Archive format has changed.\\n\\n     * INCOMPATIBLE CHANGE: The startup sequence has been completely\\n\\n       rewritten and greatly simplified. The main user-visible change is\\n\\n       that the defaultpath preference has been removed. Its effect can\\n\\n       be approximated by using multiple profiles, with include\\n\\n       directives to incorporate common settings. All uses of defaultpath\\n\\n       in existing profiles should be changed to path.\\n\\n       Another change in startup behavior that will affect some users is\\n\\n       that it is no longer possible to specify roots both in the profile\\n\\n       and on the command line.\\n\\n       You can achieve a similar effect, though, by breaking your profile\\n\\n       into two:\\n\\n\\n\\n\\n\\n  default.prf =\\n\\n      root = blah\\n\\n      root = foo\\n\\n      include common\\n\\n\\n\\n  common.prf =\\n\\n      <everything else>\\n\\n       Now do\\n\\n\\n\\n  unison common root1 root2\\n\\n       when you want to specify roots explicitly.\\n\\n     * The -prefer and -force options have been extended to allow users\\n\\n       to specify that files with more recent modtimes should be\\n\\n       propagated, writing either -prefer newer or -force newer. (For\\n\\n       symmetry, Unison will also accept -prefer older or -force older.)\\n\\n       The -force older/newer options can only be used when -times is\\n\\n       also set.\\n\\n       The graphical user interface provides access to these facilities\\n\\n       on a one-off basis via the Actions menu.\\n\\n     * Names of roots can now be ``aliased\\'\\' to allow replicas to be\\n\\n       relocated without changing the name of the archive file where\\n\\n       Unison stores information between runs. (This feature is for\\n\\n       experts only. See the ``Archive Files\\'\\' section of the manual for\\n\\n       more information.)\\n\\n     * Graphical user-interface:\\n\\n          + A new command is provided in the Synchronization menu for\\n\\n            switching to a new profile without restarting Unison from\\n\\n            scratch.\\n\\n          + The GUI also supports one-key shortcuts for commonly used\\n\\n            profiles. If a profile contains a preference of the form \\'key\\n\\n            = n\\', where n is a single digit, then pressing this key will\\n\\n            cause Unison to immediately switch to this profile and begin\\n\\n            synchronization again from scratch. (Any actions that may\\n\\n            have been selected for a set of changes currently being\\n\\n            displayed will be discarded.)\\n\\n          + Each profile may include a preference \\'label = <string>\\'\\n\\n            giving a descriptive string that described the options\\n\\n            selected in this profile. The string is listed along with the\\n\\n            profile name in the profile selection dialog, and displayed\\n\\n            in the top-right corner of the main Unison window.\\n\\n     * Minor:\\n\\n          + Fixed a bug that would sometimes cause the \\'diff\\' display to\\n\\n            order the files backwards relative to the main user\\n\\n            interface. (Thanks to Pascal Brisset for this fix.)\\n\\n          + On Unix systems, the graphical version of Unison will check\\n\\n            the DISPLAY variable and, if it is not set, automatically\\n\\n            fall back to the textual user interface.\\n\\n          + Synchronization paths (path preferences) are now matched\\n\\n            against the ignore preferences. So if a path is both\\n\\n            specified in a path preference and ignored, it will be\\n\\n            skipped.\\n\\n          + Numerous other bugfixes and small improvements.\\n\\n       \\n\\n   Changes since 2.6.1:\\n\\n     * The synchronization of modification times has been disabled for\\n\\n       directories.\\n\\n     * Preference files may now include lines of the form include <name>,\\n\\n       which will cause name.prf to be read at that point.\\n\\n     * The synchronization of permission between Windows and Unix now\\n\\n       works properly.\\n\\n     * A binding CYGWIN=binmode in now added to the environment so that\\n\\n       the Cygwin port of OpenSSH works properly in a non-Cygwin context.\\n\\n     * The servercmd and addversionno preferences can now be used\\n\\n       together: -addversionno appends an appropriate -NNN to the server\\n\\n       command, which is found by using the value of the -servercmd\\n\\n       preference if there is one, or else just unison.\\n\\n     * Both \\'-pref=val\\' and \\'-pref val\\' are now allowed for boolean\\n\\n       values. (The former can be used to set a preference to false.)\\n\\n     * Lot of small bugs fixed.\\n\\n       \\n\\n   Changes since 2.5.31:\\n\\n     * The log preference is now set to true by default, since the log\\n\\n       file seems useful for most users.\\n\\n     * Several miscellaneous bugfixes (most involving symlinks).\\n\\n       \\n\\n   Changes since 2.5.25:\\n\\n     * INCOMPATIBLE CHANGE: Archive format has changed (again).\\n\\n     * Several significant bugs introduced in 2.5.25 have been fixed.\\n\\n       \\n\\n   Changes since 2.5.1:\\n\\n     * INCOMPATIBLE CHANGE: Archive format has changed. Make sure you\\n\\n       synchronize your replicas before upgrading, to avoid spurious\\n\\n       conflicts. The first sync after upgrading will be slow.\\n\\n     * New functionality:\\n\\n          + Unison now synchronizes file modtimes, user-ids, and\\n\\n            group-ids.\\n\\n            These new features are controlled by a set of new\\n\\n            preferences, all of which are currently false by default.\\n\\n               o When the times preference is set to true, file\\n\\n                 modification times are propaged. (Because the\\n\\n                 representations of time may not have the same\\n\\n                 granularity on both replicas, Unison may not always be\\n\\n                 able to make the modtimes precisely equal, but it will\\n\\n                 get them as close as the operating systems involved\\n\\n                 allow.)\\n\\n               o When the owner preference is set to true, file ownership\\n\\n                 information is synchronized.\\n\\n               o When the group preference is set to true, group\\n\\n                 information is synchronized.\\n\\n               o When the numericIds preference is set to true, owner and\\n\\n                 group information is synchronized numerically. By\\n\\n                 default, owner and group numbers are converted to names\\n\\n                 on each replica and these names are synchronized. (The\\n\\n                 special user id 0 and the special group 0 are never\\n\\n                 mapped via user/group names even if this preference is\\n\\n                 not set.)\\n\\n          + Added an integer-valued preference perms that can be used to\\n\\n            control the propagation of permission bits. The value of this\\n\\n            preference is a mask indicating which permission bits should\\n\\n            be synchronized. It is set by default to 0o1777: all bits but\\n\\n            the set-uid and set-gid bits are synchronised (synchronizing\\n\\n            theses latter bits can be a security hazard). If you want to\\n\\n            synchronize all bits, you can set the value of this\\n\\n            preference to -1.\\n\\n          + Added a log preference (default false), which makes Unison\\n\\n            keep a complete record of the changes it makes to the\\n\\n            replicas. By default, this record is written to a file called\\n\\n            unison.log in the user\\'s home directory (the value of the\\n\\n            HOME environment variable). If you want it someplace else,\\n\\n            set the logfile preference to the full pathname you want\\n\\n            Unison to use.\\n\\n          + Added an ignorenot preference that maintains a set of\\n\\n            patterns for paths that should definitely not be ignored,\\n\\n            whether or not they match an ignore pattern. (That is, a path\\n\\n            will now be ignored iff it matches an ignore pattern and does\\n\\n            not match any ignorenot patterns.)\\n\\n     * User-interface improvements:\\n\\n          + Roots are now displayed in the user interface in the same\\n\\n            order as they were given on the command line or in the\\n\\n            preferences file.\\n\\n          + When the batch preference is set, the graphical user\\n\\n            interface no longer waits for user confirmation when it\\n\\n            displays a warning message: it simply pops up an advisory\\n\\n            window with a Dismiss button at the bottom and keeps on\\n\\n            going.\\n\\n          + Added a new preference for controlling how many status\\n\\n            messages are printed during update detection: statusdepth\\n\\n            controls the maximum depth for paths on the local machine\\n\\n            (longer paths are not displayed, nor are non-directory\\n\\n            paths). The value should be an integer; default is 1.\\n\\n          + Removed the trace and silent preferences. They did not seem\\n\\n            very useful, and there were too many preferences for\\n\\n            controlling output in various ways.\\n\\n          + The text UI now displays just the default command (the one\\n\\n            that will be used if the user just types <return>) instead of\\n\\n            all available commands. Typing ? will print the full list of\\n\\n            possibilities.\\n\\n          + The function that finds the canonical hostname of the local\\n\\n            host (which is used, for example, in calculating the name of\\n\\n            the archive file used to remember which files have been\\n\\n            synchronized) normally uses the gethostname operating system\\n\\n            call. However, if the environment variable\\n\\n            UNISONLOCALHOSTNAME is set, its value will now be used\\n\\n            instead. This makes it easier to use Unison in situations\\n\\n            where a machine\\'s name changes frequently (e.g., because it\\n\\n            is a laptop and gets moved around a lot).\\n\\n          + File owner and group are now displayed in the ``detail\\n\\n            window\\'\\' at the bottom of the screen, when unison is\\n\\n            configured to synchronize them.\\n\\n     * For hackers:\\n\\n          + Updated to Jacques Garrigue\\'s new version of lablgtk, which\\n\\n            means we can throw away our local patched version.\\n\\n            If you\\'re compiling the GTK version of unison from sources,\\n\\n            you\\'ll need to update your copy of lablgtk to the developers\\n\\n            release, available from\\n\\n            http://wwwfun.kurims.kyoto-u.ac.jp/soft/olabl/lablgtk.html\\n\\n            (Warning: installing lablgtk under Windows is currently a bit\\n\\n            challenging.)\\n\\n          + The TODO.txt file (in the source distribution) has been\\n\\n            cleaned up and reorganized. The list of pending tasks should\\n\\n            be much easier to make sense of, for people that may want to\\n\\n            contribute their programming energies. There is also a\\n\\n            separate file BUGS.txt for open bugs.\\n\\n          + The Tk user interface has been removed (it was not being\\n\\n            maintained and no longer compiles).\\n\\n          + The debug preference now prints quite a bit of additional\\n\\n            information that should be useful for identifying sources of\\n\\n            problems.\\n\\n          + The version number of the remote server is now checked right\\n\\n            away during the connection setup handshake, rather than\\n\\n            later. (Somebody sent a bug report of a server crash that\\n\\n            turned out to come from using inconsistent versions: better\\n\\n            to check this earlier and in a way that can\\'t crash either\\n\\n            client or server.)\\n\\n          + Unison now runs correctly on 64-bit architectures (e.g. Alpha\\n\\n            linux). We will not be distributing binaries for these\\n\\n            architectures ourselves (at least for a while) but if someone\\n\\n            would like to make them available, we\\'ll be glad to provide a\\n\\n            link to them.\\n\\n     * Bug fixes:\\n\\n          + Pattern matching (e.g. for ignore) is now case-insensitive\\n\\n            when Unison is in case-insensitive mode (i.e., when one of\\n\\n            the replicas is on a windows machine).\\n\\n          + Some people had trouble with mysterious failures during\\n\\n            propagation of updates, where files would be falsely reported\\n\\n            as having changed during synchronization. This should be\\n\\n            fixed.\\n\\n          + Numerous smaller fixes.\\n\\n       \\n\\n   Changes since 2.4.1:\\n\\n     * Added a number of \\'sorting modes\\' for the user interface. By\\n\\n       default, conflicting changes are displayed at the top, and the\\n\\n       rest of the entries are sorted in alphabetical order. This\\n\\n       behavior can be changed in the following ways:\\n\\n          + Setting the sortnewfirst preference to true causes newly\\n\\n            created files to be displayed before changed files.\\n\\n          + Setting sortbysize causes files to be displayed in increasing\\n\\n            order of size.\\n\\n          + Giving the preference sortfirst=<pattern> (where <pattern> is\\n\\n            a path descriptor in the same format as \\'ignore\\' and \\'follow\\'\\n\\n            patterns, causes paths matching this pattern to be displayed\\n\\n            first.\\n\\n          + Similarly, giving the preference sortlast=<pattern> causes\\n\\n            paths matching this pattern to be displayed last.\\n\\n       The sorting preferences are described in more detail in the user\\n\\n       manual. The sortnewfirst and sortbysize flags can also be accessed\\n\\n       from the \\'Sort\\' menu in the grpahical user interface.\\n\\n     * Added two new preferences that can be used to change unison\\'s\\n\\n       fundamental behavior to make it more like a mirroring tool instead\\n\\n       of a synchronizer.\\n\\n          + Giving the preference prefer with argument <root> (by adding\\n\\n            -prefer <root> to the command line or prefer=<root>) to your\\n\\n            profile) means that, if there is a conflict, the contents of\\n\\n            <root> should be propagated to the other replica (with no\\n\\n            questions asked). Non-conflicting changes are treated as\\n\\n            usual.\\n\\n          + Giving the preference force with argument <root> will make\\n\\n            unison resolve all differences in favor of the given root,\\n\\n            even if it was the other replica that was changed.\\n\\n       These options should be used with care! (More information is\\n\\n       available in the manual.)\\n\\n     * Small changes:\\n\\n          + Changed default answer to \\'Yes\\' in all two-button dialogs in\\n\\n            the graphical interface (this seems more intuitive).\\n\\n          + The rsync preference has been removed (it was used to\\n\\n            activate rsync compression for file transfers, but rsync\\n\\n            compression is now enabled by default).\\n\\n          + In the text user interface, the arrows indicating which\\n\\n            direction changes are being propagated are printed\\n\\n            differently when the user has overridded Unison\\'s default\\n\\n            recommendation (====> instead of ---->). This matches the\\n\\n            behavior of the graphical interface, which displays such\\n\\n            arrows in a different color.\\n\\n          + Carriage returns (Control-M\\'s) are ignored at the ends of\\n\\n            lines in profiles, for Windows compatibility.\\n\\n          + All preferences are now fully documented in the user manual.\\n\\n       \\n\\n   Changes since 2.3.12:\\n\\n     * INCOMPATIBLE CHANGE: Archive format has changed. Make sure you\\n\\n       synchronize your replicas before upgrading, to avoid spurious\\n\\n       conflicts. The first sync after upgrading will be slow.\\n\\n     * New/improved functionality:\\n\\n          + A new preference -sortbysize controls the order in which\\n\\n            changes are displayed to the user: when it is set to true,\\n\\n            the smallest changed files are displayed first. (The default\\n\\n            setting is false.)\\n\\n          + A new preference -sortnewfirst causes newly created files to\\n\\n            be listed before other updates in the user interface.\\n\\n          + We now allow the ssh protocol to specify a port.\\n\\n          + Incompatible change: The unison: protocol is deprecated, and\\n\\n            we added file: and socket:. You may have to modify your\\n\\n            profiles in the .unison directory. If a replica is specified\\n\\n            without an explicit protocol, we now assume it refers to a\\n\\n            file. (Previously \"//saul/foo\" meant to use SSH to connect to\\n\\n            saul, then access the foo directory. Now it means to access\\n\\n            saul via a remote file mechanism such as samba; the old\\n\\n            effect is now achieved by writing ssh://saul/foo.)\\n\\n          + Changed the startup sequence for the case where roots are\\n\\n            given but no profile is given on the command line. The new\\n\\n            behavior is to use the default profile (creating it if it\\n\\n            does not exist), and temporarily override its roots. The\\n\\n            manual claimed that this case would work by reading no\\n\\n            profile at all, but AFAIK this was never true.\\n\\n          + In all user interfaces, files with conflicts are always\\n\\n            listed first\\n\\n          + A new preference \\'sshversion\\' can be used to control which\\n\\n            version of ssh should be used to connect to the server. Legal\\n\\n            values are 1 and 2. (Default is empty, which will make unison\\n\\n            use whatever version of ssh is installed as the default \\'ssh\\'\\n\\n            command.)\\n\\n          + The situation when the permissions of a file was updated the\\n\\n            same on both side is now handled correctly (we used to report\\n\\n            a spurious conflict)\\n\\n     * Improvements for the Windows version:\\n\\n          + The fact that filenames are treated case-insensitively under\\n\\n            Windows should now be handled correctly. The exact behavior\\n\\n            is described in the cross-platform section of the manual.\\n\\n          + It should be possible to synchronize with Windows shares,\\n\\n            e.g., //host/drive/path.\\n\\n          + Workarounds to the bug in syncing root directories in\\n\\n            Windows. The most difficult thing to fix is an ocaml bug:\\n\\n            Unix.opendir fails on c: in some versions of Windows.\\n\\n     * Improvements to the GTK user interface (the Tk interface is no\\n\\n       longer being maintained):\\n\\n          + The UI now displays actions differently (in blue) when they\\n\\n            have been explicitly changed by the user from Unison\\'s\\n\\n            default recommendation.\\n\\n          + More colorful appearance.\\n\\n          + The initial profile selection window works better.\\n\\n          + If any transfers failed, a message to this effect is\\n\\n            displayed along with \\'Synchronization complete\\' at the end of\\n\\n            the transfer phase (in case they may have scrolled off the\\n\\n            top).\\n\\n          + Added a global progress meter, displaying the percentage of\\n\\n            total bytes that have been transferred so far.\\n\\n     * Improvements to the text user interface:\\n\\n          + The file details will be displayed automatically when a\\n\\n            conflict is been detected.\\n\\n          + when a warning is generated (e.g. for a temporary file left\\n\\n            over from a previous run of unison) Unison will no longer\\n\\n            wait for a response if it is running in -batch mode.\\n\\n          + The UI now displays a short list of possible inputs each time\\n\\n            it waits for user interaction.\\n\\n          + The UI now quits immediately (rather than looping back and\\n\\n            starting the interaction again) if the user presses \\'q\\' when\\n\\n            asked whether to propagate changes.\\n\\n          + Pressing \\'g\\' in the text user interface will proceed\\n\\n            immediately with propagating updates, without asking any more\\n\\n            questions.\\n\\n     * Documentation and installation changes:\\n\\n          + The manual now includes a FAQ, plus sections on common\\n\\n            problems and on tricks contributed by users.\\n\\n          + Both the download page and the download directory explicitly\\n\\n            say what are the current stable and beta-test version\\n\\n            numbers.\\n\\n          + The OCaml sources for the up-to-the-minute developers\\'\\n\\n            version (not guaranteed to be stable, or even to compile, at\\n\\n            any given time!) are now available from the download page.\\n\\n          + Added a subsection to the manual describing cross-platform\\n\\n            issues (case conflicts, illegal filenames)\\n\\n     * Many small bug fixes and random improvements.\\n\\n       \\n\\n   Changes since 2.3.1:\\n\\n     * Several bug fixes. The most important is a bug in the rsync module\\n\\n       that would occasionally cause change propagation to fail with a\\n\\n       \\'rename\\' error.\\n\\n       \\n\\n   Changes since 2.2:\\n\\n     * The multi-threaded transport system is now disabled by default.\\n\\n       (It is not stable enough yet.)\\n\\n     * Various bug fixes.\\n\\n     * A new experimental feature:\\n\\n       The final component of a -path argument may now be the wildcard\\n\\n       specifier *. When Unison sees such a path, it expands this path on\\n\\n       the client into into the corresponding list of paths by listing\\n\\n       the contents of that directory.\\n\\n       Note that if you use wildcard paths from the command line, you\\n\\n       will probably need to use quotes or a backslash to prevent the *\\n\\n       from being interpreted by your shell.\\n\\n       If both roots are local, the contents of the first one will be\\n\\n       used for expanding wildcard paths. (Nb: this is the first one\\n\\n       after the canonization step -- i.e., the one that is listed first\\n\\n       in the user interface -- not the one listed first on the command\\n\\n       line or in the preferences file.)\\n\\n       \\n\\n   Changes since 2.1:\\n\\n     * The transport subsystem now includes an implementation by Sylvain\\n\\n       Gommier and Norman Ramsey of Tridgell and Mackerras\\'s rsync\\n\\n       protocol. This protocol achieves much faster transfers when only a\\n\\n       small part of a large file has been changed by sending just diffs.\\n\\n       This feature is mainly helpful for transfers over slow links---on\\n\\n       fast local area networks it can actually degrade performance---so\\n\\n       we have left it off by default. Start unison with the -rsync\\n\\n       option (or put rsync=true in your preferences file) to turn it on.\\n\\n     * ``Progress bars\\'\\' are now diplayed during remote file transfers,\\n\\n       showing what percentage of each file has been transferred so far.\\n\\n     * The version numbering scheme has changed. New releases will now be\\n\\n       have numbers like 2.2.30, where the second component is\\n\\n       incremented on every significant public release and the third\\n\\n       component is the ``patch level.\\'\\'\\n\\n     * Miscellaneous improvements to the GTK-based user interface.\\n\\n     * The manual is now available in PDF format.\\n\\n     * We are experimenting with using a multi-threaded transport\\n\\n       subsystem to transfer several files at the same time, making much\\n\\n       more effective use of available network bandwidth. This feature is\\n\\n       not completely stable yet, so by default it is disabled in the\\n\\n       release version of Unison.\\n\\n       If you want to play with the multi-threaded version, you\\'ll need\\n\\n       to recompile Unison from sources (as described in the\\n\\n       documentation), setting the THREADS flag in Makefile.OCaml to\\n\\n       true. Make sure that your OCaml compiler has been installed with\\n\\n       the -with-pthreads configuration option. (You can verify this by\\n\\n       checking whether the file threads/threads.cma in the OCaml\\n\\n       standard library directory contains the string -lpthread near the\\n\\n       end.)\\n\\n       \\n\\n   Changes since 1.292:\\n\\n     * Reduced memory footprint (this is especially important during the\\n\\n       first run of unison, where it has to gather information about all\\n\\n       the files in both repositories).\\n\\n     * Fixed a bug that would cause the socket server under NT to fail\\n\\n       after the client exits.\\n\\n     * Added a SHIFT modifier to the Ignore menu shortcut keys in GTK\\n\\n       interface (to avoid hitting them accidentally).\\n\\n       \\n\\n   Changes since 1.231:\\n\\n     * Tunneling over ssh is now supported in the Windows version. See\\n\\n       the installation section of the manual for detailed instructions.\\n\\n     * The transport subsystem now includes an implementation of the\\n\\n       rsync protocol, built by Sylvain Gommier and Norman Ramsey. This\\n\\n       protocol achieves much faster transfers when only a small part of\\n\\n       a large file has been changed by sending just diffs. The rsync\\n\\n       feature is off by default in the current version. Use the -rsync\\n\\n       switch to turn it on. (Nb. We still have a lot of tuning to do:\\n\\n       you may not notice much speedup yet.)\\n\\n     * We\\'re experimenting with a multi-threaded transport subsystem,\\n\\n       written by Jerome Vouillon. The downloadable binaries are still\\n\\n       single-threaded: if you want to try the multi-threaded version,\\n\\n       you\\'ll need to recompile from sources. (Say make THREADS=true.)\\n\\n       Native thread support from the compiler is required. Use the\\n\\n       option -threads N to select the maximal number of concurrent\\n\\n       threads (default is 5). Multi-threaded and single-threaded\\n\\n       clients/servers can interoperate.\\n\\n     * A new GTK-based user interface is now available, thanks to Jacques\\n\\n       Garrigue. The Tk user interface still works, but we\\'ll be shifting\\n\\n       development effort to the GTK interface from now on.\\n\\n     * OCaml 3.00 is now required for compiling Unison from sources. The\\n\\n       modules uitk and myfileselect have been changed to use labltk\\n\\n       instead of camltk. To compile the Tk interface in Windows, you\\n\\n       must have ocaml-3.00 and tk8.3. When installing tk8.3, put it in\\n\\n       c:\\\\Tcl rather than the suggested c:\\\\Program Files\\\\Tcl, and be sure\\n\\n       to install the headers and libraries (which are not installed by\\n\\n       default).\\n\\n     * Added a new -addversionno switch, which causes unison to use\\n\\n       unison-<currentversionnumber> instead of just unison as the remote\\n\\n       server command. This allows multiple versions of unison to coexist\\n\\n       conveniently on the same server: whichever version is run on the\\n\\n       client, the same version will be selected on the server.\\n\\n       \\n\\n   Changes since 1.219:\\n\\n     * INCOMPATIBLE CHANGE: Archive format has changed. Make sure you\\n\\n       synchronize your replicas before upgrading, to avoid spurious\\n\\n       conflicts. The first sync after upgrading will be slow.\\n\\n     * This version fixes several annoying bugs, including:\\n\\n          + Some cases where propagation of file permissions was not\\n\\n            working.\\n\\n          + umask is now ignored when creating directories\\n\\n          + directories are create writable, so that a read-only\\n\\n            directory and its contents can be propagated.\\n\\n          + Handling of warnings generated by the server.\\n\\n          + Synchronizing a path whose parent is not a directory on both\\n\\n            sides is now flagged as erroneous.\\n\\n          + Fixed some bugs related to symnbolic links and nonexistant\\n\\n            roots.\\n\\n               o When a change (deletion or new contents) is propagated\\n\\n                 onto a \\'follow\\'ed symlink, the file pointed to by the\\n\\n                 link is now changed. (We used to change the link itself,\\n\\n                 which doesn\\'t fit our assertion that \\'follow\\' means the\\n\\n                 link is completely invisible)\\n\\n               o When one root did not exist, propagating the other root\\n\\n                 on top of it used to fail, becuase unison could not\\n\\n                 calculate the working directory into which to write\\n\\n                 changes. This should be fixed.\\n\\n     * A human-readable timestamp has been added to Unison\\'s archive\\n\\n       files.\\n\\n     * The semantics of Path and Name regular expressions now correspond\\n\\n       better.\\n\\n     * Some minor improvements to the text UI (e.g. a command for going\\n\\n       back to previous items)\\n\\n     * The organization of the export directory has changed --- should be\\n\\n       easier to find / download things now.\\n\\n       \\n\\n   Changes since 1.200:\\n\\n     * INCOMPATIBLE CHANGE: Archive format has changed. Make sure you\\n\\n       synchronize your replicas before upgrading, to avoid spurious\\n\\n       conflicts. The first sync after upgrading will be slow.\\n\\n     * This version has not been tested extensively on Windows.\\n\\n     * Major internal changes designed to make unison safer to run at the\\n\\n       same time as the replicas are being changed by the user.\\n\\n     * Internal performance improvements.\\n\\n       \\n\\n   Changes since 1.190:\\n\\n     * INCOMPATIBLE CHANGE: Archive format has changed. Make sure you\\n\\n       synchronize your replicas before upgrading, to avoid spurious\\n\\n       conflicts. The first sync after upgrading will be slow.\\n\\n     * A number of internal functions have been changed to reduce the\\n\\n       amount of memory allocation, especially during the first\\n\\n       synchronization. This should help power users with very big\\n\\n       replicas.\\n\\n     * Reimplementation of low-level remote procedure call stuff, in\\n\\n       preparation for adding rsync-like smart file transfer in a later\\n\\n       release.\\n\\n     * Miscellaneous bug fixes.\\n\\n       \\n\\n   Changes since 1.180:\\n\\n     * INCOMPATIBLE CHANGE: Archive format has changed. Make sure you\\n\\n       synchronize your replicas before upgrading, to avoid spurious\\n\\n       conflicts. The first sync after upgrading will be slow.\\n\\n     * Fixed some small bugs in the interpretation of ignore patterns.\\n\\n     * Fixed some problems that were preventing the Windows version from\\n\\n       working correctly when click-started.\\n\\n     * Fixes to treatment of file permissions under Windows, which were\\n\\n       causing spurious reports of different permissions when\\n\\n       synchronizing between windows and unix systems.\\n\\n     * Fixed one more non-tail-recursive list processing function, which\\n\\n       was causing stack overflows when synchronizing very large\\n\\n       replicas.\\n\\n       \\n\\n   Changes since 1.169:\\n\\n     * The text user interface now provides commands for ignoring files.\\n\\n     * We found and fixed some more non-tail-recursive list processing\\n\\n       functions. Some power users have reported success with very large\\n\\n       replicas.\\n\\n     * INCOMPATIBLE CHANGE: Files ending in .tmp are no longer ignored\\n\\n       automatically. If you want to ignore such files, put an\\n\\n       appropriate ignore pattern in your profile.\\n\\n     * INCOMPATIBLE CHANGE: The syntax of ignore and follow patterns has\\n\\n       changed. Instead of putting a line of the form\\n\\n\\n\\n                 ignore = <regexp>\\n\\n       in your profile (.unison/default.prf), you should put:\\n\\n\\n\\n                 ignore = Regexp <regexp>\\n\\n       Moreover, two other styles of pattern are also recognized:\\n\\n\\n\\n                 ignore = Name <name>\\n\\n       matches any path in which one component matches <name>, while\\n\\n\\n\\n                 ignore = Path <path>\\n\\n       matches exactly the path <path>.\\n\\n       Standard ``globbing\\'\\' conventions can be used in <name> and\\n\\n       <path>:\\n\\n          + a ? matches any single character except /\\n\\n          + a * matches any sequence of characters not including /\\n\\n          + [xyz] matches any character from the set {x, y, z }\\n\\n          + {a,bb,ccc} matches any one of a, bb, or ccc.\\n\\n       See the user manual for some examples.\\n\\n       \\n\\n   Changes since 1.146:\\n\\n     * Some users were reporting stack overflows when synchronizing huge\\n\\n       directories. We found and fixed some non-tail-recursive list\\n\\n       processing functions, which we hope will solve the problem. Please\\n\\n       give it a try and let us know.\\n\\n     * Major additions to the documentation.\\n\\n       \\n\\n   Changes since 1.142:\\n\\n     * Major internal tidying and many small bugfixes.\\n\\n     * Major additions to the user manual.\\n\\n     * Unison can now be started with no arguments -- it will prompt\\n\\n       automatically for the name of a profile file containing the roots\\n\\n       to be synchronized. This makes it possible to start the graphical\\n\\n       UI from a desktop icon.\\n\\n     * Fixed a small bug where the text UI on NT was raising a \\'no such\\n\\n       signal\\' exception.\\n\\n       \\n\\n   Changes since 1.139:\\n\\n     * The precompiled windows binary in the last release was compiled\\n\\n       with an old OCaml compiler, causing propagation of permissions not\\n\\n       to work (and perhaps leading to some other strange behaviors we\\'ve\\n\\n       heard reports about). This has been corrected. If you\\'re using\\n\\n       precompiled binaries on Windows, please upgrade.\\n\\n     * Added a -debug command line flag, which controls debugging of\\n\\n       various modules. Say -debug XXX to enable debug tracing for module\\n\\n       XXX, or -debug all to turn on absolutely everything.\\n\\n     * Fixed a small bug where the text UI on NT was raising a \\'no such\\n\\n       signal\\' exception.\\n\\n       \\n\\n   Changes since 1.111:\\n\\n     * INCOMPATIBLE CHANGE: The names and formats of the preference files\\n\\n       in the .unison directory have changed. In particular:\\n\\n          + the file ``prefs\\'\\' should be renamed to default.prf\\n\\n          + the contents of the file ``ignore\\'\\' should be merged into\\n\\n            default.prf. Each line of the form REGEXP in ignore should\\n\\n            become a line of the form ignore = REGEXP in default.prf.\\n\\n     * Unison now handles permission bits and symbolic links. See the\\n\\n       manual for details.\\n\\n     * You can now have different preference files in your .unison\\n\\n       directory. If you start unison like this\\n\\n\\n\\n             unison profilename\\n\\n       (i.e. with just one ``anonymous\\'\\' command-line argument), then the\\n\\n       file ~/.unison/profilename.prf will be loaded instead of\\n\\n       default.prf.\\n\\n     * Some improvements to terminal handling in the text user interface\\n\\n     * Added a switch -killServer that terminates the remote server\\n\\n       process when the unison client is shutting down, even when using\\n\\n       sockets for communication. (By default, a remote server created\\n\\n       using ssh/rsh is terminated automatically, while a socket server\\n\\n       is left running.)\\n\\n     * When started in \\'socket server\\' mode, unison prints \\'server\\n\\n       started\\' on stderr when it is ready to accept connections. (This\\n\\n       may be useful for scripts that want to tell when a socket-mode\\n\\n       server has finished initalization.)\\n\\n     * We now make a nightly mirror of our current internal development\\n\\n       tree, in case anyone wants an up-to-the-minute version to hack\\n\\n       around with.\\n\\n     * Added a file CONTRIB with some suggestions for how to help us make\\n\\n       Unison better.\\n\\n       \\n\\n\\n\\n\\n\\nChanges in Version 2.9.20\\n\\n\\n\\n   Changes since 2.9.1:\\n\\n     * Added a preference maxthreads that can be used to limit the number\\n\\n       of simultaneous file transfers.\\n\\n     * Added a backupdir preference, which controls where backup files\\n\\n       are stored.\\n\\n     * Basic support added for OSX. In particular, Unison now recognizes\\n\\n       when one of the hosts being synchronized is running OSX and\\n\\n       switches to a case-insensitive treatment of filenames (i.e., \\'foo\\'\\n\\n       and \\'FOO\\' are considered to be the same file). (OSX is not yet\\n\\n       fully working, however: in particular, files with resource forks\\n\\n       will not be synchronized correctly.)\\n\\n     * The same hash used to form the archive name is now also added to\\n\\n       the names of the temp files created during file transfer. The\\n\\n       reason for this is that, during update detection, we are going to\\n\\n       silently delete any old temp files that we find along the way, and\\n\\n       we want to prevent ourselves from deleting temp files belonging to\\n\\n       other instances of Unison that may be running in parallel, e.g.\\n\\n       synchronizing with a different host. Thanks to Ruslan Ermilov for\\n\\n       this suggestion.\\n\\n     * Several small user interface improvements\\n\\n     * Documentation\\n\\n          + FAQ and bug reporting instructions have been split out as\\n\\n            separate HTML pages, accessible directly from the unison web\\n\\n            page.\\n\\n          + Additions to FAQ, in particular suggestions about performance\\n\\n            tuning.\\n\\n     * Makefile\\n\\n          + Makefile.OCaml now sets UISTYLE=text or UISTYLE=gtk\\n\\n            automatically, depending on whether it finds lablgtk\\n\\n            installed\\n\\n          + Unison should now compile ``out of the box\\'\\' under OSX\\n\\n       \\n\\n   Changes since 2.8.1:\\n\\n     * Changing profile works again under Windows\\n\\n     * File movement optimization: Unison now tries to use local copy\\n\\n       instead of transfer for moved or copied files. It is controled by\\n\\n       a boolean option ``xferbycopying\\'\\'.\\n\\n     * Network statistics window (transfer rate, amount of data\\n\\n       transferred). [NB: not available in Windows-Cygwin version.]\\n\\n     * symlinks work under the cygwin version (which is dynamically\\n\\n       linked).\\n\\n     * Fixed potential deadlock when synchronizing between Windows and\\n\\n       Unix\\n\\n     * Small improvements:\\n\\n          + If neither the\\n\\n            tt USERPROFILE nor the\\n\\n            tt HOME environment variables are set, then Unison will put\\n\\n            its temporary commit log (called\\n\\n            tt DANGER.README) into the directory named by the\\n\\n            tt UNISON environment variable, if any; otherwise it will use\\n\\n            tt C:.\\n\\n          + alternative set of values for fastcheck: yes = true; no =\\n\\n            false; default = auto.\\n\\n          + -silent implies -contactquietly\\n\\n     * Source code:\\n\\n          + Code reorganization and tidying. (Started breaking up some of\\n\\n            the basic utility modules so that the non-unison-specific\\n\\n            stuff can be made available for other projects.)\\n\\n          + several Makefile and docs changes (for release);\\n\\n          + further comments in ``update.ml\\'\\';\\n\\n          + connection information is not stored in global variables\\n\\n            anymore.\\n\\n       \\n\\n   Changes since 2.7.78:\\n\\n     * Small bugfix to textual user interface under Unix (to avoid\\n\\n       leaving the terminal in a bad state where it would not echo inputs\\n\\n       after Unison exited).\\n\\n       \\n\\n   Changes since 2.7.39:\\n\\n     * Improvements to the main web page (stable and beta version docs\\n\\n       are now both accessible).\\n\\n     * User manual revised.\\n\\n     * Added some new preferences:\\n\\n          + ``sshcmd\\'\\' and ``rshcmd\\'\\' for specifying paths to ssh and rsh\\n\\n            programs.\\n\\n          + ``contactquietly\\'\\' for suppressing the ``contacting server\\'\\'\\n\\n            message during Unison startup (under the graphical UI).\\n\\n     * Bug fixes:\\n\\n          + Fixed small bug in UI that neglected to change the displayed\\n\\n            column headers if loading a new profile caused the roots to\\n\\n            change.\\n\\n          + Fixed a bug that would put the text UI into an infinite loop\\n\\n            if it encountered a conflict when run in batch mode.\\n\\n          + Added some code to try to fix the display of non-Ascii\\n\\n            characters in filenames on Windows systems in the GTK UI.\\n\\n            (This code is currently untested---if you\\'re one of the\\n\\n            people that had reported problems with display of non-ascii\\n\\n            filenames, we\\'d appreciate knowing if this actually fixes\\n\\n            things.)\\n\\n          + `-prefer/-force newer\\' works properly now. (The bug was\\n\\n            reported by Sebastian Urbaniak and Sean Fulton.)\\n\\n     * User interface and Unison behavior:\\n\\n          + Renamed `Proceed\\' to `Go\\' in the graphical UI.\\n\\n          + Added exit status for the textual user interface.\\n\\n          + Paths that are not synchronized because of conflicts or\\n\\n            errors during update detection are now noted in the log file.\\n\\n          + [END] messages in log now use a briefer format\\n\\n          + Changed the text UI startup sequence so that\\n\\n            tt ./unison -ui text will use the default profile instead of\\n\\n            failing.\\n\\n          + Made some improvements to the error messages.\\n\\n          + Added some debugging messages to remote.ml.\\n\\n       \\n\\n   Changes since 2.7.7:\\n\\n     * Incorporated, once again, a multi-threaded transport sub-system.\\n\\n       It transfers several files at the same time, thereby making much\\n\\n       more effective use of available network bandwidth. Unlike the\\n\\n       earlier attempt, this time we do not rely on the native thread\\n\\n       library of OCaml. Instead, we implement a light-weight,\\n\\n       non-preemptive multi-thread library in OCaml directly. This\\n\\n       version appears stable.\\n\\n       Some adjustments to unison are made to accommodate the\\n\\n       multi-threaded version. These include, in particular, changes to\\n\\n       the user interface and logging, for example:\\n\\n          + Two log entries for each transferring task, one for the\\n\\n            beginning, one for the end.\\n\\n          + Suppressed warning messages against removing temp files left\\n\\n            by a previous unison run, because warning does not work\\n\\n            nicely under multi-threading. The temp file names are made\\n\\n            less likely to coincide with the name of a file created by\\n\\n            the user. They take the form\\n\\n            .#<filename>.<serial>.unison.tmp.\\n\\n     * Added a new command to the GTK user interface: pressing \\'f\\' causes\\n\\n       Unison to start a new update detection phase, using as paths just\\n\\n       those paths that have been detected as changed and not yet marked\\n\\n       as successfully completed. Use this command to quickly restart\\n\\n       Unison on just the set of paths still needing attention after a\\n\\n       previous run.\\n\\n     * Made the ignorecase preference user-visible, and changed the\\n\\n       initialization code so that it can be manually set to true, even\\n\\n       if neither host is running Windows. (This may be useful, e.g.,\\n\\n       when using Unison running on a Unix system with a FAT volume\\n\\n       mounted.)\\n\\n     * Small improvements and bug fixes:\\n\\n          + Errors in preference files now generate fatal errors rather\\n\\n            than warnings at startup time. (I.e., you can\\'t go on from\\n\\n            them.) Also, we fixed a bug that was preventing these\\n\\n            warnings from appearing in the text UI, so some users who\\n\\n            have been running (unsuspectingly) with garbage in their\\n\\n            prefs files may now get error reports.\\n\\n          + Error reporting for preference files now provides file name\\n\\n            and line number.\\n\\n          + More intelligible message in the case of identical change to\\n\\n            the same files: ``Nothing to do: replicas have been changed\\n\\n            only in identical ways since last sync.\\'\\'\\n\\n          + Files with prefix \\'.#\\' excluded when scanning for preference\\n\\n            files.\\n\\n          + Rsync instructions are send directly instead of first\\n\\n            marshaled.\\n\\n          + Won\\'t try forever to get the fingerprint of a continuously\\n\\n            changing file: unison will give up after certain number of\\n\\n            retries.\\n\\n          + Other bug fixes, including the one reported by Peter Selinger\\n\\n            (force=older preference not working).\\n\\n     * Compilation:\\n\\n          + Upgraded to the new OCaml 3.04 compiler, with the LablGtk\\n\\n            1.2.3 library (patched version used for compiling under\\n\\n            Windows).\\n\\n          + Added the option to compile unison on the Windows platform\\n\\n            with Cygwin GNU C compiler. This option only supports\\n\\n            building dynamically linked unison executables.\\n\\n       \\n\\n   Changes since 2.7.4:\\n\\n     * Fixed a silly (but debilitating) bug in the client startup\\n\\n       sequence.\\n\\n       \\n\\n   Changes since 2.7.1:\\n\\n     * Added addprefsto preference, which (when set) controls which\\n\\n       preference file new preferences (e.g. new ignore patterns) are\\n\\n       added to.\\n\\n     * Bug fix: read the initial connection header one byte at a time, so\\n\\n       that we don\\'t block if the header is shorter than expected. (This\\n\\n       bug did not affect normal operation --- it just made it hard to\\n\\n       tell when you were trying to use Unison incorrectly with an old\\n\\n       version of the server, since it would hang instead of giving an\\n\\n       error message.)\\n\\n       \\n\\n   Changes since 2.6.59:\\n\\n     * Changed fastcheck from a boolean to a string preference. Its legal\\n\\n       values are yes (for a fast check), no (for a safe check), or\\n\\n       default (for a fast check---which also happens to be safe---when\\n\\n       running on Unix and a safe check when on Windows). The default is\\n\\n       default.\\n\\n     * Several preferences have been renamed for consistency. All\\n\\n       preference names are now spelled out in lowercase. For backward\\n\\n       compatibility, the old names still work, but they are not\\n\\n       mentioned in the manual any more.\\n\\n     * The temp files created by the \\'diff\\' and \\'merge\\' commands are now\\n\\n       named by prepending a new prefix to the file name, rather than\\n\\n       appending a suffix. This should avoid confusing diff/merge\\n\\n       programs that depend on the suffix to guess the type of the file\\n\\n       contents.\\n\\n     * We now set the keepalive option on the server socket, to make sure\\n\\n       that the server times out if the communication link is\\n\\n       unexpectedly broken.\\n\\n     * Bug fixes:\\n\\n          + When updating small files, Unison now closes the destination\\n\\n            file.\\n\\n          + File permissions are properly updated when the file is behind\\n\\n            a followed link.\\n\\n          + Several other small fixes.\\n\\n       \\n\\n   Changes since 2.6.38:\\n\\n     * Major Windows performance improvement!\\n\\n       We\\'ve added a preference fastcheck that makes Unison look only at\\n\\n       a file\\'s creation time and last-modified time to check whether it\\n\\n       has changed. This should result in a huge speedup when checking\\n\\n       for updates in large replicas.\\n\\n       When this switch is set, Unison will use file creation times as\\n\\n       \\'pseudo inode numbers\\' when scanning Windows replicas for updates,\\n\\n       instead of reading the full contents of every file. This may cause\\n\\n       Unison to miss propagating an update if the create time,\\n\\n       modification time, and length of the file are all unchanged by the\\n\\n       update (this is not easy to achieve, but it can be done). However,\\n\\n       Unison will never overwrite such an update with a change from the\\n\\n       other replica, since it always does a safe check for updates just\\n\\n       before propagating a change. Thus, it is reasonable to use this\\n\\n       switch most of the time and occasionally run Unison once with\\n\\n       fastcheck set to false, if you are worried that Unison may have\\n\\n       overlooked an update.\\n\\n       Warning: This change is has not yet been thoroughly field-tested.\\n\\n       If you set the fastcheck preference, pay careful attention to what\\n\\n       Unison is doing.\\n\\n     * New functionality: centralized backups and merging\\n\\n          + This version incorporates two pieces of major new\\n\\n            functionality, implemented by Sylvain Roy during a summer\\n\\n            internship at Penn: a centralized backup facility that keeps\\n\\n            a full backup of (selected files in) each replica, and a\\n\\n            merging feature that allows Unison to invoke an external\\n\\n            file-merging tool to resolve conflicting changes to\\n\\n            individual files.\\n\\n          + Centralized backups:\\n\\n               o Unison now maintains full backups of the\\n\\n                 last-synchronized versions of (some of) the files in\\n\\n                 each replica; these function both as backups in the\\n\\n                 usual sense and as the ``common version\\'\\' when invoking\\n\\n                 external merge programs.\\n\\n               o The backed up files are stored in a directory\\n\\n                 /.unison/backup on each host. (The name of this\\n\\n                 directory can be changed by setting the environment\\n\\n                 variable UNISONBACKUPDIR.)\\n\\n               o The predicate backup controls which files are actually\\n\\n                 backed up: giving the preference \\'backup = Path *\\'\\n\\n                 causes backing up of all files.\\n\\n               o Files are added to the backup directory whenever unison\\n\\n                 updates its archive. This means that\\n\\n                    # When unison reconstructs its archive from scratch\\n\\n                      (e.g., because of an upgrade, or because the\\n\\n                      archive files have been manually deleted), all\\n\\n                      files will be backed up.\\n\\n                    # Otherwise, each file will be backed up the first\\n\\n                      time unison propagates an update for it.\\n\\n               o The preference backupversions controls how many previous\\n\\n                 versions of each file are kept. The default is 2 (i.e.,\\n\\n                 the last synchronized version plus one backup).\\n\\n               o For backward compatibility, the backups preference is\\n\\n                 also still supported, but backup is now preferred.\\n\\n               o It is OK to manually delete files from the backup\\n\\n                 directory (or to throw away the directory itself).\\n\\n                 Before unison uses any of these files for anything\\n\\n                 important, it checks that its fingerprint matches the\\n\\n                 one that it expects.\\n\\n          + Merging:\\n\\n               o Both user interfaces offer a new \\'merge\\' command,\\n\\n                 invoked by pressing \\'m\\' (with a changed file selected).\\n\\n               o The actual merging is performed by an external program.\\n\\n                 The preferences merge and merge2 control how this\\n\\n                 program is invoked. If a backup exists for this file\\n\\n                 (see the backup preference), then the merge preference\\n\\n                 is used for this purpose; otherwise merge2 is used. In\\n\\n                 both cases, the value of the preference should be a\\n\\n                 string representing the command that should be passed to\\n\\n                 a shell to invoke the merge program. Within this string,\\n\\n                 the special substrings CURRENT1, CURRENT2, NEW, and OLD\\n\\n                 may appear at any point. Unison will substitute these as\\n\\n                 follows before invoking the command:\\n\\n                    # CURRENT1 is replaced by the name of the local copy\\n\\n                      of the file;\\n\\n                    # CURRENT2 is replaced by the name of a temporary\\n\\n                      file, into which the contents of the remote copy of\\n\\n                      the file have been transferred by Unison prior to\\n\\n                      performing the merge;\\n\\n                    # NEW is replaced by the name of a temporary file\\n\\n                      that Unison expects to be written by the merge\\n\\n                      program when it finishes, giving the desired new\\n\\n                      contents of the file; and\\n\\n                    # OLD is replaced by the name of the backed up copy\\n\\n                      of the original version of the file (i.e., its\\n\\n                      state at the end of the last successful run of\\n\\n                      Unison), if one exists (applies only to merge, not\\n\\n                      merge2).\\n\\n                 For example, on Unix systems setting the merge\\n\\n                 preference to\\n\\n\\n\\n   merge = diff3 -m CURRENT1 OLD CURRENT2 > NEW\\n\\n                 will tell Unison to use the external diff3 program for\\n\\n                 merging.\\n\\n                 A large number of external merging programs are\\n\\n                 available. For example, emacs users may find the\\n\\n                 following convenient:\\n\\n\\n\\n    merge2 = emacs -q --eval \\'(ediff-merge-files \"CURRENT1\" \"CURRENT2\"\\n\\n               nil \"NEW\")\\'\\n\\n    merge = emacs -q --eval \\'(ediff-merge-files-with-ancestor\\n\\n               \"CURRENT1\" \"CURRENT2\" \"OLD\" nil \"NEW\")\\'\\n\\n                 (These commands are displayed here on two lines to avoid\\n\\n                 running off the edge of the page. In your preference\\n\\n                 file, each should be written on a single line.)\\n\\n               o If the external program exits without leaving any file\\n\\n                 at the path NEW, Unison considers the merge to have\\n\\n                 failed. If the merge program writes a file called NEW\\n\\n                 but exits with a non-zero status code, then Unison\\n\\n                 considers the merge to have succeeded but to have\\n\\n                 generated conflicts. In this case, it attempts to invoke\\n\\n                 an external editor so that the user can resolve the\\n\\n                 conflicts. The value of the editor preference controls\\n\\n                 what editor is invoked by Unison. The default is emacs.\\n\\n               o Please send us suggestions for other useful values of\\n\\n                 the merge2 and merge preferences -- we\\'d like to give\\n\\n                 several examples in the manual.\\n\\n     * Smaller changes:\\n\\n          + When one preference file includes another, unison no longer\\n\\n            adds the suffix \\'.prf\\' to the included file by default. If a\\n\\n            file with precisely the given name exists in the .unison\\n\\n            directory, it will be used; otherwise Unison will add .prf,\\n\\n            as it did before. (This change means that included preference\\n\\n            files can be named blah.include instead of blah.prf, so that\\n\\n            unison will not offer them in its \\'choose a preference file\\'\\n\\n            dialog.)\\n\\n          + For Linux systems, we now offer both a statically linked and\\n\\n            a dynamically linked executable. The static one is larger,\\n\\n            but will probably run on more systems, since it doesn\\'t\\n\\n            depend on the same versions of dynamically linked library\\n\\n            modules being available.\\n\\n          + Fixed the force and prefer preferences, which were getting\\n\\n            the propagation direction exactly backwards.\\n\\n          + Fixed a bug in the startup code that would cause unison to\\n\\n            crash when the default profile (~/.unison/default.prf) does\\n\\n            not exist.\\n\\n          + Fixed a bug where, on the run when a profile is first\\n\\n            created, Unison would confusingly display the roots in\\n\\n            reverse order in the user interface.\\n\\n     * For developers:\\n\\n          + We\\'ve added a module dependency diagram to the source\\n\\n            distribution, in src/DEPENDENCIES.ps, to help new prospective\\n\\n            developers with navigating the code.\\n\\n       \\n\\n   Changes since 2.6.11:\\n\\n     * INCOMPATIBLE CHANGE: Archive format has changed.\\n\\n     * INCOMPATIBLE CHANGE: The startup sequence has been completely\\n\\n       rewritten and greatly simplified. The main user-visible change is\\n\\n       that the defaultpath preference has been removed. Its effect can\\n\\n       be approximated by using multiple profiles, with include\\n\\n       directives to incorporate common settings. All uses of defaultpath\\n\\n       in existing profiles should be changed to path.\\n\\n       Another change in startup behavior that will affect some users is\\n\\n       that it is no longer possible to specify roots both in the profile\\n\\n       and on the command line.\\n\\n       You can achieve a similar effect, though, by breaking your profile\\n\\n       into two:\\n\\n\\n\\n\\n\\n  default.prf =\\n\\n      root = blah\\n\\n      root = foo\\n\\n      include common\\n\\n\\n\\n  common.prf =\\n\\n      <everything else>\\n\\n       Now do\\n\\n\\n\\n  unison common root1 root2\\n\\n       when you want to specify roots explicitly.\\n\\n     * The -prefer and -force options have been extended to allow users\\n\\n       to specify that files with more recent modtimes should be\\n\\n       propagated, writing either -prefer newer or -force newer. (For\\n\\n       symmetry, Unison will also accept -prefer older or -force older.)\\n\\n       The -force older/newer options can only be used when -times is\\n\\n       also set.\\n\\n       The graphical user interface provides access to these facilities\\n\\n       on a one-off basis via the Actions menu.\\n\\n     * Names of roots can now be ``aliased\\'\\' to allow replicas to be\\n\\n       relocated without changing the name of the archive file where\\n\\n       Unison stores information between runs. (This feature is for\\n\\n       experts only. See the ``Archive Files\\'\\' section of the manual for\\n\\n       more information.)\\n\\n     * Graphical user-interface:\\n\\n          + A new command is provided in the Synchronization menu for\\n\\n            switching to a new profile without restarting Unison from\\n\\n            scratch.\\n\\n          + The GUI also supports one-key shortcuts for commonly used\\n\\n            profiles. If a profile contains a preference of the form \\'key\\n\\n            = n\\', where n is a single digit, then pressing this key will\\n\\n            cause Unison to immediately switch to this profile and begin\\n\\n            synchronization again from scratch. (Any actions that may\\n\\n            have been selected for a set of changes currently being\\n\\n            displayed will be discarded.)\\n\\n          + Each profile may include a preference \\'label = <string>\\'\\n\\n            giving a descriptive string that described the options\\n\\n            selected in this profile. The string is listed along with the\\n\\n            profile name in the profile selection dialog, and displayed\\n\\n            in the top-right corner of the main Unison window.\\n\\n     * Minor:\\n\\n          + Fixed a bug that would sometimes cause the \\'diff\\' display to\\n\\n            order the files backwards relative to the main user\\n\\n            interface. (Thanks to Pascal Brisset for this fix.)\\n\\n          + On Unix systems, the graphical version of Unison will check\\n\\n            the DISPLAY variable and, if it is not set, automatically\\n\\n            fall back to the textual user interface.\\n\\n          + Synchronization paths (path preferences) are now matched\\n\\n            against the ignore preferences. So if a path is both\\n\\n            specified in a path preference and ignored, it will be\\n\\n            skipped.\\n\\n          + Numerous other bugfixes and small improvements.\\n\\n       \\n\\n   Changes since 2.6.1:\\n\\n     * The synchronization of modification times has been disabled for\\n\\n       directories.\\n\\n     * Preference files may now include lines of the form include <name>,\\n\\n       which will cause name.prf to be read at that point.\\n\\n     * The synchronization of permission between Windows and Unix now\\n\\n       works properly.\\n\\n     * A binding CYGWIN=binmode in now added to the environment so that\\n\\n       the Cygwin port of OpenSSH works properly in a non-Cygwin context.\\n\\n     * The servercmd and addversionno preferences can now be used\\n\\n       together: -addversionno appends an appropriate -NNN to the server\\n\\n       command, which is found by using the value of the -servercmd\\n\\n       preference if there is one, or else just unison.\\n\\n     * Both \\'-pref=val\\' and \\'-pref val\\' are now allowed for boolean\\n\\n       values. (The former can be used to set a preference to false.)\\n\\n     * Lot of small bugs fixed.\\n\\n       \\n\\n   Changes since 2.5.31:\\n\\n     * The log preference is now set to true by default, since the log\\n\\n       file seems useful for most users.\\n\\n     * Several miscellaneous bugfixes (most involving symlinks).\\n\\n       \\n\\n   Changes since 2.5.25:\\n\\n     * INCOMPATIBLE CHANGE: Archive format has changed (again).\\n\\n     * Several significant bugs introduced in 2.5.25 have been fixed.\\n\\n       \\n\\n   Changes since 2.5.1:\\n\\n     * INCOMPATIBLE CHANGE: Archive format has changed. Make sure you\\n\\n       synchronize your replicas before upgrading, to avoid spurious\\n\\n       conflicts. The first sync after upgrading will be slow.\\n\\n     * New functionality:\\n\\n          + Unison now synchronizes file modtimes, user-ids, and\\n\\n            group-ids.\\n\\n            These new features are controlled by a set of new\\n\\n            preferences, all of which are currently false by default.\\n\\n               o When the times preference is set to true, file\\n\\n                 modification times are propaged. (Because the\\n\\n                 representations of time may not have the same\\n\\n                 granularity on both replicas, Unison may not always be\\n\\n                 able to make the modtimes precisely equal, but it will\\n\\n                 get them as close as the operating systems involved\\n\\n                 allow.)\\n\\n               o When the owner preference is set to true, file ownership\\n\\n                 information is synchronized.\\n\\n               o When the group preference is set to true, group\\n\\n                 information is synchronized.\\n\\n               o When the numericIds preference is set to true, owner and\\n\\n                 group information is synchronized numerically. By\\n\\n                 default, owner and group numbers are converted to names\\n\\n                 on each replica and these names are synchronized. (The\\n\\n                 special user id 0 and the special group 0 are never\\n\\n                 mapped via user/group names even if this preference is\\n\\n                 not set.)\\n\\n          + Added an integer-valued preference perms that can be used to\\n\\n            control the propagation of permission bits. The value of this\\n\\n            preference is a mask indicating which permission bits should\\n\\n            be synchronized. It is set by default to 0o1777: all bits but\\n\\n            the set-uid and set-gid bits are synchronised (synchronizing\\n\\n            theses latter bits can be a security hazard). If you want to\\n\\n            synchronize all bits, you can set the value of this\\n\\n            preference to -1.\\n\\n          + Added a log preference (default false), which makes Unison\\n\\n            keep a complete record of the changes it makes to the\\n\\n            replicas. By default, this record is written to a file called\\n\\n            unison.log in the user\\'s home directory (the value of the\\n\\n            HOME environment variable). If you want it someplace else,\\n\\n            set the logfile preference to the full pathname you want\\n\\n            Unison to use.\\n\\n          + Added an ignorenot preference that maintains a set of\\n\\n            patterns for paths that should definitely not be ignored,\\n\\n            whether or not they match an ignore pattern. (That is, a path\\n\\n            will now be ignored iff it matches an ignore pattern and does\\n\\n            not match any ignorenot patterns.)\\n\\n     * User-interface improvements:\\n\\n          + Roots are now displayed in the user interface in the same\\n\\n            order as they were given on the command line or in the\\n\\n            preferences file.\\n\\n          + When the batch preference is set, the graphical user\\n\\n            interface no longer waits for user confirmation when it\\n\\n            displays a warning message: it simply pops up an advisory\\n\\n            window with a Dismiss button at the bottom and keeps on\\n\\n            going.\\n\\n          + Added a new preference for controlling how many status\\n\\n            messages are printed during update detection: statusdepth\\n\\n            controls the maximum depth for paths on the local machine\\n\\n            (longer paths are not displayed, nor are non-directory\\n\\n            paths). The value should be an integer; default is 1.\\n\\n          + Removed the trace and silent preferences. They did not seem\\n\\n            very useful, and there were too many preferences for\\n\\n            controlling output in various ways.\\n\\n          + The text UI now displays just the default command (the one\\n\\n            that will be used if the user just types <return>) instead of\\n\\n            all available commands. Typing ? will print the full list of\\n\\n            possibilities.\\n\\n          + The function that finds the canonical hostname of the local\\n\\n            host (which is used, for example, in calculating the name of\\n\\n            the archive file used to remember which files have been\\n\\n            synchronized) normally uses the gethostname operating system\\n\\n            call. However, if the environment variable\\n\\n            UNISONLOCALHOSTNAME is set, its value will now be used\\n\\n            instead. This makes it easier to use Unison in situations\\n\\n            where a machine\\'s name changes frequently (e.g., because it\\n\\n            is a laptop and gets moved around a lot).\\n\\n          + File owner and group are now displayed in the ``detail\\n\\n            window\\'\\' at the bottom of the screen, when unison is\\n\\n            configured to synchronize them.\\n\\n     * For hackers:\\n\\n          + Updated to Jacques Garrigue\\'s new version of lablgtk, which\\n\\n            means we can throw away our local patched version.\\n\\n            If you\\'re compiling the GTK version of unison from sources,\\n\\n            you\\'ll need to update your copy of lablgtk to the developers\\n\\n            release, available from\\n\\n            http://wwwfun.kurims.kyoto-u.ac.jp/soft/olabl/lablgtk.html\\n\\n            (Warning: installing lablgtk under Windows is currently a bit\\n\\n            challenging.)\\n\\n          + The TODO.txt file (in the source distribution) has been\\n\\n            cleaned up and reorganized. The list of pending tasks should\\n\\n            be much easier to make sense of, for people that may want to\\n\\n            contribute their programming energies. There is also a\\n\\n            separate file BUGS.txt for open bugs.\\n\\n          + The Tk user interface has been removed (it was not being\\n\\n            maintained and no longer compiles).\\n\\n          + The debug preference now prints quite a bit of additional\\n\\n            information that should be useful for identifying sources of\\n\\n            problems.\\n\\n          + The version number of the remote server is now checked right\\n\\n            away during the connection setup handshake, rather than\\n\\n            later. (Somebody sent a bug report of a server crash that\\n\\n            turned out to come from using inconsistent versions: better\\n\\n            to check this earlier and in a way that can\\'t crash either\\n\\n            client or server.)\\n\\n          + Unison now runs correctly on 64-bit architectures (e.g. Alpha\\n\\n            linux). We will not be distributing binaries for these\\n\\n            architectures ourselves (at least for a while) but if someone\\n\\n            would like to make them available, we\\'ll be glad to provide a\\n\\n            link to them.\\n\\n     * Bug fixes:\\n\\n          + Pattern matching (e.g. for ignore) is now case-insensitive\\n\\n            when Unison is in case-insensitive mode (i.e., when one of\\n\\n            the replicas is on a windows machine).\\n\\n          + Some people had trouble with mysterious failures during\\n\\n            propagation of updates, where files would be falsely reported\\n\\n            as having changed during synchronization. This should be\\n\\n            fixed.\\n\\n          + Numerous smaller fixes.\\n\\n       \\n\\n   Changes since 2.4.1:\\n\\n     * Added a number of \\'sorting modes\\' for the user interface. By\\n\\n       default, conflicting changes are displayed at the top, and the\\n\\n       rest of the entries are sorted in alphabetical order. This\\n\\n       behavior can be changed in the following ways:\\n\\n          + Setting the sortnewfirst preference to true causes newly\\n\\n            created files to be displayed before changed files.\\n\\n          + Setting sortbysize causes files to be displayed in increasing\\n\\n            order of size.\\n\\n          + Giving the preference sortfirst=<pattern> (where <pattern> is\\n\\n            a path descriptor in the same format as \\'ignore\\' and \\'follow\\'\\n\\n            patterns, causes paths matching this pattern to be displayed\\n\\n            first.\\n\\n          + Similarly, giving the preference sortlast=<pattern> causes\\n\\n            paths matching this pattern to be displayed last.\\n\\n       The sorting preferences are described in more detail in the user\\n\\n       manual. The sortnewfirst and sortbysize flags can also be accessed\\n\\n       from the \\'Sort\\' menu in the grpahical user interface.\\n\\n     * Added two new preferences that can be used to change unison\\'s\\n\\n       fundamental behavior to make it more like a mirroring tool instead\\n\\n       of a synchronizer.\\n\\n          + Giving the preference prefer with argument <root> (by adding\\n\\n            -prefer <root> to the command line or prefer=<root>) to your\\n\\n            profile) means that, if there is a conflict, the contents of\\n\\n            <root> should be propagated to the other replica (with no\\n\\n            questions asked). Non-conflicting changes are treated as\\n\\n            usual.\\n\\n          + Giving the preference force with argument <root> will make\\n\\n            unison resolve all differences in favor of the given root,\\n\\n            even if it was the other replica that was changed.\\n\\n       These options should be used with care! (More information is\\n\\n       available in the manual.)\\n\\n     * Small changes:\\n\\n          + Changed default answer to \\'Yes\\' in all two-button dialogs in\\n\\n            the graphical interface (this seems more intuitive).\\n\\n          + The rsync preference has been removed (it was used to\\n\\n            activate rsync compression for file transfers, but rsync\\n\\n            compression is now enabled by default).\\n\\n          + In the text user interface, the arrows indicating which\\n\\n            direction changes are being propagated are printed\\n\\n            differently when the user has overridded Unison\\'s default\\n\\n            recommendation (====> instead of ---->). This matches the\\n\\n            behavior of the graphical interface, which displays such\\n\\n            arrows in a different color.\\n\\n          + Carriage returns (Control-M\\'s) are ignored at the ends of\\n\\n            lines in profiles, for Windows compatibility.\\n\\n          + All preferences are now fully documented in the user manual.\\n\\n       \\n\\n   Changes since 2.3.12:\\n\\n     * INCOMPATIBLE CHANGE: Archive format has changed. Make sure you\\n\\n       synchronize your replicas before upgrading, to avoid spurious\\n\\n       conflicts. The first sync after upgrading will be slow.\\n\\n     * New/improved functionality:\\n\\n          + A new preference -sortbysize controls the order in which\\n\\n            changes are displayed to the user: when it is set to true,\\n\\n            the smallest changed files are displayed first. (The default\\n\\n            setting is false.)\\n\\n          + A new preference -sortnewfirst causes newly created files to\\n\\n            be listed before other updates in the user interface.\\n\\n          + We now allow the ssh protocol to specify a port.\\n\\n          + Incompatible change: The unison: protocol is deprecated, and\\n\\n            we added file: and socket:. You may have to modify your\\n\\n            profiles in the .unison directory. If a replica is specified\\n\\n            without an explicit protocol, we now assume it refers to a\\n\\n            file. (Previously \"//saul/foo\" meant to use SSH to connect to\\n\\n            saul, then access the foo directory. Now it means to access\\n\\n            saul via a remote file mechanism such as samba; the old\\n\\n            effect is now achieved by writing ssh://saul/foo.)\\n\\n          + Changed the startup sequence for the case where roots are\\n\\n            given but no profile is given on the command line. The new\\n\\n            behavior is to use the default profile (creating it if it\\n\\n            does not exist), and temporarily override its roots. The\\n\\n            manual claimed that this case would work by reading no\\n\\n            profile at all, but AFAIK this was never true.\\n\\n          + In all user interfaces, files with conflicts are always\\n\\n            listed first\\n\\n          + A new preference \\'sshversion\\' can be used to control which\\n\\n            version of ssh should be used to connect to the server. Legal\\n\\n            values are 1 and 2. (Default is empty, which will make unison\\n\\n            use whatever version of ssh is installed as the default \\'ssh\\'\\n\\n            command.)\\n\\n          + The situation when the permissions of a file was updated the\\n\\n            same on both side is now handled correctly (we used to report\\n\\n            a spurious conflict)\\n\\n     * Improvements for the Windows version:\\n\\n          + The fact that filenames are treated case-insensitively under\\n\\n            Windows should now be handled correctly. The exact behavior\\n\\n            is described in the cross-platform section of the manual.\\n\\n          + It should be possible to synchronize with Windows shares,\\n\\n            e.g., //host/drive/path.\\n\\n          + Workarounds to the bug in syncing root directories in\\n\\n            Windows. The most difficult thing to fix is an ocaml bug:\\n\\n            Unix.opendir fails on c: in some versions of Windows.\\n\\n     * Improvements to the GTK user interface (the Tk interface is no\\n\\n       longer being maintained):\\n\\n          + The UI now displays actions differently (in blue) when they\\n\\n            have been explicitly changed by the user from Unison\\'s\\n\\n            default recommendation.\\n\\n          + More colorful appearance.\\n\\n          + The initial profile selection window works better.\\n\\n          + If any transfers failed, a message to this effect is\\n\\n            displayed along with \\'Synchronization complete\\' at the end of\\n\\n            the transfer phase (in case they may have scrolled off the\\n\\n            top).\\n\\n          + Added a global progress meter, displaying the percentage of\\n\\n            total bytes that have been transferred so far.\\n\\n     * Improvements to the text user interface:\\n\\n          + The file details will be displayed automatically when a\\n\\n            conflict is been detected.\\n\\n          + when a warning is generated (e.g. for a temporary file left\\n\\n            over from a previous run of unison) Unison will no longer\\n\\n            wait for a response if it is running in -batch mode.\\n\\n          + The UI now displays a short list of possible inputs each time\\n\\n            it waits for user interaction.\\n\\n          + The UI now quits immediately (rather than looping back and\\n\\n            starting the interaction again) if the user presses \\'q\\' when\\n\\n            asked whether to propagate changes.\\n\\n          + Pressing \\'g\\' in the text user interface will proceed\\n\\n            immediately with propagating updates, without asking any more\\n\\n            questions.\\n\\n     * Documentation and installation changes:\\n\\n          + The manual now includes a FAQ, plus sections on common\\n\\n            problems and on tricks contributed by users.\\n\\n          + Both the download page and the download directory explicitly\\n\\n            say what are the current stable and beta-test version\\n\\n            numbers.\\n\\n          + The OCaml sources for the up-to-the-minute developers\\'\\n\\n            version (not guaranteed to be stable, or even to compile, at\\n\\n            any given time!) are now available from the download page.\\n\\n          + Added a subsection to the manual describing cross-platform\\n\\n            issues (case conflicts, illegal filenames)\\n\\n     * Many small bug fixes and random improvements.\\n\\n       \\n\\n   Changes since 2.3.1:\\n\\n     * Several bug fixes. The most important is a bug in the rsync module\\n\\n       that would occasionally cause change propagation to fail with a\\n\\n       \\'rename\\' error.\\n\\n       \\n\\n   Changes since 2.2:\\n\\n     * The multi-threaded transport system is now disabled by default.\\n\\n       (It is not stable enough yet.)\\n\\n     * Various bug fixes.\\n\\n     * A new experimental feature:\\n\\n       The final component of a -path argument may now be the wildcard\\n\\n       specifier *. When Unison sees such a path, it expands this path on\\n\\n       the client into into the corresponding list of paths by listing\\n\\n       the contents of that directory.\\n\\n       Note that if you use wildcard paths from the command line, you\\n\\n       will probably need to use quotes or a backslash to prevent the *\\n\\n       from being interpreted by your shell.\\n\\n       If both roots are local, the contents of the first one will be\\n\\n       used for expanding wildcard paths. (Nb: this is the first one\\n\\n       after the canonization step -- i.e., the one that is listed first\\n\\n       in the user interface -- not the one listed first on the command\\n\\n       line or in the preferences file.)\\n\\n       \\n\\n   Changes since 2.1:\\n\\n     * The transport subsystem now includes an implementation by Sylvain\\n\\n       Gommier and Norman Ramsey of Tridgell and Mackerras\\'s rsync\\n\\n       protocol. This protocol achieves much faster transfers when only a\\n\\n       small part of a large file has been changed by sending just diffs.\\n\\n       This feature is mainly helpful for transfers over slow links---on\\n\\n       fast local area networks it can actually degrade performance---so\\n\\n       we have left it off by default. Start unison with the -rsync\\n\\n       option (or put rsync=true in your preferences file) to turn it on.\\n\\n     * ``Progress bars\\'\\' are now diplayed during remote file transfers,\\n\\n       showing what percentage of each file has been transferred so far.\\n\\n     * The version numbering scheme has changed. New releases will now be\\n\\n       have numbers like 2.2.30, where the second component is\\n\\n       incremented on every significant public release and the third\\n\\n       component is the ``patch level.\\'\\'\\n\\n     * Miscellaneous improvements to the GTK-based user interface.\\n\\n     * The manual is now available in PDF format.\\n\\n     * We are experimenting with using a multi-threaded transport\\n\\n       subsystem to transfer several files at the same time, making much\\n\\n       more effective use of available network bandwidth. This feature is\\n\\n       not completely stable yet, so by default it is disabled in the\\n\\n       release version of Unison.\\n\\n       If you want to play with the multi-threaded version, you\\'ll need\\n\\n       to recompile Unison from sources (as described in the\\n\\n       documentation), setting the THREADS flag in Makefile.OCaml to\\n\\n       true. Make sure that your OCaml compiler has been installed with\\n\\n       the -with-pthreads configuration option. (You can verify this by\\n\\n       checking whether the file threads/threads.cma in the OCaml\\n\\n       standard library directory contains the string -lpthread near the\\n\\n       end.)\\n\\n       \\n\\n   Changes since 1.292:\\n\\n     * Reduced memory footprint (this is especially important during the\\n\\n       first run of unison, where it has to gather information about all\\n\\n       the files in both repositories).\\n\\n     * Fixed a bug that would cause the socket server under NT to fail\\n\\n       after the client exits.\\n\\n     * Added a SHIFT modifier to the Ignore menu shortcut keys in GTK\\n\\n       interface (to avoid hitting them accidentally).\\n\\n       \\n\\n   Changes since 1.231:\\n\\n     * Tunneling over ssh is now supported in the Windows version. See\\n\\n       the installation section of the manual for detailed instructions.\\n\\n     * The transport subsystem now includes an implementation of the\\n\\n       rsync protocol, built by Sylvain Gommier and Norman Ramsey. This\\n\\n       protocol achieves much faster transfers when only a small part of\\n\\n       a large file has been changed by sending just diffs. The rsync\\n\\n       feature is off by default in the current version. Use the -rsync\\n\\n       switch to turn it on. (Nb. We still have a lot of tuning to do:\\n\\n       you may not notice much speedup yet.)\\n\\n     * We\\'re experimenting with a multi-threaded transport subsystem,\\n\\n       written by Jerome Vouillon. The downloadable binaries are still\\n\\n       single-threaded: if you want to try the multi-threaded version,\\n\\n       you\\'ll need to recompile from sources. (Say make THREADS=true.)\\n\\n       Native thread support from the compiler is required. Use the\\n\\n       option -threads N to select the maximal number of concurrent\\n\\n       threads (default is 5). Multi-threaded and single-threaded\\n\\n       clients/servers can interoperate.\\n\\n     * A new GTK-based user interface is now available, thanks to Jacques\\n\\n       Garrigue. The Tk user interface still works, but we\\'ll be shifting\\n\\n       development effort to the GTK interface from now on.\\n\\n     * OCaml 3.00 is now required for compiling Unison from sources. The\\n\\n       modules uitk and myfileselect have been changed to use labltk\\n\\n       instead of camltk. To compile the Tk interface in Windows, you\\n\\n       must have ocaml-3.00 and tk8.3. When installing tk8.3, put it in\\n\\n       c:\\\\Tcl rather than the suggested c:\\\\Program Files\\\\Tcl, and be sure\\n\\n       to install the headers and libraries (which are not installed by\\n\\n       default).\\n\\n     * Added a new -addversionno switch, which causes unison to use\\n\\n       unison-<currentversionnumber> instead of just unison as the remote\\n\\n       server command. This allows multiple versions of unison to coexist\\n\\n       conveniently on the same server: whichever version is run on the\\n\\n       client, the same version will be selected on the server.\\n\\n       \\n\\n   Changes since 1.219:\\n\\n     * INCOMPATIBLE CHANGE: Archive format has changed. Make sure you\\n\\n       synchronize your replicas before upgrading, to avoid spurious\\n\\n       conflicts. The first sync after upgrading will be slow.\\n\\n     * This version fixes several annoying bugs, including:\\n\\n          + Some cases where propagation of file permissions was not\\n\\n            working.\\n\\n          + umask is now ignored when creating directories\\n\\n          + directories are create writable, so that a read-only\\n\\n            directory and its contents can be propagated.\\n\\n          + Handling of warnings generated by the server.\\n\\n          + Synchronizing a path whose parent is not a directory on both\\n\\n            sides is now flagged as erroneous.\\n\\n          + Fixed some bugs related to symnbolic links and nonexistant\\n\\n            roots.\\n\\n               o When a change (deletion or new contents) is propagated\\n\\n                 onto a \\'follow\\'ed symlink, the file pointed to by the\\n\\n                 link is now changed. (We used to change the link itself,\\n\\n                 which doesn\\'t fit our assertion that \\'follow\\' means the\\n\\n                 link is completely invisible)\\n\\n               o When one root did not exist, propagating the other root\\n\\n                 on top of it used to fail, becuase unison could not\\n\\n                 calculate the working directory into which to write\\n\\n                 changes. This should be fixed.\\n\\n     * A human-readable timestamp has been added to Unison\\'s archive\\n\\n       files.\\n\\n     * The semantics of Path and Name regular expressions now correspond\\n\\n       better.\\n\\n     * Some minor improvements to the text UI (e.g. a command for going\\n\\n       back to previous items)\\n\\n     * The organization of the export directory has changed --- should be\\n\\n       easier to find / download things now.\\n\\n       \\n\\n   Changes since 1.200:\\n\\n     * INCOMPATIBLE CHANGE: Archive format has changed. Make sure you\\n\\n       synchronize your replicas before upgrading, to avoid spurious\\n\\n       conflicts. The first sync after upgrading will be slow.\\n\\n     * This version has not been tested extensively on Windows.\\n\\n     * Major internal changes designed to make unison safer to run at the\\n\\n       same time as the replicas are being changed by the user.\\n\\n     * Internal performance improvements.\\n\\n       \\n\\n   Changes since 1.190:\\n\\n     * INCOMPATIBLE CHANGE: Archive format has changed. Make sure you\\n\\n       synchronize your replicas before upgrading, to avoid spurious\\n\\n       conflicts. The first sync after upgrading will be slow.\\n\\n     * A number of internal functions have been changed to reduce the\\n\\n       amount of memory allocation, especially during the first\\n\\n       synchronization. This should help power users with very big\\n\\n       replicas.\\n\\n     * Reimplementation of low-level remote procedure call stuff, in\\n\\n       preparation for adding rsync-like smart file transfer in a later\\n\\n       release.\\n\\n     * Miscellaneous bug fixes.\\n\\n       \\n\\n   Changes since 1.180:\\n\\n     * INCOMPATIBLE CHANGE: Archive format has changed. Make sure you\\n\\n       synchronize your replicas before upgrading, to avoid spurious\\n\\n       conflicts. The first sync after upgrading will be slow.\\n\\n     * Fixed some small bugs in the interpretation of ignore patterns.\\n\\n     * Fixed some problems that were preventing the Windows version from\\n\\n       working correctly when click-started.\\n\\n     * Fixes to treatment of file permissions under Windows, which were\\n\\n       causing spurious reports of different permissions when\\n\\n       synchronizing between windows and unix systems.\\n\\n     * Fixed one more non-tail-recursive list processing function, which\\n\\n       was causing stack overflows when synchronizing very large\\n\\n       replicas.\\n\\n       \\n\\n   Changes since 1.169:\\n\\n     * The text user interface now provides commands for ignoring files.\\n\\n     * We found and fixed some more non-tail-recursive list processing\\n\\n       functions. Some power users have reported success with very large\\n\\n       replicas.\\n\\n     * INCOMPATIBLE CHANGE: Files ending in .tmp are no longer ignored\\n\\n       automatically. If you want to ignore such files, put an\\n\\n       appropriate ignore pattern in your profile.\\n\\n     * INCOMPATIBLE CHANGE: The syntax of ignore and follow patterns has\\n\\n       changed. Instead of putting a line of the form\\n\\n\\n\\n                 ignore = <regexp>\\n\\n       in your profile (.unison/default.prf), you should put:\\n\\n\\n\\n                 ignore = Regexp <regexp>\\n\\n       Moreover, two other styles of pattern are also recognized:\\n\\n\\n\\n                 ignore = Name <name>\\n\\n       matches any path in which one component matches <name>, while\\n\\n\\n\\n                 ignore = Path <path>\\n\\n       matches exactly the path <path>.\\n\\n       Standard ``globbing\\'\\' conventions can be used in <name> and\\n\\n       <path>:\\n\\n          + a ? matches any single character except /\\n\\n          + a * matches any sequence of characters not including /\\n\\n          + [xyz] matches any character from the set {x, y, z }\\n\\n          + {a,bb,ccc} matches any one of a, bb, or ccc.\\n\\n       See the user manual for some examples.\\n\\n       \\n\\n   Changes since 1.146:\\n\\n     * Some users were reporting stack overflows when synchronizing huge\\n\\n       directories. We found and fixed some non-tail-recursive list\\n\\n       processing functions, which we hope will solve the problem. Please\\n\\n       give it a try and let us know.\\n\\n     * Major additions to the documentation.\\n\\n       \\n\\n   Changes since 1.142:\\n\\n     * Major internal tidying and many small bugfixes.\\n\\n     * Major additions to the user manual.\\n\\n     * Unison can now be started with no arguments -- it will prompt\\n\\n       automatically for the name of a profile file containing the roots\\n\\n       to be synchronized. This makes it possible to start the graphical\\n\\n       UI from a desktop icon.\\n\\n     * Fixed a small bug where the text UI on NT was raising a \\'no such\\n\\n       signal\\' exception.\\n\\n       \\n\\n   Changes since 1.139:\\n\\n     * The precompiled windows binary in the last release was compiled\\n\\n       with an old OCaml compiler, causing propagation of permissions not\\n\\n       to work (and perhaps leading to some other strange behaviors we\\'ve\\n\\n       heard reports about). This has been corrected. If you\\'re using\\n\\n       precompiled binaries on Windows, please upgrade.\\n\\n     * Added a -debug command line flag, which controls debugging of\\n\\n       various modules. Say -debug XXX to enable debug tracing for module\\n\\n       XXX, or -debug all to turn on absolutely everything.\\n\\n     * Fixed a small bug where the text UI on NT was raising a \\'no such\\n\\n       signal\\' exception.\\n\\n       \\n\\n   Changes since 1.111:\\n\\n     * INCOMPATIBLE CHANGE: The names and formats of the preference files\\n\\n       in the .unison directory have changed. In particular:\\n\\n          + the file ``prefs\\'\\' should be renamed to default.prf\\n\\n          + the contents of the file ``ignore\\'\\' should be merged into\\n\\n            default.prf. Each line of the form REGEXP in ignore should\\n\\n            become a line of the form ignore = REGEXP in default.prf.\\n\\n     * Unison now handles permission bits and symbolic links. See the\\n\\n       manual for details.\\n\\n     * You can now have different preference files in your .unison\\n\\n       directory. If you start unison like this\\n\\n\\n\\n             unison profilename\\n\\n       (i.e. with just one ``anonymous\\'\\' command-line argument), then the\\n\\n       file ~/.unison/profilename.prf will be loaded instead of\\n\\n       default.prf.\\n\\n     * Some improvements to terminal handling in the text user interface\\n\\n     * Added a switch -killServer that terminates the remote server\\n\\n       process when the unison client is shutting down, even when using\\n\\n       sockets for communication. (By default, a remote server created\\n\\n       using ssh/rsh is terminated automatically, while a socket server\\n\\n       is left running.)\\n\\n     * When started in \\'socket server\\' mode, unison prints \\'server\\n\\n       started\\' on stderr when it is ready to accept connections. (This\\n\\n       may be useful for scripts that want to tell when a socket-mode\\n\\n       server has finished initalization.)\\n\\n     * We now make a nightly mirror of our current internal development\\n\\n       tree, in case anyone wants an up-to-the-minute version to hack\\n\\n       around with.\\n\\n     * Added a file CONTRIB with some suggestions for how to help us make\\n\\n       Unison better.\\n\\n       \\n\\n\\n\\n\\n\\nTo unsubscribe from this group, send an email to:\\n\\nunison-announce-unsubscribe@egroups.com\\n\\n\\n\\n \\n\\n\\n\\nYour use of Yahoo! Groups is subject to http://docs.yahoo.com/info/terms/ \\n\\n\\n\\n\\n\\n\\n'"
      ]
     },
     "execution_count": 193,
     "metadata": {},
     "output_type": "execute_result"
    }
   ],
   "source": [
    "data.at[np.argmax(clean_email_lengths), 'MESSAGE'] #.at to return the row, and .iat to return location number"
   ]
  },
  {
   "cell_type": "code",
   "execution_count": 194,
   "metadata": {},
   "outputs": [
    {
     "data": {
      "text/plain": [
       "DOC_ID\n",
       "0    [save, life, insur, spend, life, quot, save, g...\n",
       "1    [fight, risk, cancer, http, slim, guarante, lo...\n",
       "2    [fight, risk, cancer, http, slim, guarante, lo...\n",
       "3    [adult, club, offer, free, membership, instant...\n",
       "4    [thought, might, like, slim, guarante, lose, l...\n",
       "5    [powerhous, gift, program, want, miss, get, fo...\n",
       "6    [help, want, year, old, fortun, compani, grow,...\n",
       "7    [reliaquot, save, life, insur, life, chang, in...\n",
       "8    [tire, bull, want, stop, lose, money, want, re...\n",
       "9    [dear, cost, effect, direct, email, advertis, ...\n",
       "Name: MESSAGE, dtype: object"
      ]
     },
     "execution_count": 194,
     "metadata": {},
     "output_type": "execute_result"
    }
   ],
   "source": [
    "stemmed_nested_list[0:10]\n"
   ]
  },
  {
   "cell_type": "markdown",
   "metadata": {},
   "source": [
    "### Generate Features & a Sparse Matrix"
   ]
  },
  {
   "cell_type": "markdown",
   "metadata": {},
   "source": [
    "#### Creating a DataFrame with one Word per Column"
   ]
  },
  {
   "cell_type": "code",
   "execution_count": 195,
   "metadata": {},
   "outputs": [
    {
     "data": {
      "text/plain": [
       "pandas.core.series.Series"
      ]
     },
     "execution_count": 195,
     "metadata": {},
     "output_type": "execute_result"
    }
   ],
   "source": [
    "type(stemmed_nested_list)"
   ]
  },
  {
   "cell_type": "code",
   "execution_count": 196,
   "metadata": {},
   "outputs": [
    {
     "data": {
      "text/plain": [
       "list"
      ]
     },
     "execution_count": 196,
     "metadata": {},
     "output_type": "execute_result"
    }
   ],
   "source": [
    "type(stemmed_nested_list.tolist()) # changing type to list makes it easier to create pd.dataframe"
   ]
  },
  {
   "cell_type": "code",
   "execution_count": 197,
   "metadata": {},
   "outputs": [
    {
     "data": {
      "text/html": [
       "<div>\n",
       "<style scoped>\n",
       "    .dataframe tbody tr th:only-of-type {\n",
       "        vertical-align: middle;\n",
       "    }\n",
       "\n",
       "    .dataframe tbody tr th {\n",
       "        vertical-align: top;\n",
       "    }\n",
       "\n",
       "    .dataframe thead th {\n",
       "        text-align: right;\n",
       "    }\n",
       "</style>\n",
       "<table border=\"1\" class=\"dataframe\">\n",
       "  <thead>\n",
       "    <tr style=\"text-align: right;\">\n",
       "      <th></th>\n",
       "      <th>0</th>\n",
       "      <th>1</th>\n",
       "      <th>2</th>\n",
       "      <th>3</th>\n",
       "      <th>4</th>\n",
       "      <th>5</th>\n",
       "      <th>6</th>\n",
       "      <th>7</th>\n",
       "      <th>8</th>\n",
       "      <th>9</th>\n",
       "      <th>...</th>\n",
       "      <th>7661</th>\n",
       "      <th>7662</th>\n",
       "      <th>7663</th>\n",
       "      <th>7664</th>\n",
       "      <th>7665</th>\n",
       "      <th>7666</th>\n",
       "      <th>7667</th>\n",
       "      <th>7668</th>\n",
       "      <th>7669</th>\n",
       "      <th>7670</th>\n",
       "    </tr>\n",
       "  </thead>\n",
       "  <tbody>\n",
       "    <tr>\n",
       "      <td>0</td>\n",
       "      <td>save</td>\n",
       "      <td>life</td>\n",
       "      <td>insur</td>\n",
       "      <td>spend</td>\n",
       "      <td>life</td>\n",
       "      <td>quot</td>\n",
       "      <td>save</td>\n",
       "      <td>g</td>\n",
       "      <td>famili</td>\n",
       "      <td>financi</td>\n",
       "      <td>...</td>\n",
       "      <td>None</td>\n",
       "      <td>None</td>\n",
       "      <td>None</td>\n",
       "      <td>None</td>\n",
       "      <td>None</td>\n",
       "      <td>None</td>\n",
       "      <td>None</td>\n",
       "      <td>None</td>\n",
       "      <td>None</td>\n",
       "      <td>None</td>\n",
       "    </tr>\n",
       "    <tr>\n",
       "      <td>1</td>\n",
       "      <td>fight</td>\n",
       "      <td>risk</td>\n",
       "      <td>cancer</td>\n",
       "      <td>http</td>\n",
       "      <td>slim</td>\n",
       "      <td>guarante</td>\n",
       "      <td>lose</td>\n",
       "      <td>lb</td>\n",
       "      <td>day</td>\n",
       "      <td>http</td>\n",
       "      <td>...</td>\n",
       "      <td>None</td>\n",
       "      <td>None</td>\n",
       "      <td>None</td>\n",
       "      <td>None</td>\n",
       "      <td>None</td>\n",
       "      <td>None</td>\n",
       "      <td>None</td>\n",
       "      <td>None</td>\n",
       "      <td>None</td>\n",
       "      <td>None</td>\n",
       "    </tr>\n",
       "    <tr>\n",
       "      <td>2</td>\n",
       "      <td>fight</td>\n",
       "      <td>risk</td>\n",
       "      <td>cancer</td>\n",
       "      <td>http</td>\n",
       "      <td>slim</td>\n",
       "      <td>guarante</td>\n",
       "      <td>lose</td>\n",
       "      <td>lb</td>\n",
       "      <td>day</td>\n",
       "      <td>http</td>\n",
       "      <td>...</td>\n",
       "      <td>None</td>\n",
       "      <td>None</td>\n",
       "      <td>None</td>\n",
       "      <td>None</td>\n",
       "      <td>None</td>\n",
       "      <td>None</td>\n",
       "      <td>None</td>\n",
       "      <td>None</td>\n",
       "      <td>None</td>\n",
       "      <td>None</td>\n",
       "    </tr>\n",
       "    <tr>\n",
       "      <td>3</td>\n",
       "      <td>adult</td>\n",
       "      <td>club</td>\n",
       "      <td>offer</td>\n",
       "      <td>free</td>\n",
       "      <td>membership</td>\n",
       "      <td>instant</td>\n",
       "      <td>access</td>\n",
       "      <td>site</td>\n",
       "      <td>user</td>\n",
       "      <td>name</td>\n",
       "      <td>...</td>\n",
       "      <td>None</td>\n",
       "      <td>None</td>\n",
       "      <td>None</td>\n",
       "      <td>None</td>\n",
       "      <td>None</td>\n",
       "      <td>None</td>\n",
       "      <td>None</td>\n",
       "      <td>None</td>\n",
       "      <td>None</td>\n",
       "      <td>None</td>\n",
       "    </tr>\n",
       "    <tr>\n",
       "      <td>4</td>\n",
       "      <td>thought</td>\n",
       "      <td>might</td>\n",
       "      <td>like</td>\n",
       "      <td>slim</td>\n",
       "      <td>guarante</td>\n",
       "      <td>lose</td>\n",
       "      <td>lb</td>\n",
       "      <td>day</td>\n",
       "      <td>http</td>\n",
       "      <td>fight</td>\n",
       "      <td>...</td>\n",
       "      <td>None</td>\n",
       "      <td>None</td>\n",
       "      <td>None</td>\n",
       "      <td>None</td>\n",
       "      <td>None</td>\n",
       "      <td>None</td>\n",
       "      <td>None</td>\n",
       "      <td>None</td>\n",
       "      <td>None</td>\n",
       "      <td>None</td>\n",
       "    </tr>\n",
       "  </tbody>\n",
       "</table>\n",
       "<p>5 rows × 7671 columns</p>\n",
       "</div>"
      ],
      "text/plain": [
       "      0      1       2      3           4         5       6     7       8     \\\n",
       "0     save   life   insur  spend        life      quot    save     g  famili   \n",
       "1    fight   risk  cancer   http        slim  guarante    lose    lb     day   \n",
       "2    fight   risk  cancer   http        slim  guarante    lose    lb     day   \n",
       "3    adult   club   offer   free  membership   instant  access  site    user   \n",
       "4  thought  might    like   slim    guarante      lose      lb   day    http   \n",
       "\n",
       "      9     ...  7661  7662  7663  7664  7665  7666  7667  7668  7669  7670  \n",
       "0  financi  ...  None  None  None  None  None  None  None  None  None  None  \n",
       "1     http  ...  None  None  None  None  None  None  None  None  None  None  \n",
       "2     http  ...  None  None  None  None  None  None  None  None  None  None  \n",
       "3     name  ...  None  None  None  None  None  None  None  None  None  None  \n",
       "4    fight  ...  None  None  None  None  None  None  None  None  None  None  \n",
       "\n",
       "[5 rows x 7671 columns]"
      ]
     },
     "execution_count": 197,
     "metadata": {},
     "output_type": "execute_result"
    }
   ],
   "source": [
    "word_columns_df = pd.DataFrame.from_records(stemmed_nested_list.tolist())  # creating dataframe\n",
    "word_columns_df.head()"
   ]
  },
  {
   "cell_type": "code",
   "execution_count": 198,
   "metadata": {},
   "outputs": [
    {
     "data": {
      "text/plain": [
       "(4400, 7671)"
      ]
     },
     "execution_count": 198,
     "metadata": {},
     "output_type": "execute_result"
    }
   ],
   "source": [
    "word_columns_df.shape "
   ]
  },
  {
   "cell_type": "markdown",
   "metadata": {},
   "source": [
    "### Splitting the Data into a Training and Testing Dataset"
   ]
  },
  {
   "cell_type": "code",
   "execution_count": 199,
   "metadata": {},
   "outputs": [],
   "source": [
    "# Note: X_train is a pandas dataframe, and y_train is a pandas series\n",
    "\n",
    "X_train, X_test, y_train, y_test = train_test_split(word_columns_df, # X values are all the words in each word_id\n",
    "                                                    data.CATEGORY,  # y values are the spam_ham category\n",
    "                                                    test_size=0.3, #70% split and shuffle\n",
    "                                                    random_state=42)"
   ]
  },
  {
   "cell_type": "code",
   "execution_count": 200,
   "metadata": {},
   "outputs": [
    {
     "name": "stdout",
     "output_type": "stream",
     "text": [
      "Nr of training samples 3080\n",
      "Fraction of training set 0.7\n"
     ]
    }
   ],
   "source": [
    "print('Nr of training samples', X_train.shape[0])\n",
    "print('Fraction of training set', X_train.shape[0] / word_columns_df.shape[0])"
   ]
  },
  {
   "cell_type": "code",
   "execution_count": 201,
   "metadata": {},
   "outputs": [
    {
     "data": {
      "text/html": [
       "<div>\n",
       "<style scoped>\n",
       "    .dataframe tbody tr th:only-of-type {\n",
       "        vertical-align: middle;\n",
       "    }\n",
       "\n",
       "    .dataframe tbody tr th {\n",
       "        vertical-align: top;\n",
       "    }\n",
       "\n",
       "    .dataframe thead th {\n",
       "        text-align: right;\n",
       "    }\n",
       "</style>\n",
       "<table border=\"1\" class=\"dataframe\">\n",
       "  <thead>\n",
       "    <tr style=\"text-align: right;\">\n",
       "      <th></th>\n",
       "      <th>0</th>\n",
       "      <th>1</th>\n",
       "      <th>2</th>\n",
       "      <th>3</th>\n",
       "      <th>4</th>\n",
       "      <th>5</th>\n",
       "      <th>6</th>\n",
       "      <th>7</th>\n",
       "      <th>8</th>\n",
       "      <th>9</th>\n",
       "      <th>...</th>\n",
       "      <th>7661</th>\n",
       "      <th>7662</th>\n",
       "      <th>7663</th>\n",
       "      <th>7664</th>\n",
       "      <th>7665</th>\n",
       "      <th>7666</th>\n",
       "      <th>7667</th>\n",
       "      <th>7668</th>\n",
       "      <th>7669</th>\n",
       "      <th>7670</th>\n",
       "    </tr>\n",
       "    <tr>\n",
       "      <th>DOC_ID</th>\n",
       "      <th></th>\n",
       "      <th></th>\n",
       "      <th></th>\n",
       "      <th></th>\n",
       "      <th></th>\n",
       "      <th></th>\n",
       "      <th></th>\n",
       "      <th></th>\n",
       "      <th></th>\n",
       "      <th></th>\n",
       "      <th></th>\n",
       "      <th></th>\n",
       "      <th></th>\n",
       "      <th></th>\n",
       "      <th></th>\n",
       "      <th></th>\n",
       "      <th></th>\n",
       "      <th></th>\n",
       "      <th></th>\n",
       "      <th></th>\n",
       "      <th></th>\n",
       "    </tr>\n",
       "  </thead>\n",
       "  <tbody>\n",
       "    <tr>\n",
       "      <td>1829</td>\n",
       "      <td>updat</td>\n",
       "      <td>directori</td>\n",
       "      <td>modifi</td>\n",
       "      <td>file</td>\n",
       "      <td>log</td>\n",
       "      <td>messag</td>\n",
       "      <td>remov</td>\n",
       "      <td>index</td>\n",
       "      <td>rc</td>\n",
       "      <td>file</td>\n",
       "      <td>...</td>\n",
       "      <td>None</td>\n",
       "      <td>None</td>\n",
       "      <td>None</td>\n",
       "      <td>None</td>\n",
       "      <td>None</td>\n",
       "      <td>None</td>\n",
       "      <td>None</td>\n",
       "      <td>None</td>\n",
       "      <td>None</td>\n",
       "      <td>None</td>\n",
       "    </tr>\n",
       "    <tr>\n",
       "      <td>2274</td>\n",
       "      <td>use</td>\n",
       "      <td>perl</td>\n",
       "      <td>daili</td>\n",
       "      <td>headlin</td>\n",
       "      <td>mailer</td>\n",
       "      <td>week</td>\n",
       "      <td>august</td>\n",
       "      <td>septemb</td>\n",
       "      <td>post</td>\n",
       "      <td>rafael</td>\n",
       "      <td>...</td>\n",
       "      <td>None</td>\n",
       "      <td>None</td>\n",
       "      <td>None</td>\n",
       "      <td>None</td>\n",
       "      <td>None</td>\n",
       "      <td>None</td>\n",
       "      <td>None</td>\n",
       "      <td>None</td>\n",
       "      <td>None</td>\n",
       "      <td>None</td>\n",
       "    </tr>\n",
       "    <tr>\n",
       "      <td>218</td>\n",
       "      <td>introduct</td>\n",
       "      <td>sell</td>\n",
       "      <td>backup</td>\n",
       "      <td>cd</td>\n",
       "      <td>also</td>\n",
       "      <td>known</td>\n",
       "      <td>warez</td>\n",
       "      <td>cd</td>\n",
       "      <td>backup</td>\n",
       "      <td>cd</td>\n",
       "      <td>...</td>\n",
       "      <td>None</td>\n",
       "      <td>None</td>\n",
       "      <td>None</td>\n",
       "      <td>None</td>\n",
       "      <td>None</td>\n",
       "      <td>None</td>\n",
       "      <td>None</td>\n",
       "      <td>None</td>\n",
       "      <td>None</td>\n",
       "      <td>None</td>\n",
       "    </tr>\n",
       "    <tr>\n",
       "      <td>3793</td>\n",
       "      <td>date</td>\n",
       "      <td>tue</td>\n",
       "      <td>aug</td>\n",
       "      <td>ever</td>\n",
       "      <td>tri</td>\n",
       "      <td>get</td>\n",
       "      <td>mh</td>\n",
       "      <td>sequenc</td>\n",
       "      <td>hmm</td>\n",
       "      <td>use</td>\n",
       "      <td>...</td>\n",
       "      <td>None</td>\n",
       "      <td>None</td>\n",
       "      <td>None</td>\n",
       "      <td>None</td>\n",
       "      <td>None</td>\n",
       "      <td>None</td>\n",
       "      <td>None</td>\n",
       "      <td>None</td>\n",
       "      <td>None</td>\n",
       "      <td>None</td>\n",
       "    </tr>\n",
       "    <tr>\n",
       "      <td>1770</td>\n",
       "      <td>upon</td>\n",
       "      <td>time</td>\n",
       "      <td>vill</td>\n",
       "      <td>wrote</td>\n",
       "      <td>btw</td>\n",
       "      <td>think</td>\n",
       "      <td>kake</td>\n",
       "      <td>ogl</td>\n",
       "      <td>packag</td>\n",
       "      <td>automat</td>\n",
       "      <td>...</td>\n",
       "      <td>None</td>\n",
       "      <td>None</td>\n",
       "      <td>None</td>\n",
       "      <td>None</td>\n",
       "      <td>None</td>\n",
       "      <td>None</td>\n",
       "      <td>None</td>\n",
       "      <td>None</td>\n",
       "      <td>None</td>\n",
       "      <td>None</td>\n",
       "    </tr>\n",
       "  </tbody>\n",
       "</table>\n",
       "<p>5 rows × 7671 columns</p>\n",
       "</div>"
      ],
      "text/plain": [
       "             0          1       2        3       4       5       6     \\\n",
       "DOC_ID                                                                  \n",
       "1829        updat  directori  modifi     file     log  messag   remov   \n",
       "2274          use       perl   daili  headlin  mailer    week  august   \n",
       "218     introduct       sell  backup       cd    also   known   warez   \n",
       "3793         date        tue     aug     ever     tri     get      mh   \n",
       "1770         upon       time    vill    wrote     btw   think    kake   \n",
       "\n",
       "           7       8        9     ...  7661  7662  7663  7664  7665  7666  \\\n",
       "DOC_ID                            ...                                       \n",
       "1829      index      rc     file  ...  None  None  None  None  None  None   \n",
       "2274    septemb    post   rafael  ...  None  None  None  None  None  None   \n",
       "218          cd  backup       cd  ...  None  None  None  None  None  None   \n",
       "3793    sequenc     hmm      use  ...  None  None  None  None  None  None   \n",
       "1770        ogl  packag  automat  ...  None  None  None  None  None  None   \n",
       "\n",
       "        7667  7668  7669  7670  \n",
       "DOC_ID                          \n",
       "1829    None  None  None  None  \n",
       "2274    None  None  None  None  \n",
       "218     None  None  None  None  \n",
       "3793    None  None  None  None  \n",
       "1770    None  None  None  None  \n",
       "\n",
       "[5 rows x 7671 columns]"
      ]
     },
     "execution_count": 201,
     "metadata": {},
     "output_type": "execute_result"
    }
   ],
   "source": [
    "X_train.index.name = X_test.index.name = 'DOC_ID' # giving index a name 'DOC_ID'\n",
    "X_train.head()"
   ]
  },
  {
   "cell_type": "code",
   "execution_count": 202,
   "metadata": {},
   "outputs": [
    {
     "data": {
      "text/plain": [
       "DOC_ID\n",
       "1829    0\n",
       "2274    0\n",
       "218     1\n",
       "3793    0\n",
       "1770    0\n",
       "Name: CATEGORY, dtype: int64"
      ]
     },
     "execution_count": 202,
     "metadata": {},
     "output_type": "execute_result"
    }
   ],
   "source": [
    "y_train.head()\n"
   ]
  },
  {
   "cell_type": "code",
   "execution_count": 203,
   "metadata": {},
   "outputs": [
    {
     "data": {
      "text/plain": [
       "'one'"
      ]
     },
     "execution_count": 203,
     "metadata": {},
     "output_type": "execute_result"
    }
   ],
   "source": [
    "vocab.VOCAB_WORD.values[4]"
   ]
  },
  {
   "cell_type": "markdown",
   "metadata": {},
   "source": [
    "### Create a Sparse Matrix for the Training Data"
   ]
  },
  {
   "cell_type": "code",
   "execution_count": 204,
   "metadata": {},
   "outputs": [
    {
     "data": {
      "text/plain": [
       "str"
      ]
     },
     "execution_count": 204,
     "metadata": {},
     "output_type": "execute_result"
    }
   ],
   "source": [
    "word_index = pd.Index(vocab.VOCAB_WORD) # an index file that has all the vocab words as index(str)\n",
    "type(word_index[3])"
   ]
  },
  {
   "cell_type": "code",
   "execution_count": 205,
   "metadata": {},
   "outputs": [
    {
     "data": {
      "text/plain": [
       "267"
      ]
     },
     "execution_count": 205,
     "metadata": {},
     "output_type": "execute_result"
    }
   ],
   "source": [
    "word_index.get_loc('thu') # get location of each word(index)"
   ]
  },
  {
   "cell_type": "code",
   "execution_count": 206,
   "metadata": {},
   "outputs": [],
   "source": [
    "def make_sparse_matrix(df, indexed_words, labels):\n",
    "    \"\"\"\n",
    "    Returns sparse matrix as dataframe.\n",
    "    \n",
    "    df: A dataframe with words in the columns with a document id as an index (X_train or X_test) - X_train\n",
    "    indexed_words: index of words ordered by word id - vocab\n",
    "    labels: category as a series (y_train or y_test) - y_train\n",
    "    \"\"\"\n",
    "    \n",
    "    nr_rows = df.shape[0]\n",
    "    nr_cols = df.shape[1]\n",
    "    word_set = set(indexed_words)\n",
    "    dict_list = []\n",
    "    \n",
    "    for i in range(nr_rows):\n",
    "        for j in range(nr_cols):\n",
    "            \n",
    "            word = df.iat[i, j]\n",
    "            if word in word_set:\n",
    "                doc_id = df.index[i]\n",
    "                word_id = indexed_words.get_loc(word)\n",
    "                category = labels.at[doc_id]\n",
    "                \n",
    "                item = {'LABEL': category, 'DOC_ID': doc_id,\n",
    "                       'OCCURENCE': 1, 'WORD_ID': word_id}\n",
    "                \n",
    "                dict_list.append(item)\n",
    "    \n",
    "    return pd.DataFrame(dict_list)"
   ]
  },
  {
   "cell_type": "code",
   "execution_count": 207,
   "metadata": {},
   "outputs": [
    {
     "name": "stdout",
     "output_type": "stream",
     "text": [
      "Wall time: 1min 48s\n"
     ]
    }
   ],
   "source": [
    "%%time\n",
    "sparse_train_df = make_sparse_matrix(X_train, word_index, y_train)"
   ]
  },
  {
   "cell_type": "code",
   "execution_count": 208,
   "metadata": {},
   "outputs": [
    {
     "data": {
      "text/html": [
       "<div>\n",
       "<style scoped>\n",
       "    .dataframe tbody tr th:only-of-type {\n",
       "        vertical-align: middle;\n",
       "    }\n",
       "\n",
       "    .dataframe tbody tr th {\n",
       "        vertical-align: top;\n",
       "    }\n",
       "\n",
       "    .dataframe thead th {\n",
       "        text-align: right;\n",
       "    }\n",
       "</style>\n",
       "<table border=\"1\" class=\"dataframe\">\n",
       "  <thead>\n",
       "    <tr style=\"text-align: right;\">\n",
       "      <th></th>\n",
       "      <th>LABEL</th>\n",
       "      <th>DOC_ID</th>\n",
       "      <th>OCCURENCE</th>\n",
       "      <th>WORD_ID</th>\n",
       "    </tr>\n",
       "  </thead>\n",
       "  <tbody>\n",
       "    <tr>\n",
       "      <td>302744</td>\n",
       "      <td>0</td>\n",
       "      <td>860</td>\n",
       "      <td>1</td>\n",
       "      <td>93</td>\n",
       "    </tr>\n",
       "    <tr>\n",
       "      <td>302745</td>\n",
       "      <td>0</td>\n",
       "      <td>860</td>\n",
       "      <td>1</td>\n",
       "      <td>680</td>\n",
       "    </tr>\n",
       "    <tr>\n",
       "      <td>302746</td>\n",
       "      <td>0</td>\n",
       "      <td>860</td>\n",
       "      <td>1</td>\n",
       "      <td>580</td>\n",
       "    </tr>\n",
       "    <tr>\n",
       "      <td>302747</td>\n",
       "      <td>0</td>\n",
       "      <td>860</td>\n",
       "      <td>1</td>\n",
       "      <td>50</td>\n",
       "    </tr>\n",
       "    <tr>\n",
       "      <td>302748</td>\n",
       "      <td>0</td>\n",
       "      <td>860</td>\n",
       "      <td>1</td>\n",
       "      <td>1162</td>\n",
       "    </tr>\n",
       "  </tbody>\n",
       "</table>\n",
       "</div>"
      ],
      "text/plain": [
       "        LABEL  DOC_ID  OCCURENCE  WORD_ID\n",
       "302744      0     860          1       93\n",
       "302745      0     860          1      680\n",
       "302746      0     860          1      580\n",
       "302747      0     860          1       50\n",
       "302748      0     860          1     1162"
      ]
     },
     "execution_count": 208,
     "metadata": {},
     "output_type": "execute_result"
    }
   ],
   "source": [
    "sparse_train_df.tail()"
   ]
  },
  {
   "cell_type": "code",
   "execution_count": 209,
   "metadata": {},
   "outputs": [
    {
     "data": {
      "text/plain": [
       "(302749, 4)"
      ]
     },
     "execution_count": 209,
     "metadata": {},
     "output_type": "execute_result"
    }
   ],
   "source": [
    "sparse_train_df.shape"
   ]
  },
  {
   "cell_type": "markdown",
   "metadata": {},
   "source": [
    "#### Combine Occurrences with the Pandas groupby() Method"
   ]
  },
  {
   "cell_type": "code",
   "execution_count": 210,
   "metadata": {},
   "outputs": [
    {
     "data": {
      "text/html": [
       "<div>\n",
       "<style scoped>\n",
       "    .dataframe tbody tr th:only-of-type {\n",
       "        vertical-align: middle;\n",
       "    }\n",
       "\n",
       "    .dataframe tbody tr th {\n",
       "        vertical-align: top;\n",
       "    }\n",
       "\n",
       "    .dataframe thead th {\n",
       "        text-align: right;\n",
       "    }\n",
       "</style>\n",
       "<table border=\"1\" class=\"dataframe\">\n",
       "  <thead>\n",
       "    <tr style=\"text-align: right;\">\n",
       "      <th></th>\n",
       "      <th></th>\n",
       "      <th></th>\n",
       "      <th>OCCURENCE</th>\n",
       "    </tr>\n",
       "    <tr>\n",
       "      <th>DOC_ID</th>\n",
       "      <th>WORD_ID</th>\n",
       "      <th>LABEL</th>\n",
       "      <th></th>\n",
       "    </tr>\n",
       "  </thead>\n",
       "  <tbody>\n",
       "    <tr>\n",
       "      <td rowspan=\"11\" valign=\"top\">0</td>\n",
       "      <td>2</td>\n",
       "      <td>1</td>\n",
       "      <td>1</td>\n",
       "    </tr>\n",
       "    <tr>\n",
       "      <td>3</td>\n",
       "      <td>1</td>\n",
       "      <td>1</td>\n",
       "    </tr>\n",
       "    <tr>\n",
       "      <td>11</td>\n",
       "      <td>1</td>\n",
       "      <td>2</td>\n",
       "    </tr>\n",
       "    <tr>\n",
       "      <td>13</td>\n",
       "      <td>1</td>\n",
       "      <td>1</td>\n",
       "    </tr>\n",
       "    <tr>\n",
       "      <td>14</td>\n",
       "      <td>1</td>\n",
       "      <td>1</td>\n",
       "    </tr>\n",
       "    <tr>\n",
       "      <td>29</td>\n",
       "      <td>1</td>\n",
       "      <td>3</td>\n",
       "    </tr>\n",
       "    <tr>\n",
       "      <td>41</td>\n",
       "      <td>1</td>\n",
       "      <td>1</td>\n",
       "    </tr>\n",
       "    <tr>\n",
       "      <td>48</td>\n",
       "      <td>1</td>\n",
       "      <td>1</td>\n",
       "    </tr>\n",
       "    <tr>\n",
       "      <td>49</td>\n",
       "      <td>1</td>\n",
       "      <td>1</td>\n",
       "    </tr>\n",
       "    <tr>\n",
       "      <td>51</td>\n",
       "      <td>1</td>\n",
       "      <td>1</td>\n",
       "    </tr>\n",
       "    <tr>\n",
       "      <td>53</td>\n",
       "      <td>1</td>\n",
       "      <td>1</td>\n",
       "    </tr>\n",
       "  </tbody>\n",
       "</table>\n",
       "</div>"
      ],
      "text/plain": [
       "                      OCCURENCE\n",
       "DOC_ID WORD_ID LABEL           \n",
       "0      2       1              1\n",
       "       3       1              1\n",
       "       11      1              2\n",
       "       13      1              1\n",
       "       14      1              1\n",
       "       29      1              3\n",
       "       41      1              1\n",
       "       48      1              1\n",
       "       49      1              1\n",
       "       51      1              1\n",
       "       53      1              1"
      ]
     },
     "execution_count": 210,
     "metadata": {},
     "output_type": "execute_result"
    }
   ],
   "source": [
    "train_grouped = sparse_train_df.groupby(['DOC_ID', 'WORD_ID', 'LABEL']).sum()  # sums the occurances by group\n",
    "train_grouped[0:11]"
   ]
  },
  {
   "cell_type": "code",
   "execution_count": 211,
   "metadata": {},
   "outputs": [
    {
     "data": {
      "text/plain": [
       "'free'"
      ]
     },
     "execution_count": 211,
     "metadata": {},
     "output_type": "execute_result"
    }
   ],
   "source": [
    "vocab.at[29, 'VOCAB_WORD'] # the first word at index 0, and column VOCAB_WORD"
   ]
  },
  {
   "cell_type": "code",
   "execution_count": 212,
   "metadata": {},
   "outputs": [
    {
     "data": {
      "text/plain": [
       "'<!DOCTYPE HTML PUBLIC \"-//W3C//DTD HTML 4.0 Transitional//EN\">\\n\\n<HTML><HEAD>\\n\\n<META content=3D\"text/html; charset=3Dwindows-1252\" http-equiv=3DContent-T=\\n\\nype>\\n\\n<META content=3D\"MSHTML 5.00.2314.1000\" name=3DGENERATOR></HEAD>\\n\\n<BODY><!-- Inserted by Calypso -->\\n\\n<TABLE border=3D0 cellPadding=3D0 cellSpacing=3D2 id=3D_CalyPrintHeader_ r=\\n\\nules=3Dnone \\n\\nstyle=3D\"COLOR: black; DISPLAY: none\" width=3D\"100%\">\\n\\n  <TBODY>\\n\\n  <TR>\\n\\n    <TD colSpan=3D3>\\n\\n      <HR color=3Dblack noShade SIZE=3D1>\\n\\n    </TD></TR></TD></TR>\\n\\n  <TR>\\n\\n    <TD colSpan=3D3>\\n\\n      <HR color=3Dblack noShade SIZE=3D1>\\n\\n    </TD></TR></TBODY></TABLE><!-- End Calypso --><!-- Inserted by Calypso=\\n\\n --><FONT \\n\\ncolor=3D#000000 face=3DVERDANA,ARIAL,HELVETICA size=3D-2><BR></FONT></TD><=\\n\\n/TR></TABLE><!-- End Calypso --><FONT color=3D#ff0000 \\n\\nface=3D\"Copperplate Gothic Bold\" size=3D5 PTSIZE=3D\"10\">\\n\\n<CENTER>Save up to 70% on Life Insurance.</CENTER></FONT><FONT color=3D#ff=\\n\\n0000 \\n\\nface=3D\"Copperplate Gothic Bold\" size=3D5 PTSIZE=3D\"10\">\\n\\n<CENTER>Why Spend More Than You Have To?\\n\\n<CENTER><FONT color=3D#ff0000 face=3D\"Copperplate Gothic Bold\" size=3D5 PT=\\n\\nSIZE=3D\"10\">\\n\\n<CENTER>Life Quote Savings\\n\\n<CENTER>\\n\\n<P align=3Dleft></P>\\n\\n<P align=3Dleft></P></FONT></U></I></B><BR></FONT></U></B></U></I>\\n\\n<P></P>\\n\\n<CENTER>\\n\\n<TABLE border=3D0 borderColor=3D#111111 cellPadding=3D0 cellSpacing=3D0 wi=\\n\\ndth=3D650>\\n\\n  <TBODY></TBODY></TABLE>\\n\\n<TABLE border=3D0 borderColor=3D#111111 cellPadding=3D5 cellSpacing=3D0 wi=\\n\\ndth=3D650>\\n\\n  <TBODY>\\n\\n  <TR>\\n\\n    <TD colSpan=3D2 width=3D\"35%\"><B><FONT face=3DVerdana size=3D4>Ensurin=\\n\\ng your \\n\\n      family\\'s financial security is very important. Life Quote Savings ma=\\n\\nkes \\n\\n      buying life insurance simple and affordable. We Provide FREE Access =\\n\\nto The \\n\\n      Very Best Companies and The Lowest Rates.</FONT></B></TD></TR>\\n\\n  <TR>\\n\\n    <TD align=3Dmiddle vAlign=3Dtop width=3D\"18%\">\\n\\n      <TABLE borderColor=3D#111111 width=3D\"100%\">\\n\\n        <TBODY>\\n\\n        <TR>\\n\\n          <TD style=3D\"PADDING-LEFT: 5px; PADDING-RIGHT: 5px\" width=3D\"100=\\n\\n%\"><FONT \\n\\n            face=3DVerdana size=3D4><B>Life Quote Savings</B> is FAST, EAS=\\n\\nY and \\n\\n            SAVES you money! Let us help you get started with the best val=\\n\\nues in \\n\\n            the country on new coverage. You can SAVE hundreds or even tho=\\n\\nusands \\n\\n            of dollars by requesting a FREE quote from Lifequote Savings. =\\n\\nOur \\n\\n            service will take you less than 5 minutes to complete. Shop an=\\n\\nd \\n\\n            compare. SAVE up to 70% on all types of Life insurance! \\n\\n</FONT></TD></TR>\\n\\n        <TR><BR><BR>\\n\\n          <TD height=3D50 style=3D\"PADDING-LEFT: 5px; PADDING-RIGHT: 5px\" \\n\\n          width=3D\"100%\">\\n\\n            <P align=3Dcenter><B><FONT face=3DVerdana size=3D5><A \\n\\n            href=3D\"http://website.e365.cc/savequote/\">Click Here For Your=\\n\\n \\n\\n            Free Quote!</A></FONT></B></P></TD>\\n\\n          <P><FONT face=3DVerdana size=3D4><STRONG>\\n\\n          <CENTER>Protecting your family is the best investment you\\'ll eve=\\n\\nr \\n\\n          make!<BR></B></TD></TR>\\n\\n        <TR><BR><BR></STRONG></FONT></TD></TR></TD></TR>\\n\\n        <TR></TR></TBODY></TABLE>\\n\\n      <P align=3Dleft><FONT face=3D\"Arial, Helvetica, sans-serif\" size=3D2=\\n\\n></FONT></P>\\n\\n      <P></P>\\n\\n      <CENTER><BR><BR><BR>\\n\\n      <P></P>\\n\\n      <P align=3Dleft><BR></B><BR><BR><BR><BR></P>\\n\\n      <P align=3Dcenter><BR></P>\\n\\n      <P align=3Dleft><BR></B><BR><BR></FONT>If you are in receipt of this=\\n\\n email \\n\\n      in error and/or wish to be removed from our list, <A \\n\\n      href=3D\"mailto:coins@btamail.net.cn\">PLEASE CLICK HERE</A> AND TYPE =\\n\\nREMOVE. If you \\n\\n      reside in any state which prohibits e-mail solicitations for insuran=\\n\\nce, \\n\\n      please disregard this \\n\\n      email.<BR></FONT><BR><BR><BR><BR><BR><BR><BR><BR><BR><BR><BR><BR><BR=\\n\\n><BR><BR><BR></FONT></P></CENTER></CENTER></TR></TBODY></TABLE></CENTER></=\\n\\nCENTER></CENTER></CENTER></CENTER></BODY></HTML>\\n\\n\\n\\n\\n\\n\\n'"
      ]
     },
     "execution_count": 212,
     "metadata": {},
     "output_type": "execute_result"
    }
   ],
   "source": [
    "data.MESSAGE[0] # the first message, the word 'free' occurs three times"
   ]
  },
  {
   "cell_type": "code",
   "execution_count": 213,
   "metadata": {},
   "outputs": [
    {
     "data": {
      "text/html": [
       "<div>\n",
       "<style scoped>\n",
       "    .dataframe tbody tr th:only-of-type {\n",
       "        vertical-align: middle;\n",
       "    }\n",
       "\n",
       "    .dataframe tbody tr th {\n",
       "        vertical-align: top;\n",
       "    }\n",
       "\n",
       "    .dataframe thead th {\n",
       "        text-align: right;\n",
       "    }\n",
       "</style>\n",
       "<table border=\"1\" class=\"dataframe\">\n",
       "  <thead>\n",
       "    <tr style=\"text-align: right;\">\n",
       "      <th></th>\n",
       "      <th>DOC_ID</th>\n",
       "      <th>WORD_ID</th>\n",
       "      <th>LABEL</th>\n",
       "      <th>OCCURENCE</th>\n",
       "    </tr>\n",
       "  </thead>\n",
       "  <tbody>\n",
       "    <tr>\n",
       "      <td>0</td>\n",
       "      <td>0</td>\n",
       "      <td>2</td>\n",
       "      <td>1</td>\n",
       "      <td>1</td>\n",
       "    </tr>\n",
       "    <tr>\n",
       "      <td>1</td>\n",
       "      <td>0</td>\n",
       "      <td>3</td>\n",
       "      <td>1</td>\n",
       "      <td>1</td>\n",
       "    </tr>\n",
       "    <tr>\n",
       "      <td>2</td>\n",
       "      <td>0</td>\n",
       "      <td>11</td>\n",
       "      <td>1</td>\n",
       "      <td>2</td>\n",
       "    </tr>\n",
       "    <tr>\n",
       "      <td>3</td>\n",
       "      <td>0</td>\n",
       "      <td>13</td>\n",
       "      <td>1</td>\n",
       "      <td>1</td>\n",
       "    </tr>\n",
       "    <tr>\n",
       "      <td>4</td>\n",
       "      <td>0</td>\n",
       "      <td>14</td>\n",
       "      <td>1</td>\n",
       "      <td>1</td>\n",
       "    </tr>\n",
       "    <tr>\n",
       "      <td>...</td>\n",
       "      <td>...</td>\n",
       "      <td>...</td>\n",
       "      <td>...</td>\n",
       "      <td>...</td>\n",
       "    </tr>\n",
       "    <tr>\n",
       "      <td>189495</td>\n",
       "      <td>4397</td>\n",
       "      <td>1952</td>\n",
       "      <td>0</td>\n",
       "      <td>3</td>\n",
       "    </tr>\n",
       "    <tr>\n",
       "      <td>189496</td>\n",
       "      <td>4397</td>\n",
       "      <td>2047</td>\n",
       "      <td>0</td>\n",
       "      <td>1</td>\n",
       "    </tr>\n",
       "    <tr>\n",
       "      <td>189497</td>\n",
       "      <td>4397</td>\n",
       "      <td>2074</td>\n",
       "      <td>0</td>\n",
       "      <td>1</td>\n",
       "    </tr>\n",
       "    <tr>\n",
       "      <td>189498</td>\n",
       "      <td>4397</td>\n",
       "      <td>2076</td>\n",
       "      <td>0</td>\n",
       "      <td>1</td>\n",
       "    </tr>\n",
       "    <tr>\n",
       "      <td>189499</td>\n",
       "      <td>4397</td>\n",
       "      <td>2375</td>\n",
       "      <td>0</td>\n",
       "      <td>2</td>\n",
       "    </tr>\n",
       "  </tbody>\n",
       "</table>\n",
       "<p>189500 rows × 4 columns</p>\n",
       "</div>"
      ],
      "text/plain": [
       "        DOC_ID  WORD_ID  LABEL  OCCURENCE\n",
       "0            0        2      1          1\n",
       "1            0        3      1          1\n",
       "2            0       11      1          2\n",
       "3            0       13      1          1\n",
       "4            0       14      1          1\n",
       "...        ...      ...    ...        ...\n",
       "189495    4397     1952      0          3\n",
       "189496    4397     2047      0          1\n",
       "189497    4397     2074      0          1\n",
       "189498    4397     2076      0          1\n",
       "189499    4397     2375      0          2\n",
       "\n",
       "[189500 rows x 4 columns]"
      ]
     },
     "execution_count": 213,
     "metadata": {},
     "output_type": "execute_result"
    }
   ],
   "source": [
    "train_grouped = train_grouped.reset_index() # to make DOC_ID appear in every single row\n",
    "train_grouped"
   ]
  },
  {
   "cell_type": "code",
   "execution_count": 214,
   "metadata": {},
   "outputs": [
    {
     "data": {
      "text/plain": [
       "(189500, 4)"
      ]
     },
     "execution_count": 214,
     "metadata": {},
     "output_type": "execute_result"
    }
   ],
   "source": [
    "train_grouped.shape # shape is reduced\n"
   ]
  },
  {
   "cell_type": "markdown",
   "metadata": {},
   "source": [
    "### Save Training Data as .txt File"
   ]
  },
  {
   "cell_type": "code",
   "execution_count": 215,
   "metadata": {},
   "outputs": [],
   "source": [
    "np.savetxt(TRAINING_DATA_FILE, train_grouped, fmt='%d')"
   ]
  },
  {
   "cell_type": "code",
   "execution_count": 216,
   "metadata": {},
   "outputs": [
    {
     "data": {
      "text/plain": [
       "Index(['DOC_ID', 'WORD_ID', 'LABEL', 'OCCURENCE'], dtype='object')"
      ]
     },
     "execution_count": 216,
     "metadata": {},
     "output_type": "execute_result"
    }
   ],
   "source": [
    "train_grouped.columns"
   ]
  },
  {
   "cell_type": "markdown",
   "metadata": {},
   "source": [
    "### Create a Sparse Matrix for the Testing Data\n",
    "And then saving it as txt file"
   ]
  },
  {
   "cell_type": "code",
   "execution_count": 217,
   "metadata": {},
   "outputs": [
    {
     "name": "stdout",
     "output_type": "stream",
     "text": [
      "Wall time: 45.6 s\n"
     ]
    }
   ],
   "source": [
    "%%time\n",
    "sparse_test_df = make_sparse_matrix(X_test, word_index, y_test)"
   ]
  },
  {
   "cell_type": "code",
   "execution_count": 218,
   "metadata": {},
   "outputs": [
    {
     "data": {
      "text/plain": [
       "(129739, 4)"
      ]
     },
     "execution_count": 218,
     "metadata": {},
     "output_type": "execute_result"
    }
   ],
   "source": [
    "sparse_test_df.shape"
   ]
  },
  {
   "cell_type": "code",
   "execution_count": 219,
   "metadata": {},
   "outputs": [
    {
     "data": {
      "text/html": [
       "<div>\n",
       "<style scoped>\n",
       "    .dataframe tbody tr th:only-of-type {\n",
       "        vertical-align: middle;\n",
       "    }\n",
       "\n",
       "    .dataframe tbody tr th {\n",
       "        vertical-align: top;\n",
       "    }\n",
       "\n",
       "    .dataframe thead th {\n",
       "        text-align: right;\n",
       "    }\n",
       "</style>\n",
       "<table border=\"1\" class=\"dataframe\">\n",
       "  <thead>\n",
       "    <tr style=\"text-align: right;\">\n",
       "      <th></th>\n",
       "      <th>DOC_ID</th>\n",
       "      <th>WORD_ID</th>\n",
       "      <th>LABEL</th>\n",
       "      <th>OCCURENCE</th>\n",
       "    </tr>\n",
       "  </thead>\n",
       "  <tbody>\n",
       "    <tr>\n",
       "      <td>0</td>\n",
       "      <td>6</td>\n",
       "      <td>0</td>\n",
       "      <td>1</td>\n",
       "      <td>2</td>\n",
       "    </tr>\n",
       "    <tr>\n",
       "      <td>1</td>\n",
       "      <td>6</td>\n",
       "      <td>4</td>\n",
       "      <td>1</td>\n",
       "      <td>1</td>\n",
       "    </tr>\n",
       "    <tr>\n",
       "      <td>2</td>\n",
       "      <td>6</td>\n",
       "      <td>10</td>\n",
       "      <td>1</td>\n",
       "      <td>1</td>\n",
       "    </tr>\n",
       "    <tr>\n",
       "      <td>3</td>\n",
       "      <td>6</td>\n",
       "      <td>12</td>\n",
       "      <td>1</td>\n",
       "      <td>1</td>\n",
       "    </tr>\n",
       "    <tr>\n",
       "      <td>4</td>\n",
       "      <td>6</td>\n",
       "      <td>14</td>\n",
       "      <td>1</td>\n",
       "      <td>1</td>\n",
       "    </tr>\n",
       "  </tbody>\n",
       "</table>\n",
       "</div>"
      ],
      "text/plain": [
       "   DOC_ID  WORD_ID  LABEL  OCCURENCE\n",
       "0       6        0      1          2\n",
       "1       6        4      1          1\n",
       "2       6       10      1          1\n",
       "3       6       12      1          1\n",
       "4       6       14      1          1"
      ]
     },
     "execution_count": 219,
     "metadata": {},
     "output_type": "execute_result"
    }
   ],
   "source": [
    "test_grouped = sparse_test_df.groupby(['DOC_ID', 'WORD_ID', 'LABEL']).sum().reset_index() # summing occurence\n",
    "test_grouped.head()"
   ]
  },
  {
   "cell_type": "code",
   "execution_count": 220,
   "metadata": {},
   "outputs": [
    {
     "data": {
      "text/plain": [
       "(81338, 4)"
      ]
     },
     "execution_count": 220,
     "metadata": {},
     "output_type": "execute_result"
    }
   ],
   "source": [
    "test_grouped.shape # size reduced"
   ]
  },
  {
   "cell_type": "code",
   "execution_count": 221,
   "metadata": {},
   "outputs": [],
   "source": [
    "np.savetxt(TEST_DATA_FILE, test_grouped, fmt='%d') # saving file as txt"
   ]
  },
  {
   "cell_type": "markdown",
   "metadata": {},
   "source": [
    "### Pre-Processing Subtleties and Checking your Understanding\n",
    "Challenge: We started with 5796 emails. We split it into 4057 emails for training and 1739 emails for testing.\n",
    "\n",
    "How many individual emails were included in the testing .txt file? Count the number in the test_grouped DataFrame. After splitting and shuffling our data, how many emails were included in the X_test DataFrame? Is the number the same? If not, which emails were excluded and why? Compare the DOC_ID values to find out."
   ]
  },
  {
   "cell_type": "code",
   "execution_count": 222,
   "metadata": {},
   "outputs": [],
   "source": [
    "train_doc_ids = set(train_grouped.DOC_ID)\n",
    "test_doc_ids = set(test_grouped.DOC_ID)"
   ]
  },
  {
   "cell_type": "code",
   "execution_count": 223,
   "metadata": {},
   "outputs": [
    {
     "data": {
      "text/plain": [
       "1310"
      ]
     },
     "execution_count": 223,
     "metadata": {},
     "output_type": "execute_result"
    }
   ],
   "source": [
    "len(test_doc_ids)"
   ]
  },
  {
   "cell_type": "code",
   "execution_count": 224,
   "metadata": {},
   "outputs": [
    {
     "data": {
      "text/plain": [
       "1320"
      ]
     },
     "execution_count": 224,
     "metadata": {},
     "output_type": "execute_result"
    }
   ],
   "source": [
    "len(X_test)"
   ]
  },
  {
   "cell_type": "code",
   "execution_count": 225,
   "metadata": {},
   "outputs": [
    {
     "data": {
      "text/plain": [
       "{73, 134, 179, 205, 240, 274, 298, 402, 439, 471}"
      ]
     },
     "execution_count": 225,
     "metadata": {},
     "output_type": "execute_result"
    }
   ],
   "source": [
    "set(X_test.index.values) - test_doc_ids # Excluded emails after pre-processing"
   ]
  },
  {
   "cell_type": "code",
   "execution_count": 226,
   "metadata": {},
   "outputs": [
    {
     "data": {
      "text/plain": [
       "'------=_NextPart_000_00E3_67D27D5C.B1748B87\\n\\nContent-Type: text/plain; charset=\"iso-8859-1\"\\n\\nContent-Transfer-Encoding: base64\\n\\n\\n\\n\\n\\nR2V0IGFjY2VzcyB0byB0aGUgbGFyZ2VzdCBmcmVlIGFkdWx0IHNpdGUgb24g\\n\\ndGhlIG5ldC4NCg0KaHR0cDovL3d3dy5teWZyZWVhZHVsdHBheXNpdGUuY29t\\n\\nL2ZyZWVzaXRlLmh0bWwNCjM4NjJ5VVJQOC03OTdoam9qNzY2MHhubFk5LTY1\\n\\nMVBGWFIyOTYzS2tBaDYtMzgya0tLUDQxN2w1MQ==\\n\\n\\n\\n\\n'"
      ]
     },
     "execution_count": 226,
     "metadata": {},
     "output_type": "execute_result"
    }
   ],
   "source": [
    "data.MESSAGE[471] # because these have jibrish text"
   ]
  },
  {
   "cell_type": "code",
   "execution_count": 227,
   "metadata": {},
   "outputs": [
    {
     "data": {
      "text/plain": [
       "MESSAGE      ------=_NextPart_000_00E3_67D27D5C.B1748B87\\n\\...\n",
       "CATEGORY                                                     1\n",
       "FILE_NAME               00472.713268dfca421e165c1ac59bab045e00\n",
       "Name: 471, dtype: object"
      ]
     },
     "execution_count": 227,
     "metadata": {},
     "output_type": "execute_result"
    }
   ],
   "source": [
    "data.loc[471]"
   ]
  },
  {
   "cell_type": "code",
   "execution_count": 228,
   "metadata": {},
   "outputs": [
    {
     "data": {
      "text/plain": [
       "['lowest',\n",
       " 'rate',\n",
       " 'servic',\n",
       " 'conferenc',\n",
       " 'easi',\n",
       " 'cent',\n",
       " 'per',\n",
       " 'minut',\n",
       " 'includ',\n",
       " 'long',\n",
       " 'distanc',\n",
       " 'setup',\n",
       " 'fee',\n",
       " 'contract',\n",
       " 'monthli',\n",
       " 'fee',\n",
       " 'call',\n",
       " 'anytim',\n",
       " 'anywher',\n",
       " 'anywher',\n",
       " 'connect',\n",
       " 'particip',\n",
       " 'simplic',\n",
       " 'set',\n",
       " 'administr',\n",
       " 'oper',\n",
       " 'help',\n",
       " 'avail',\n",
       " 'highest',\n",
       " 'qualiti',\n",
       " 'servic',\n",
       " 'lowest',\n",
       " 'rate',\n",
       " 'industri',\n",
       " 'fill',\n",
       " 'form',\n",
       " 'low',\n",
       " 'find',\n",
       " 'lower',\n",
       " 'phone',\n",
       " 'bill',\n",
       " 'everi',\n",
       " 'requir',\n",
       " 'input',\n",
       " 'web',\n",
       " 'address',\n",
       " 'compani',\n",
       " 'busi',\n",
       " 'home',\n",
       " 'phone',\n",
       " 'email',\n",
       " 'type',\n",
       " 'busi',\n",
       " 'remov',\n",
       " 'distribut',\n",
       " 'list',\n",
       " 'pleas',\n",
       " 'click']"
      ]
     },
     "execution_count": 228,
     "metadata": {},
     "output_type": "execute_result"
    }
   ],
   "source": [
    "clean_msg_no_html(data.at[14, 'MESSAGE'])"
   ]
  },
  {
   "cell_type": "code",
   "execution_count": null,
   "metadata": {},
   "outputs": [],
   "source": []
  },
  {
   "cell_type": "code",
   "execution_count": null,
   "metadata": {},
   "outputs": [],
   "source": []
  }
 ],
 "metadata": {
  "kernelspec": {
   "display_name": "Python 3",
   "language": "python",
   "name": "python3"
  },
  "language_info": {
   "codemirror_mode": {
    "name": "ipython",
    "version": 3
   },
   "file_extension": ".py",
   "mimetype": "text/x-python",
   "name": "python",
   "nbconvert_exporter": "python",
   "pygments_lexer": "ipython3",
   "version": "3.7.4"
  }
 },
 "nbformat": 4,
 "nbformat_minor": 2
}
