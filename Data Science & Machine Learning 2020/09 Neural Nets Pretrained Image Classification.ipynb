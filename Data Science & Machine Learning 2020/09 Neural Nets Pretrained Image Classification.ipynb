{
 "cells": [
  {
   "cell_type": "markdown",
   "metadata": {
    "colab_type": "text",
    "id": "WnAa-QR1oeL4"
   },
   "source": [
    "# Imports"
   ]
  },
  {
   "cell_type": "code",
   "execution_count": 1,
   "metadata": {
    "colab": {},
    "colab_type": "code",
    "id": "d6NRfj76ojE8"
   },
   "outputs": [
    {
     "ename": "ModuleNotFoundError",
     "evalue": "No module named 'tensorflow'",
     "output_type": "error",
     "traceback": [
      "\u001b[1;31m---------------------------------------------------------------------------\u001b[0m",
      "\u001b[1;31mModuleNotFoundError\u001b[0m                       Traceback (most recent call last)",
      "\u001b[1;32m<ipython-input-1-8aa58b70afd1>\u001b[0m in \u001b[0;36m<module>\u001b[1;34m\u001b[0m\n\u001b[0;32m      1\u001b[0m \u001b[1;32mimport\u001b[0m \u001b[0mnumpy\u001b[0m \u001b[1;32mas\u001b[0m \u001b[0mnp\u001b[0m\u001b[1;33m\u001b[0m\u001b[1;33m\u001b[0m\u001b[0m\n\u001b[1;32m----> 2\u001b[1;33m \u001b[1;32mimport\u001b[0m \u001b[0mtensorflow\u001b[0m \u001b[1;32mas\u001b[0m \u001b[0mtf\u001b[0m\u001b[1;33m\u001b[0m\u001b[1;33m\u001b[0m\u001b[0m\n\u001b[0m\u001b[0;32m      3\u001b[0m \u001b[1;32mimport\u001b[0m \u001b[0mkeras\u001b[0m\u001b[1;33m\u001b[0m\u001b[1;33m\u001b[0m\u001b[0m\n\u001b[0;32m      4\u001b[0m \u001b[1;33m\u001b[0m\u001b[0m\n\u001b[0;32m      5\u001b[0m \u001b[1;32mfrom\u001b[0m \u001b[0mkeras\u001b[0m\u001b[1;33m.\u001b[0m\u001b[0mpreprocessing\u001b[0m\u001b[1;33m.\u001b[0m\u001b[0mimage\u001b[0m \u001b[1;32mimport\u001b[0m \u001b[0mimg_to_array\u001b[0m\u001b[1;33m,\u001b[0m \u001b[0mload_img\u001b[0m\u001b[1;33m\u001b[0m\u001b[1;33m\u001b[0m\u001b[0m\n",
      "\u001b[1;31mModuleNotFoundError\u001b[0m: No module named 'tensorflow'"
     ]
    }
   ],
   "source": [
    "# Tensorflow will do the calculation\n",
    "# Keras will provide the neural network\n",
    "# For tensorflow to do it's calculation, it has to organize the computation. By putting all the computation into a graph \n",
    "# inception_model.graph = tf.get_default_graph()\n",
    "\n",
    "\n",
    "import numpy as np\n",
    "import tensorflow as tf\n",
    "import keras\n",
    "\n",
    "from keras.preprocessing.image import img_to_array, load_img\n",
    "from keras.applications.inception_resnet_v2 import InceptionResNetV2, decode_predictions, preprocess_input\n",
    "\n",
    "from IPython.core.display import display\n",
    "\n",
    "from keras.applications.vgg19 import VGG19\n",
    "from keras.applications.vgg19 import preprocess_input as preprocess_input_vgg19\n",
    "from keras.applications.vgg19 import decode_predictions as decode_vgg19"
   ]
  },
  {
   "cell_type": "markdown",
   "metadata": {
    "colab_type": "text",
    "id": "hinQ_rUorEsO"
   },
   "source": [
    "# Constants"
   ]
  },
  {
   "cell_type": "code",
   "execution_count": null,
   "metadata": {
    "colab": {},
    "colab_type": "code",
    "id": "hC6dpJAhpSta"
   },
   "outputs": [],
   "source": [
    "FILE_1 = '01 Umbrella.jpg'\n",
    "FILE_2 = '02 Couple.jpg'\n",
    "FILE_3 = '03 Ocean.jpg'"
   ]
  },
  {
   "cell_type": "markdown",
   "metadata": {
    "colab_type": "text",
    "id": "sEuNV70OrSyD"
   },
   "source": [
    "# Preprocessing Images"
   ]
  },
  {
   "cell_type": "code",
   "execution_count": null,
   "metadata": {
    "colab": {
     "base_uri": "https://localhost:8080/",
     "height": 316
    },
    "colab_type": "code",
    "id": "l_1UMxiYoEcq",
    "outputId": "ae0e39ce-1903-4c22-de55-f436c9f3ad1b"
   },
   "outputs": [],
   "source": [
    "pic = load_img(FILE_1, target_size=(299, 299))\n",
    "display(pic)"
   ]
  },
  {
   "cell_type": "code",
   "execution_count": null,
   "metadata": {
    "colab": {
     "base_uri": "https://localhost:8080/",
     "height": 34
    },
    "colab_type": "code",
    "id": "U3UxVTLCug_5",
    "outputId": "d8d30f15-f784-4d78-bece-836f50f85b8d"
   },
   "outputs": [],
   "source": [
    "pic_array = img_to_array(pic)\n",
    "pic_array.shape"
   ]
  },
  {
   "cell_type": "code",
   "execution_count": null,
   "metadata": {
    "colab": {
     "base_uri": "https://localhost:8080/",
     "height": 34
    },
    "colab_type": "code",
    "id": "KRpYb_1zc89Z",
    "outputId": "9cc32c30-9636-4d21-dcb6-d0f857ec1fac"
   },
   "outputs": [],
   "source": [
    "expanded = np.expand_dims(pic_array, axis=0)\n",
    "expanded.shape"
   ]
  },
  {
   "cell_type": "code",
   "execution_count": null,
   "metadata": {
    "colab": {},
    "colab_type": "code",
    "id": "iAoyAFSPdhkO"
   },
   "outputs": [],
   "source": [
    "preprocessed = preprocess_input(expanded)"
   ]
  },
  {
   "cell_type": "markdown",
   "metadata": {
    "colab_type": "text",
    "id": "m2gD7R4JhWSO"
   },
   "source": [
    "**Challenge:** Create a function called ```format_img_inceptionresnet()``` that takes a filename as an argument. The function needs to load the image in the default resolution for InceptionResNetv2, convert the image to an array and return the preprocessed image for the InceptionResNetv2 model. "
   ]
  },
  {
   "cell_type": "code",
   "execution_count": null,
   "metadata": {
    "colab": {},
    "colab_type": "code",
    "id": "v5rRYOWjjFrS"
   },
   "outputs": [],
   "source": [
    "def format_img_inceptionresnet(filename):\n",
    "  pic = load_img(filename, target_size=(299,299))\n",
    "  pic_arr = img_to_array(pic)\n",
    "  expanded = np.expand_dims(pic_arr, axis=0)\n",
    "  return preprocess_input(expanded)"
   ]
  },
  {
   "cell_type": "code",
   "execution_count": null,
   "metadata": {
    "colab": {},
    "colab_type": "code",
    "id": "CkYkVjFtqpIG"
   },
   "outputs": [],
   "source": [
    "def format_img_vgg19(filename):\n",
    "  pic = load_img(filename, target_size=(224,224))\n",
    "  pic_arr = img_to_array(pic)\n",
    "#   expanded = np.expand_dims(pic_arr, axis=0)\n",
    "  expanded = pic_arr.reshape(1, pic_arr.shape[0], pic_arr.shape[1], pic_arr.shape[2])\n",
    "  return preprocess_input_vgg19(expanded)"
   ]
  },
  {
   "cell_type": "markdown",
   "metadata": {
    "colab_type": "text",
    "id": "hILeQtmTzyWv"
   },
   "source": [
    "# Load InceptionResNet"
   ]
  },
  {
   "cell_type": "code",
   "execution_count": null,
   "metadata": {
    "colab": {
     "base_uri": "https://localhost:8080/",
     "height": 154
    },
    "colab_type": "code",
    "id": "qrug1XPDuuNC",
    "outputId": "439b7875-fac5-4237-b4a9-e27d43840e7b"
   },
   "outputs": [],
   "source": [
    "%%time\n",
    "\n",
    "inception_model = InceptionResNetV2(weights='imagenet')"
   ]
  },
  {
   "cell_type": "code",
   "execution_count": null,
   "metadata": {
    "colab": {},
    "colab_type": "code",
    "id": "1vY-iNec0Ncg"
   },
   "outputs": [],
   "source": [
    "inception_model.graph = tf.get_default_graph()"
   ]
  },
  {
   "cell_type": "markdown",
   "metadata": {
    "colab_type": "text",
    "id": "SPiAWaQ1bXWT"
   },
   "source": [
    "# Making Predictions"
   ]
  },
  {
   "cell_type": "code",
   "execution_count": null,
   "metadata": {
    "colab": {
     "base_uri": "https://localhost:8080/",
     "height": 101
    },
    "colab_type": "code",
    "id": "8ck3IK6T161p",
    "outputId": "d56aff33-0b04-42a8-e7a1-282e4ab67d84"
   },
   "outputs": [],
   "source": [
    "prediction = inception_model.predict(preprocessed)\n",
    "decode_predictions(prediction)"
   ]
  },
  {
   "cell_type": "code",
   "execution_count": null,
   "metadata": {
    "colab": {
     "base_uri": "https://localhost:8080/",
     "height": 400
    },
    "colab_type": "code",
    "id": "nPL0u9c1b79H",
    "outputId": "1df4349a-9080-4e57-e931-db2e0958b341"
   },
   "outputs": [],
   "source": [
    "data = format_img_inceptionresnet('04 Horse.jpg')\n",
    "prediction = inception_model.predict(data)\n",
    "display(load_img('04 Horse.jpg'))\n",
    "decode_predictions(prediction)"
   ]
  },
  {
   "cell_type": "markdown",
   "metadata": {
    "colab_type": "text",
    "id": "iuLK-fUCpN8Y"
   },
   "source": [
    "# Testing the VGG19 Model"
   ]
  },
  {
   "cell_type": "markdown",
   "metadata": {
    "colab_type": "text",
    "id": "Zbdn5KVKpf0u"
   },
   "source": [
    "**Challenge:** Use the VGG19 Model from Keras with the ImageNet weights to make a prediction on several of the sample images. Load the model into the notebook. Process the data for VGG19. Then make a prediction. Look at the documentation for hints. "
   ]
  },
  {
   "cell_type": "code",
   "execution_count": null,
   "metadata": {
    "colab": {
     "base_uri": "https://localhost:8080/",
     "height": 70
    },
    "colab_type": "code",
    "id": "wfUQ5j1Xpe0c",
    "outputId": "2c4dab92-d3b1-46da-f3a2-a7ca32b54f19"
   },
   "outputs": [],
   "source": [
    "vgg19_model = VGG19()"
   ]
  },
  {
   "cell_type": "code",
   "execution_count": null,
   "metadata": {
    "colab": {
     "base_uri": "https://localhost:8080/",
     "height": 357
    },
    "colab_type": "code",
    "id": "q2FPrzeMkSJk",
    "outputId": "7a31dadd-372f-467e-e490-d2ef48d5e95e"
   },
   "outputs": [],
   "source": [
    "data = format_img_vgg19(FILE_3)\n",
    "pred = vgg19_model.predict(data)\n",
    "display(load_img(FILE_3))\n",
    "decode_vgg19(pred)"
   ]
  },
  {
   "cell_type": "code",
   "execution_count": null,
   "metadata": {
    "colab": {
     "base_uri": "https://localhost:8080/",
     "height": 400
    },
    "colab_type": "code",
    "id": "WRZsFAn-wYwM",
    "outputId": "f90e6e3c-4a44-4267-826b-0f58a0ab2666"
   },
   "outputs": [],
   "source": [
    "data = format_img_vgg19('04 Horse.jpg')\n",
    "pred = vgg19_model.predict(data)\n",
    "display(load_img('04 Horse.jpg'))\n",
    "decode_vgg19(pred)"
   ]
  },
  {
   "cell_type": "code",
   "execution_count": null,
   "metadata": {
    "colab": {},
    "colab_type": "code",
    "id": "BNzr8tiwxS9b"
   },
   "outputs": [],
   "source": []
  }
 ],
 "metadata": {
  "colab": {
   "name": "09 Neural Nets - Pretrained Image Classification.ipynb",
   "provenance": [],
   "toc_visible": true,
   "version": "0.3.2"
  },
  "kernelspec": {
   "display_name": "Python 3",
   "language": "python",
   "name": "python3"
  },
  "language_info": {
   "codemirror_mode": {
    "name": "ipython",
    "version": 3
   },
   "file_extension": ".py",
   "mimetype": "text/x-python",
   "name": "python",
   "nbconvert_exporter": "python",
   "pygments_lexer": "ipython3",
   "version": "3.7.4"
  }
 },
 "nbformat": 4,
 "nbformat_minor": 1
}
